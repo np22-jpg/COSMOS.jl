{
 "cells": [
  {
   "cell_type": "markdown",
   "metadata": {},
   "source": [
    "Printing hello world"
   ]
  },
  {
   "cell_type": "code",
   "execution_count": 1,
   "metadata": {},
   "outputs": [
    {
     "name": "stdout",
     "output_type": "stream",
     "text": [
      "Hello world!\n"
     ]
    }
   ],
   "source": [
    "print(\"Hello world!\\n\")"
   ]
  },
  {
   "cell_type": "markdown",
   "metadata": {},
   "source": [
    "Adding two numbers"
   ]
  },
  {
   "cell_type": "code",
   "execution_count": 2,
   "metadata": {},
   "outputs": [
    {
     "name": "stdout",
     "output_type": "stream",
     "text": [
      "Enter x: \n",
      "\n",
      "Enter y: \n",
      "\n"
     ]
    },
    {
     "data": {
      "text/plain": [
       "4"
      ]
     },
     "metadata": {},
     "output_type": "display_data"
    }
   ],
   "source": [
    "# julia cannot take inputs from jupyter, assign variables \"normally\"\n",
    "\n",
    "x = 1\n",
    "y = 3\n",
    "\n",
    "println(\"Enter x: \\n\")\n",
    "# x = readlines()\n",
    "println(\"Enter y: \\n\")\n",
    "# y = readlines()\n",
    "x + y"
   ]
  },
  {
   "cell_type": "markdown",
   "metadata": {},
   "source": [
    "Count ten non-negative even integers"
   ]
  },
  {
   "cell_type": "code",
   "execution_count": 3,
   "metadata": {},
   "outputs": [
    {
     "name": "stdout",
     "output_type": "stream",
     "text": [
      "1\n",
      "2\n",
      "3\n",
      "4\n",
      "5\n",
      "6\n",
      "7\n",
      "8\n",
      "9\n",
      "10\n"
     ]
    }
   ],
   "source": [
    "for i in 1:10\n",
    "    println(i)\n",
    "end"
   ]
  },
  {
   "cell_type": "markdown",
   "metadata": {},
   "source": [
    "Compare 2 values to see which is better"
   ]
  },
  {
   "cell_type": "code",
   "execution_count": 4,
   "metadata": {},
   "outputs": [
    {
     "data": {
      "text/plain": [
       "\"y is larger\""
      ]
     },
     "metadata": {},
     "output_type": "display_data"
    }
   ],
   "source": [
    "# ditto\n",
    "x = 5\n",
    "y = 6\n",
    "\n",
    "if x > y\n",
    "    return \"x is larger\"\n",
    "elseif x == y\n",
    "    return \"both are equal\"\n",
    "else\n",
    "    return \"y is larger\"\n",
    "end"
   ]
  },
  {
   "cell_type": "markdown",
   "metadata": {},
   "source": [
    "*ADDITIONAL ACTIVITIES*"
   ]
  },
  {
   "cell_type": "code",
   "execution_count": 5,
   "metadata": {},
   "outputs": [
    {
     "ename": "ErrorException",
     "evalue": "syntax: invalid syntax \"1./\"; add space(s) to clarify",
     "output_type": "error",
     "traceback": [
      "syntax: invalid syntax \"1./\"; add space(s) to clarify\n",
      "\n",
      "Stacktrace:\n",
      " [1] top-level scope\n",
      "   @ ~/COSMOS.jl/lab1.ipynb:2"
     ]
    }
   ],
   "source": [
    "# 2\n",
    "x::Float64 = 1./2 # As it turns out, Julia is a little smarter than C when it comes to clarity\n",
    "print(x)\n",
    "x = 1/2\n",
    "print(x)"
   ]
  },
  {
   "cell_type": "code",
   "execution_count": 6,
   "metadata": {},
   "outputs": [
    {
     "data": {
      "text/plain": [
       "quadratic (generic function with 1 method)"
      ]
     },
     "metadata": {},
     "output_type": "display_data"
    }
   ],
   "source": [
    "# 3\n",
    "# regarding scanning in, ditto\n",
    "# i tells whether or not to give the positive (1) or negative (2) result\n",
    "\n",
    "function quadratic(a, b, c, i::Int64)\n",
    "    discrim::Int64 = (b^2) - 4 * a * c\n",
    "\n",
    "    if discrim > 0\n",
    "        ans = zeros(Float64, 2)\n",
    "        # quadratic equation gives 2 solutions\n",
    "        ans[1] = -b + sqrt((b^2) - (4 * a * c)) / (2 * a)\n",
    "        ans[2] = -b - sqrt((b^2) - (4 * a * c)) / (2 * a)\n",
    "        \n",
    "        ans[i]\n",
    "    elseif discrim == 0\n",
    "        ans = -b / (2 * a)\n",
    "    else\n",
    "        ans = zeros(ComplexF64, 2)\n",
    "        # quadratic equation gives 2 solutions\n",
    "        ans[1] = -b + sqrt(Complex((b^2) - (4 * a * c))) / (2 * a)\n",
    "        ans[2] = -b - sqrt(Complex((b^2) - (4 * a * c))) / (2 * a)\n",
    "\n",
    "        ans[i]\n",
    "    end\n",
    "end"
   ]
  },
  {
   "cell_type": "code",
   "execution_count": 7,
   "metadata": {},
   "outputs": [
    {
     "name": "stdout",
     "output_type": "stream",
     "text": [
      "-2.0 - 0.4im\n",
      "-2.0 + 0.4im\n"
     ]
    },
    {
     "name": "stdout",
     "output_type": "stream",
     "text": [
      "-10.894427190999917\n",
      "-9.105572809000083\n"
     ]
    }
   ],
   "source": [
    "println(quadratic(5,2,1,2))\n",
    "println(quadratic(5,2,1,1))\n",
    "\n",
    "println(quadratic(5,10,1,2))\n",
    "println(quadratic(5,10,1,1))"
   ]
  },
  {
   "cell_type": "code",
   "execution_count": 8,
   "metadata": {},
   "outputs": [
    {
     "ename": "InterruptException",
     "evalue": "InterruptException:",
     "output_type": "error",
     "traceback": [
      "InterruptException:\n",
      "\n",
      "Stacktrace:\n",
      "  [1] process_latexify(args::ComplexF64; kwargs::Base.Pairs{Symbol, Union{}, Tuple{}, NamedTuple{(), Tuple{}}})\n",
      "    @ Latexify ~/.julia/packages/Latexify/9YjvN/src/latexify_function.jl:49\n",
      "  [2] process_latexify\n",
      "    @ ~/.julia/packages/Latexify/9YjvN/src/latexify_function.jl:40 [inlined]\n",
      "  [3] latexify(args::ComplexF64; kwargs::Base.Pairs{Symbol, Union{}, Tuple{}, NamedTuple{(), Tuple{}}})\n",
      "    @ Latexify ~/.julia/packages/Latexify/9YjvN/src/latexify_function.jl:27\n",
      "  [4] latexify(args::ComplexF64)\n",
      "    @ Latexify ~/.julia/packages/Latexify/9YjvN/src/latexify_function.jl:25\n",
      "  [5] eval\n",
      "    @ ./boot.jl:368 [inlined]\n",
      "  [6] include_string(mapexpr::typeof(REPL.softscope), mod::Module, code::String, filename::String)\n",
      "    @ Base ./loading.jl:1428\n",
      "  [7] #invokelatest#2\n",
      "    @ ./essentials.jl:729 [inlined]\n",
      "  [8] invokelatest\n",
      "    @ ./essentials.jl:726 [inlined]\n",
      "  [9] (::VSCodeServer.var\"#198#199\"{VSCodeServer.NotebookRunCellArguments, String})()\n",
      "    @ VSCodeServer ~/.vscode/extensions/julialang.language-julia-insider-1.6.29/scripts/packages/VSCodeServer/src/serve_notebook.jl:19\n",
      " [10] withpath(f::VSCodeServer.var\"#198#199\"{VSCodeServer.NotebookRunCellArguments, String}, path::String)\n",
      "    @ VSCodeServer ~/.vscode/extensions/julialang.language-julia-insider-1.6.29/scripts/packages/VSCodeServer/src/repl.jl:249\n",
      " [11] notebook_runcell_request(conn::VSCodeServer.JSONRPC.JSONRPCEndpoint{Base.PipeEndpoint, Base.PipeEndpoint}, params::VSCodeServer.NotebookRunCellArguments)\n",
      "    @ VSCodeServer ~/.vscode/extensions/julialang.language-julia-insider-1.6.29/scripts/packages/VSCodeServer/src/serve_notebook.jl:13\n",
      " [12] dispatch_msg(x::VSCodeServer.JSONRPC.JSONRPCEndpoint{Base.PipeEndpoint, Base.PipeEndpoint}, dispatcher::VSCodeServer.JSONRPC.MsgDispatcher, msg::Dict{String, Any})\n",
      "    @ VSCodeServer.JSONRPC ~/.vscode/extensions/julialang.language-julia-insider-1.6.29/scripts/packages/JSONRPC/src/typed.jl:67\n",
      " [13] serve_notebook(pipename::String, outputchannel_logger::Base.CoreLogging.SimpleLogger; crashreporting_pipename::String)\n",
      "    @ VSCodeServer ~/.vscode/extensions/julialang.language-julia-insider-1.6.29/scripts/packages/VSCodeServer/src/serve_notebook.jl:139\n",
      " [14] top-level scope\n",
      "    @ ~/.vscode/extensions/julialang.language-julia-insider-1.6.29/scripts/notebook/notebook.jl:32"
     ]
    }
   ],
   "source": [
    "# bonus round: latexify\n",
    "using Latexify\n",
    "latexify(quadratic(5,2,1,1))"
   ]
  },
  {
   "cell_type": "code",
   "execution_count": 9,
   "metadata": {},
   "outputs": [
    {
     "data": {
      "text/plain": [
       "telldiscrim (generic function with 2 methods)"
      ]
     },
     "metadata": {},
     "output_type": "display_data"
    }
   ],
   "source": [
    "# bonus round 2: tell if the discriminant is positive or negative with the power of multiple dispatch\n",
    "\n",
    "function telldiscrim(discrim::ComplexF64)\n",
    "    println(\"negative\")\n",
    "end\n",
    "\n",
    "function telldiscrim(discrim::Float64)\n",
    "    println(\"positive or greater than 0\")\n",
    "end"
   ]
  },
  {
   "cell_type": "code",
   "execution_count": 10,
   "metadata": {},
   "outputs": [
    {
     "name": "stdout",
     "output_type": "stream",
     "text": [
      "positive or greater than 0\n",
      "negative\n"
     ]
    }
   ],
   "source": [
    "telldiscrim(quadratic(1,5,1,2))\n",
    "telldiscrim(quadratic(5,2,3,2))"
   ]
  },
  {
   "cell_type": "code",
   "execution_count": 1,
   "metadata": {},
   "outputs": [
    {
     "name": "stdout",
     "output_type": "stream",
     "text": [
      "x = start:stop = -10:10\n",
      "y = polynomial(a, b, c, start, stop, step) = [180.0, 87.0, 4.0, -69.0, -132.0, -185.0, -228.0, -261.0, -284.0, -297.0, -300.0, -293.0, -276.0, -249.0, -212.0, -165.0, -108.0, -41.0, 36.0, 123.0, 220.0]\n",
      "  0.052673 seconds (207.73 k allocations: 10.745 MiB, 99.69% compilation time)\n"
     ]
    },
    {
     "data": {
      "image/png": "[encoded data removed]",
      "image/svg+xml": "<?xml version=\"1.0\" encoding=\"utf-8\"?>\n<svg xmlns=\"http://www.w3.org/2000/svg\" xmlns:xlink=\"http://www.w3.org/1999/xlink\" width=\"600\" height=\"400\" viewBox=\"0 0 2400 1600\">\n<defs>\n  <clipPath id=\"clip410\">\n    <rect x=\"0\" y=\"0\" width=\"2400\" height=\"1600\"/>\n  </clipPath>\n</defs>\n<path clip-path=\"url(#clip410)\" d=\"\nM0 1600 L2400 1600 L2400 0 L0 0  Z\n  \" fill=\"#ffffff\" fill-rule=\"evenodd\" fill-opacity=\"1\"/>\n<defs>\n  <clipPath id=\"clip411\">\n    <rect x=\"480\" y=\"0\" width=\"1681\" height=\"1600\"/>\n  </clipPath>\n</defs>\n<path clip-path=\"url(#clip410)\" d=\"\nM209.029 1486.45 L2352.76 1486.45 L2352.76 47.2441 L209.029 47.2441  Z\n  \" fill=\"#ffffff\" fill-rule=\"evenodd\" fill-opacity=\"1\"/>\n<defs>\n  <clipPath id=\"clip412\">\n    <rect x=\"209\" y=\"47\" width=\"2145\" height=\"1440\"/>\n  </clipPath>\n</defs>\n<polyline clip-path=\"url(#clip412)\" style=\"stroke:#000000; stroke-linecap:butt; stroke-linejoin:round; stroke-width:2; stroke-opacity:0.1; fill:none\" points=\"\n  269.7,1486.45 269.7,47.2441 \n  \"/>\n<polyline clip-path=\"url(#clip412)\" style=\"stroke:#000000; stroke-linecap:butt; stroke-linejoin:round; stroke-width:2; stroke-opacity:0.1; fill:none\" points=\"\n  775.296,1486.45 775.296,47.2441 \n  \"/>\n<polyline clip-path=\"url(#clip412)\" style=\"stroke:#000000; stroke-linecap:butt; stroke-linejoin:round; stroke-width:2; stroke-opacity:0.1; fill:none\" points=\"\n  1280.89,1486.45 1280.89,47.2441 \n  \"/>\n<polyline clip-path=\"url(#clip412)\" style=\"stroke:#000000; stroke-linecap:butt; stroke-linejoin:round; stroke-width:2; stroke-opacity:0.1; fill:none\" points=\"\n  1786.49,1486.45 1786.49,47.2441 \n  \"/>\n<polyline clip-path=\"url(#clip412)\" style=\"stroke:#000000; stroke-linecap:butt; stroke-linejoin:round; stroke-width:2; stroke-opacity:0.1; fill:none\" points=\"\n  2292.08,1486.45 2292.08,47.2441 \n  \"/>\n<polyline clip-path=\"url(#clip410)\" style=\"stroke:#000000; stroke-linecap:butt; stroke-linejoin:round; stroke-width:4; stroke-opacity:1; fill:none\" points=\"\n  209.029,1486.45 2352.76,1486.45 \n  \"/>\n<polyline clip-path=\"url(#clip410)\" style=\"stroke:#000000; stroke-linecap:butt; stroke-linejoin:round; stroke-width:4; stroke-opacity:1; fill:none\" points=\"\n  269.7,1486.45 269.7,1467.55 \n  \"/>\n<polyline clip-path=\"url(#clip410)\" style=\"stroke:#000000; stroke-linecap:butt; stroke-linejoin:round; stroke-width:4; stroke-opacity:1; fill:none\" points=\"\n  775.296,1486.45 775.296,1467.55 \n  \"/>\n<polyline clip-path=\"url(#clip410)\" style=\"stroke:#000000; stroke-linecap:butt; stroke-linejoin:round; stroke-width:4; stroke-opacity:1; fill:none\" points=\"\n  1280.89,1486.45 1280.89,1467.55 \n  \"/>\n<polyline clip-path=\"url(#clip410)\" style=\"stroke:#000000; stroke-linecap:butt; stroke-linejoin:round; stroke-width:4; stroke-opacity:1; fill:none\" points=\"\n  1786.49,1486.45 1786.49,1467.55 \n  \"/>\n<polyline clip-path=\"url(#clip410)\" style=\"stroke:#000000; stroke-linecap:butt; stroke-linejoin:round; stroke-width:4; stroke-opacity:1; fill:none\" points=\"\n  2292.08,1486.45 2292.08,1467.55 \n  \"/>\n<path clip-path=\"url(#clip410)\" d=\"M223.763 1532.02 L253.439 1532.02 L253.439 1535.95 L223.763 1535.95 L223.763 1532.02 Z\" fill=\"#000000\" fill-rule=\"evenodd\" fill-opacity=\"1\" /><path clip-path=\"url(#clip410)\" d=\"M264.341 1544.91 L271.98 1544.91 L271.98 1518.55 L263.67 1520.21 L263.67 1515.95 L271.934 1514.29 L276.61 1514.29 L276.61 1544.91 L284.249 1544.91 L284.249 1548.85 L264.341 1548.85 L264.341 1544.91 Z\" fill=\"#000000\" fill-rule=\"evenodd\" fill-opacity=\"1\" /><path clip-path=\"url(#clip410)\" d=\"M303.693 1517.37 Q300.082 1517.37 298.253 1520.93 Q296.448 1524.47 296.448 1531.6 Q296.448 1538.71 298.253 1542.27 Q300.082 1545.82 303.693 1545.82 Q307.327 1545.82 309.133 1542.27 Q310.961 1538.71 310.961 1531.6 Q310.961 1524.47 309.133 1520.93 Q307.327 1517.37 303.693 1517.37 M303.693 1513.66 Q309.503 1513.66 312.559 1518.27 Q315.637 1522.85 315.637 1531.6 Q315.637 1540.33 312.559 1544.94 Q309.503 1549.52 303.693 1549.52 Q297.883 1549.52 294.804 1544.94 Q291.749 1540.33 291.749 1531.6 Q291.749 1522.85 294.804 1518.27 Q297.883 1513.66 303.693 1513.66 Z\" fill=\"#000000\" fill-rule=\"evenodd\" fill-opacity=\"1\" /><path clip-path=\"url(#clip410)\" d=\"M744.937 1532.02 L774.613 1532.02 L774.613 1535.95 L744.937 1535.95 L744.937 1532.02 Z\" fill=\"#000000\" fill-rule=\"evenodd\" fill-opacity=\"1\" /><path clip-path=\"url(#clip410)\" d=\"M784.752 1514.29 L803.108 1514.29 L803.108 1518.22 L789.034 1518.22 L789.034 1526.7 Q790.053 1526.35 791.072 1526.19 Q792.09 1526 793.109 1526 Q798.896 1526 802.275 1529.17 Q805.655 1532.34 805.655 1537.76 Q805.655 1543.34 802.183 1546.44 Q798.71 1549.52 792.391 1549.52 Q790.215 1549.52 787.947 1549.15 Q785.701 1548.78 783.294 1548.04 L783.294 1543.34 Q785.377 1544.47 787.599 1545.03 Q789.822 1545.58 792.298 1545.58 Q796.303 1545.58 798.641 1543.48 Q800.979 1541.37 800.979 1537.76 Q800.979 1534.15 798.641 1532.04 Q796.303 1529.94 792.298 1529.94 Q790.423 1529.94 788.548 1530.35 Q786.697 1530.77 784.752 1531.65 L784.752 1514.29 Z\" fill=\"#000000\" fill-rule=\"evenodd\" fill-opacity=\"1\" /><path clip-path=\"url(#clip410)\" d=\"M1280.89 1517.37 Q1277.28 1517.37 1275.45 1520.93 Q1273.65 1524.47 1273.65 1531.6 Q1273.65 1538.71 1275.45 1542.27 Q1277.28 1545.82 1280.89 1545.82 Q1284.53 1545.82 1286.33 1542.27 Q1288.16 1538.71 1288.16 1531.6 Q1288.16 1524.47 1286.33 1520.93 Q1284.53 1517.37 1280.89 1517.37 M1280.89 1513.66 Q1286.7 1513.66 1289.76 1518.27 Q1292.84 1522.85 1292.84 1531.6 Q1292.84 1540.33 1289.76 1544.94 Q1286.7 1549.52 1280.89 1549.52 Q1275.08 1549.52 1272 1544.94 Q1268.95 1540.33 1268.95 1531.6 Q1268.95 1522.85 1272 1518.27 Q1275.08 1513.66 1280.89 1513.66 Z\" fill=\"#000000\" fill-rule=\"evenodd\" fill-opacity=\"1\" /><path clip-path=\"url(#clip410)\" d=\"M1776.77 1514.29 L1795.12 1514.29 L1795.12 1518.22 L1781.05 1518.22 L1781.05 1526.7 Q1782.07 1526.35 1783.09 1526.19 Q1784.1 1526 1785.12 1526 Q1790.91 1526 1794.29 1529.17 Q1797.67 1532.34 1797.67 1537.76 Q1797.67 1543.34 1794.2 1546.44 Q1790.72 1549.52 1784.4 1549.52 Q1782.23 1549.52 1779.96 1549.15 Q1777.72 1548.78 1775.31 1548.04 L1775.31 1543.34 Q1777.39 1544.47 1779.61 1545.03 Q1781.84 1545.58 1784.31 1545.58 Q1788.32 1545.58 1790.65 1543.48 Q1792.99 1541.37 1792.99 1537.76 Q1792.99 1534.15 1790.65 1532.04 Q1788.32 1529.94 1784.31 1529.94 Q1782.44 1529.94 1780.56 1530.35 Q1778.71 1530.77 1776.77 1531.65 L1776.77 1514.29 Z\" fill=\"#000000\" fill-rule=\"evenodd\" fill-opacity=\"1\" /><path clip-path=\"url(#clip410)\" d=\"M2266.77 1544.91 L2274.41 1544.91 L2274.41 1518.55 L2266.1 1520.21 L2266.1 1515.95 L2274.36 1514.29 L2279.04 1514.29 L2279.04 1544.91 L2286.68 1544.91 L2286.68 1548.85 L2266.77 1548.85 L2266.77 1544.91 Z\" fill=\"#000000\" fill-rule=\"evenodd\" fill-opacity=\"1\" /><path clip-path=\"url(#clip410)\" d=\"M2306.12 1517.37 Q2302.51 1517.37 2300.68 1520.93 Q2298.88 1524.47 2298.88 1531.6 Q2298.88 1538.71 2300.68 1542.27 Q2302.51 1545.82 2306.12 1545.82 Q2309.76 1545.82 2311.56 1542.27 Q2313.39 1538.71 2313.39 1531.6 Q2313.39 1524.47 2311.56 1520.93 Q2309.76 1517.37 2306.12 1517.37 M2306.12 1513.66 Q2311.93 1513.66 2314.99 1518.27 Q2318.07 1522.85 2318.07 1531.6 Q2318.07 1540.33 2314.99 1544.94 Q2311.93 1549.52 2306.12 1549.52 Q2300.31 1549.52 2297.23 1544.94 Q2294.18 1540.33 2294.18 1531.6 Q2294.18 1522.85 2297.23 1518.27 Q2300.31 1513.66 2306.12 1513.66 Z\" fill=\"#000000\" fill-rule=\"evenodd\" fill-opacity=\"1\" /><polyline clip-path=\"url(#clip412)\" style=\"stroke:#000000; stroke-linecap:butt; stroke-linejoin:round; stroke-width:2; stroke-opacity:0.1; fill:none\" points=\"\n  209.029,1445.72 2352.76,1445.72 \n  \"/>\n<polyline clip-path=\"url(#clip412)\" style=\"stroke:#000000; stroke-linecap:butt; stroke-linejoin:round; stroke-width:2; stroke-opacity:0.1; fill:none\" points=\"\n  209.029,1184.61 2352.76,1184.61 \n  \"/>\n<polyline clip-path=\"url(#clip412)\" style=\"stroke:#000000; stroke-linecap:butt; stroke-linejoin:round; stroke-width:2; stroke-opacity:0.1; fill:none\" points=\"\n  209.029,923.508 2352.76,923.508 \n  \"/>\n<polyline clip-path=\"url(#clip412)\" style=\"stroke:#000000; stroke-linecap:butt; stroke-linejoin:round; stroke-width:2; stroke-opacity:0.1; fill:none\" points=\"\n  209.029,662.404 2352.76,662.404 \n  \"/>\n<polyline clip-path=\"url(#clip412)\" style=\"stroke:#000000; stroke-linecap:butt; stroke-linejoin:round; stroke-width:2; stroke-opacity:0.1; fill:none\" points=\"\n  209.029,401.301 2352.76,401.301 \n  \"/>\n<polyline clip-path=\"url(#clip412)\" style=\"stroke:#000000; stroke-linecap:butt; stroke-linejoin:round; stroke-width:2; stroke-opacity:0.1; fill:none\" points=\"\n  209.029,140.197 2352.76,140.197 \n  \"/>\n<polyline clip-path=\"url(#clip410)\" style=\"stroke:#000000; stroke-linecap:butt; stroke-linejoin:round; stroke-width:4; stroke-opacity:1; fill:none\" points=\"\n  209.029,1486.45 209.029,47.2441 \n  \"/>\n<polyline clip-path=\"url(#clip410)\" style=\"stroke:#000000; stroke-linecap:butt; stroke-linejoin:round; stroke-width:4; stroke-opacity:1; fill:none\" points=\"\n  209.029,1445.72 227.926,1445.72 \n  \"/>\n<polyline clip-path=\"url(#clip410)\" style=\"stroke:#000000; stroke-linecap:butt; stroke-linejoin:round; stroke-width:4; stroke-opacity:1; fill:none\" points=\"\n  209.029,1184.61 227.926,1184.61 \n  \"/>\n<polyline clip-path=\"url(#clip410)\" style=\"stroke:#000000; stroke-linecap:butt; stroke-linejoin:round; stroke-width:4; stroke-opacity:1; fill:none\" points=\"\n  209.029,923.508 227.926,923.508 \n  \"/>\n<polyline clip-path=\"url(#clip410)\" style=\"stroke:#000000; stroke-linecap:butt; stroke-linejoin:round; stroke-width:4; stroke-opacity:1; fill:none\" points=\"\n  209.029,662.404 227.926,662.404 \n  \"/>\n<polyline clip-path=\"url(#clip410)\" style=\"stroke:#000000; stroke-linecap:butt; stroke-linejoin:round; stroke-width:4; stroke-opacity:1; fill:none\" points=\"\n  209.029,401.301 227.926,401.301 \n  \"/>\n<polyline clip-path=\"url(#clip410)\" style=\"stroke:#000000; stroke-linecap:butt; stroke-linejoin:round; stroke-width:4; stroke-opacity:1; fill:none\" points=\"\n  209.029,140.197 227.926,140.197 \n  \"/>\n<path clip-path=\"url(#clip410)\" d=\"M50.9921 1446.17 L80.6679 1446.17 L80.6679 1450.1 L50.9921 1450.1 L50.9921 1446.17 Z\" fill=\"#000000\" fill-rule=\"evenodd\" fill-opacity=\"1\" /><path clip-path=\"url(#clip410)\" d=\"M104.927 1444.36 Q108.283 1445.08 110.158 1447.35 Q112.057 1449.62 112.057 1452.95 Q112.057 1458.07 108.538 1460.87 Q105.02 1463.67 98.5382 1463.67 Q96.3623 1463.67 94.0475 1463.23 Q91.7558 1462.81 89.3021 1461.95 L89.3021 1457.44 Q91.2465 1458.57 93.5613 1459.15 Q95.8761 1459.73 98.3993 1459.73 Q102.797 1459.73 105.089 1458 Q107.404 1456.26 107.404 1452.95 Q107.404 1449.89 105.251 1448.18 Q103.121 1446.44 99.3021 1446.44 L95.2743 1446.44 L95.2743 1442.6 L99.4872 1442.6 Q102.936 1442.6 104.765 1441.24 Q106.594 1439.85 106.594 1437.26 Q106.594 1434.59 104.696 1433.18 Q102.821 1431.75 99.3021 1431.75 Q97.3808 1431.75 95.1817 1432.16 Q92.9826 1432.58 90.3438 1433.46 L90.3438 1429.29 Q93.0058 1428.55 95.3206 1428.18 Q97.6585 1427.81 99.7187 1427.81 Q105.043 1427.81 108.145 1430.24 Q111.246 1432.65 111.246 1436.77 Q111.246 1439.64 109.603 1441.63 Q107.959 1443.6 104.927 1444.36 Z\" fill=\"#000000\" fill-rule=\"evenodd\" fill-opacity=\"1\" /><path clip-path=\"url(#clip410)\" d=\"M130.922 1431.51 Q127.311 1431.51 125.482 1435.08 Q123.677 1438.62 123.677 1445.75 Q123.677 1452.86 125.482 1456.42 Q127.311 1459.96 130.922 1459.96 Q134.556 1459.96 136.362 1456.42 Q138.191 1452.86 138.191 1445.75 Q138.191 1438.62 136.362 1435.08 Q134.556 1431.51 130.922 1431.51 M130.922 1427.81 Q136.732 1427.81 139.788 1432.42 Q142.867 1437 142.867 1445.75 Q142.867 1454.48 139.788 1459.08 Q136.732 1463.67 130.922 1463.67 Q125.112 1463.67 122.033 1459.08 Q118.978 1454.48 118.978 1445.75 Q118.978 1437 122.033 1432.42 Q125.112 1427.81 130.922 1427.81 Z\" fill=\"#000000\" fill-rule=\"evenodd\" fill-opacity=\"1\" /><path clip-path=\"url(#clip410)\" d=\"M161.084 1431.51 Q157.473 1431.51 155.644 1435.08 Q153.839 1438.62 153.839 1445.75 Q153.839 1452.86 155.644 1456.42 Q157.473 1459.96 161.084 1459.96 Q164.718 1459.96 166.524 1456.42 Q168.353 1452.86 168.353 1445.75 Q168.353 1438.62 166.524 1435.08 Q164.718 1431.51 161.084 1431.51 M161.084 1427.81 Q166.894 1427.81 169.95 1432.42 Q173.029 1437 173.029 1445.75 Q173.029 1454.48 169.95 1459.08 Q166.894 1463.67 161.084 1463.67 Q155.274 1463.67 152.195 1459.08 Q149.14 1454.48 149.14 1445.75 Q149.14 1437 152.195 1432.42 Q155.274 1427.81 161.084 1427.81 Z\" fill=\"#000000\" fill-rule=\"evenodd\" fill-opacity=\"1\" /><path clip-path=\"url(#clip410)\" d=\"M50.9921 1185.06 L80.6679 1185.06 L80.6679 1189 L50.9921 1189 L50.9921 1185.06 Z\" fill=\"#000000\" fill-rule=\"evenodd\" fill-opacity=\"1\" /><path clip-path=\"url(#clip410)\" d=\"M94.7882 1197.96 L111.108 1197.96 L111.108 1201.89 L89.1632 1201.89 L89.1632 1197.96 Q91.8252 1195.2 96.4085 1190.57 Q101.015 1185.92 102.196 1184.58 Q104.441 1182.05 105.321 1180.32 Q106.223 1178.56 106.223 1176.87 Q106.223 1174.11 104.279 1172.38 Q102.358 1170.64 99.2558 1170.64 Q97.0567 1170.64 94.603 1171.41 Q92.1725 1172.17 89.3947 1173.72 L89.3947 1169 Q92.2188 1167.86 94.6724 1167.29 Q97.1261 1166.71 99.1632 1166.71 Q104.534 1166.71 107.728 1169.39 Q110.922 1172.08 110.922 1176.57 Q110.922 1178.7 110.112 1180.62 Q109.325 1182.52 107.219 1185.11 Q106.64 1185.78 103.538 1189 Q100.436 1192.19 94.7882 1197.96 Z\" fill=\"#000000\" fill-rule=\"evenodd\" fill-opacity=\"1\" /><path clip-path=\"url(#clip410)\" d=\"M130.922 1170.41 Q127.311 1170.41 125.482 1173.98 Q123.677 1177.52 123.677 1184.65 Q123.677 1191.75 125.482 1195.32 Q127.311 1198.86 130.922 1198.86 Q134.556 1198.86 136.362 1195.32 Q138.191 1191.75 138.191 1184.65 Q138.191 1177.52 136.362 1173.98 Q134.556 1170.41 130.922 1170.41 M130.922 1166.71 Q136.732 1166.71 139.788 1171.31 Q142.867 1175.9 142.867 1184.65 Q142.867 1193.37 139.788 1197.98 Q136.732 1202.56 130.922 1202.56 Q125.112 1202.56 122.033 1197.98 Q118.978 1193.37 118.978 1184.65 Q118.978 1175.9 122.033 1171.31 Q125.112 1166.71 130.922 1166.71 Z\" fill=\"#000000\" fill-rule=\"evenodd\" fill-opacity=\"1\" /><path clip-path=\"url(#clip410)\" d=\"M161.084 1170.41 Q157.473 1170.41 155.644 1173.98 Q153.839 1177.52 153.839 1184.65 Q153.839 1191.75 155.644 1195.32 Q157.473 1198.86 161.084 1198.86 Q164.718 1198.86 166.524 1195.32 Q168.353 1191.75 168.353 1184.65 Q168.353 1177.52 166.524 1173.98 Q164.718 1170.41 161.084 1170.41 M161.084 1166.71 Q166.894 1166.71 169.95 1171.31 Q173.029 1175.9 173.029 1184.65 Q173.029 1193.37 169.95 1197.98 Q166.894 1202.56 161.084 1202.56 Q155.274 1202.56 152.195 1197.98 Q149.14 1193.37 149.14 1184.65 Q149.14 1175.9 152.195 1171.31 Q155.274 1166.71 161.084 1166.71 Z\" fill=\"#000000\" fill-rule=\"evenodd\" fill-opacity=\"1\" /><path clip-path=\"url(#clip410)\" d=\"M50.9921 923.96 L80.6679 923.96 L80.6679 927.895 L50.9921 927.895 L50.9921 923.96 Z\" fill=\"#000000\" fill-rule=\"evenodd\" fill-opacity=\"1\" /><path clip-path=\"url(#clip410)\" d=\"M91.5706 936.853 L99.2095 936.853 L99.2095 910.487 L90.8993 912.154 L90.8993 907.895 L99.1632 906.228 L103.839 906.228 L103.839 936.853 L111.478 936.853 L111.478 940.788 L91.5706 940.788 L91.5706 936.853 Z\" fill=\"#000000\" fill-rule=\"evenodd\" fill-opacity=\"1\" /><path clip-path=\"url(#clip410)\" d=\"M130.922 909.307 Q127.311 909.307 125.482 912.872 Q123.677 916.413 123.677 923.543 Q123.677 930.649 125.482 934.214 Q127.311 937.756 130.922 937.756 Q134.556 937.756 136.362 934.214 Q138.191 930.649 138.191 923.543 Q138.191 916.413 136.362 912.872 Q134.556 909.307 130.922 909.307 M130.922 905.603 Q136.732 905.603 139.788 910.21 Q142.867 914.793 142.867 923.543 Q142.867 932.27 139.788 936.876 Q136.732 941.46 130.922 941.46 Q125.112 941.46 122.033 936.876 Q118.978 932.27 118.978 923.543 Q118.978 914.793 122.033 910.21 Q125.112 905.603 130.922 905.603 Z\" fill=\"#000000\" fill-rule=\"evenodd\" fill-opacity=\"1\" /><path clip-path=\"url(#clip410)\" d=\"M161.084 909.307 Q157.473 909.307 155.644 912.872 Q153.839 916.413 153.839 923.543 Q153.839 930.649 155.644 934.214 Q157.473 937.756 161.084 937.756 Q164.718 937.756 166.524 934.214 Q168.353 930.649 168.353 923.543 Q168.353 916.413 166.524 912.872 Q164.718 909.307 161.084 909.307 M161.084 905.603 Q166.894 905.603 169.95 910.21 Q173.029 914.793 173.029 923.543 Q173.029 932.27 169.95 936.876 Q166.894 941.46 161.084 941.46 Q155.274 941.46 152.195 936.876 Q149.14 932.27 149.14 923.543 Q149.14 914.793 152.195 910.21 Q155.274 905.603 161.084 905.603 Z\" fill=\"#000000\" fill-rule=\"evenodd\" fill-opacity=\"1\" /><path clip-path=\"url(#clip410)\" d=\"M161.084 648.203 Q157.473 648.203 155.644 651.768 Q153.839 655.31 153.839 662.439 Q153.839 669.546 155.644 673.11 Q157.473 676.652 161.084 676.652 Q164.718 676.652 166.524 673.11 Q168.353 669.546 168.353 662.439 Q168.353 655.31 166.524 651.768 Q164.718 648.203 161.084 648.203 M161.084 644.499 Q166.894 644.499 169.95 649.106 Q173.029 653.689 173.029 662.439 Q173.029 671.166 169.95 675.772 Q166.894 680.356 161.084 680.356 Q155.274 680.356 152.195 675.772 Q149.14 671.166 149.14 662.439 Q149.14 653.689 152.195 649.106 Q155.274 644.499 161.084 644.499 Z\" fill=\"#000000\" fill-rule=\"evenodd\" fill-opacity=\"1\" /><path clip-path=\"url(#clip410)\" d=\"M91.5706 414.646 L99.2095 414.646 L99.2095 388.28 L90.8993 389.947 L90.8993 385.687 L99.1632 384.021 L103.839 384.021 L103.839 414.646 L111.478 414.646 L111.478 418.581 L91.5706 418.581 L91.5706 414.646 Z\" fill=\"#000000\" fill-rule=\"evenodd\" fill-opacity=\"1\" /><path clip-path=\"url(#clip410)\" d=\"M130.922 387.099 Q127.311 387.099 125.482 390.664 Q123.677 394.206 123.677 401.335 Q123.677 408.442 125.482 412.007 Q127.311 415.548 130.922 415.548 Q134.556 415.548 136.362 412.007 Q138.191 408.442 138.191 401.335 Q138.191 394.206 136.362 390.664 Q134.556 387.099 130.922 387.099 M130.922 383.396 Q136.732 383.396 139.788 388.002 Q142.867 392.586 142.867 401.335 Q142.867 410.062 139.788 414.669 Q136.732 419.252 130.922 419.252 Q125.112 419.252 122.033 414.669 Q118.978 410.062 118.978 401.335 Q118.978 392.586 122.033 388.002 Q125.112 383.396 130.922 383.396 Z\" fill=\"#000000\" fill-rule=\"evenodd\" fill-opacity=\"1\" /><path clip-path=\"url(#clip410)\" d=\"M161.084 387.099 Q157.473 387.099 155.644 390.664 Q153.839 394.206 153.839 401.335 Q153.839 408.442 155.644 412.007 Q157.473 415.548 161.084 415.548 Q164.718 415.548 166.524 412.007 Q168.353 408.442 168.353 401.335 Q168.353 394.206 166.524 390.664 Q164.718 387.099 161.084 387.099 M161.084 383.396 Q166.894 383.396 169.95 388.002 Q173.029 392.586 173.029 401.335 Q173.029 410.062 169.95 414.669 Q166.894 419.252 161.084 419.252 Q155.274 419.252 152.195 414.669 Q149.14 410.062 149.14 401.335 Q149.14 392.586 152.195 388.002 Q155.274 383.396 161.084 383.396 Z\" fill=\"#000000\" fill-rule=\"evenodd\" fill-opacity=\"1\" /><path clip-path=\"url(#clip410)\" d=\"M94.7882 153.542 L111.108 153.542 L111.108 157.477 L89.1632 157.477 L89.1632 153.542 Q91.8252 150.787 96.4085 146.158 Q101.015 141.505 102.196 140.162 Q104.441 137.639 105.321 135.903 Q106.223 134.144 106.223 132.454 Q106.223 129.699 104.279 127.963 Q102.358 126.227 99.2558 126.227 Q97.0567 126.227 94.603 126.991 Q92.1725 127.755 89.3947 129.306 L89.3947 124.584 Q92.2188 123.449 94.6724 122.871 Q97.1261 122.292 99.1632 122.292 Q104.534 122.292 107.728 124.977 Q110.922 127.662 110.922 132.153 Q110.922 134.283 110.112 136.204 Q109.325 138.102 107.219 140.695 Q106.64 141.366 103.538 144.584 Q100.436 147.778 94.7882 153.542 Z\" fill=\"#000000\" fill-rule=\"evenodd\" fill-opacity=\"1\" /><path clip-path=\"url(#clip410)\" d=\"M130.922 125.996 Q127.311 125.996 125.482 129.561 Q123.677 133.102 123.677 140.232 Q123.677 147.338 125.482 150.903 Q127.311 154.445 130.922 154.445 Q134.556 154.445 136.362 150.903 Q138.191 147.338 138.191 140.232 Q138.191 133.102 136.362 129.561 Q134.556 125.996 130.922 125.996 M130.922 122.292 Q136.732 122.292 139.788 126.898 Q142.867 131.482 142.867 140.232 Q142.867 148.959 139.788 153.565 Q136.732 158.148 130.922 158.148 Q125.112 158.148 122.033 153.565 Q118.978 148.959 118.978 140.232 Q118.978 131.482 122.033 126.898 Q125.112 122.292 130.922 122.292 Z\" fill=\"#000000\" fill-rule=\"evenodd\" fill-opacity=\"1\" /><path clip-path=\"url(#clip410)\" d=\"M161.084 125.996 Q157.473 125.996 155.644 129.561 Q153.839 133.102 153.839 140.232 Q153.839 147.338 155.644 150.903 Q157.473 154.445 161.084 154.445 Q164.718 154.445 166.524 150.903 Q168.353 147.338 168.353 140.232 Q168.353 133.102 166.524 129.561 Q164.718 125.996 161.084 125.996 M161.084 122.292 Q166.894 122.292 169.95 126.898 Q173.029 131.482 173.029 140.232 Q173.029 148.959 169.95 153.565 Q166.894 158.148 161.084 158.148 Q155.274 158.148 152.195 153.565 Q149.14 148.959 149.14 140.232 Q149.14 131.482 152.195 126.898 Q155.274 122.292 161.084 122.292 Z\" fill=\"#000000\" fill-rule=\"evenodd\" fill-opacity=\"1\" /><polyline clip-path=\"url(#clip412)\" style=\"stroke:#009af9; stroke-linecap:butt; stroke-linejoin:round; stroke-width:4; stroke-opacity:1; fill:none\" points=\"\n  269.7,192.418 370.819,435.244 471.938,651.96 573.058,842.566 674.177,1007.06 775.296,1145.45 876.415,1257.72 977.535,1343.89 1078.65,1403.94 1179.77,1437.88 \n  1280.89,1445.72 1382.01,1427.44 1483.13,1383.05 1584.25,1312.55 1685.37,1215.94 1786.49,1093.23 1887.61,944.397 1988.73,769.457 2089.85,568.407 2190.97,341.247 \n  2292.08,87.9763 \n  \"/>\n<path clip-path=\"url(#clip410)\" d=\"\nM1990.68 198.898 L2281.3 198.898 L2281.3 95.2176 L1990.68 95.2176  Z\n  \" fill=\"#ffffff\" fill-rule=\"evenodd\" fill-opacity=\"1\"/>\n<polyline clip-path=\"url(#clip410)\" style=\"stroke:#000000; stroke-linecap:butt; stroke-linejoin:round; stroke-width:4; stroke-opacity:1; fill:none\" points=\"\n  1990.68,198.898 2281.3,198.898 2281.3,95.2176 1990.68,95.2176 1990.68,198.898 \n  \"/>\n<polyline clip-path=\"url(#clip410)\" style=\"stroke:#009af9; stroke-linecap:butt; stroke-linejoin:round; stroke-width:4; stroke-opacity:1; fill:none\" points=\"\n  2014.5,147.058 2157.41,147.058 \n  \"/>\n<path clip-path=\"url(#clip410)\" d=\"M2195.07 166.745 Q2193.27 171.375 2191.55 172.787 Q2189.84 174.199 2186.97 174.199 L2183.57 174.199 L2183.57 170.634 L2186.07 170.634 Q2187.83 170.634 2188.8 169.8 Q2189.77 168.967 2190.95 165.865 L2191.72 163.921 L2181.23 138.412 L2185.74 138.412 L2193.85 158.689 L2201.95 138.412 L2206.46 138.412 L2195.07 166.745 Z\" fill=\"#000000\" fill-rule=\"evenodd\" fill-opacity=\"1\" /><path clip-path=\"url(#clip410)\" d=\"M2213.75 160.402 L2221.39 160.402 L2221.39 134.037 L2213.08 135.703 L2213.08 131.444 L2221.35 129.778 L2226.02 129.778 L2226.02 160.402 L2233.66 160.402 L2233.66 164.338 L2213.75 164.338 L2213.75 160.402 Z\" fill=\"#000000\" fill-rule=\"evenodd\" fill-opacity=\"1\" /></svg>\n",
      "text/html": [
       "<?xml version=\"1.0\" encoding=\"utf-8\"?>\n",
       "<svg xmlns=\"http://www.w3.org/2000/svg\" xmlns:xlink=\"http://www.w3.org/1999/xlink\" width=\"600\" height=\"400\" viewBox=\"0 0 2400 1600\">\n",
       "<defs>\n",
       "  <clipPath id=\"clip460\">\n",
       "    <rect x=\"0\" y=\"0\" width=\"2400\" height=\"1600\"/>\n",
       "  </clipPath>\n",
       "</defs>\n",
       "<path clip-path=\"url(#clip460)\" d=\"\n",
       "M0 1600 L2400 1600 L2400 0 L0 0  Z\n",
       "  \" fill=\"#ffffff\" fill-rule=\"evenodd\" fill-opacity=\"1\"/>\n",
       "<defs>\n",
       "  <clipPath id=\"clip461\">\n",
       "    <rect x=\"480\" y=\"0\" width=\"1681\" height=\"1600\"/>\n",
       "  </clipPath>\n",
       "</defs>\n",
       "<path clip-path=\"url(#clip460)\" d=\"\n",
       "M209.029 1486.45 L2352.76 1486.45 L2352.76 47.2441 L209.029 47.2441  Z\n",
       "  \" fill=\"#ffffff\" fill-rule=\"evenodd\" fill-opacity=\"1\"/>\n",
       "<defs>\n",
       "  <clipPath id=\"clip462\">\n",
       "    <rect x=\"209\" y=\"47\" width=\"2145\" height=\"1440\"/>\n",
       "  </clipPath>\n",
       "</defs>\n",
       "<polyline clip-path=\"url(#clip462)\" style=\"stroke:#000000; stroke-linecap:butt; stroke-linejoin:round; stroke-width:2; stroke-opacity:0.1; fill:none\" points=\"\n",
       "  269.7,1486.45 269.7,47.2441 \n",
       "  \"/>\n",
       "<polyline clip-path=\"url(#clip462)\" style=\"stroke:#000000; stroke-linecap:butt; stroke-linejoin:round; stroke-width:2; stroke-opacity:0.1; fill:none\" points=\"\n",
       "  775.296,1486.45 775.296,47.2441 \n",
       "  \"/>\n",
       "<polyline clip-path=\"url(#clip462)\" style=\"stroke:#000000; stroke-linecap:butt; stroke-linejoin:round; stroke-width:2; stroke-opacity:0.1; fill:none\" points=\"\n",
       "  1280.89,1486.45 1280.89,47.2441 \n",
       "  \"/>\n",
       "<polyline clip-path=\"url(#clip462)\" style=\"stroke:#000000; stroke-linecap:butt; stroke-linejoin:round; stroke-width:2; stroke-opacity:0.1; fill:none\" points=\"\n",
       "  1786.49,1486.45 1786.49,47.2441 \n",
       "  \"/>\n",
       "<polyline clip-path=\"url(#clip462)\" style=\"stroke:#000000; stroke-linecap:butt; stroke-linejoin:round; stroke-width:2; stroke-opacity:0.1; fill:none\" points=\"\n",
       "  2292.08,1486.45 2292.08,47.2441 \n",
       "  \"/>\n",
       "<polyline clip-path=\"url(#clip460)\" style=\"stroke:#000000; stroke-linecap:butt; stroke-linejoin:round; stroke-width:4; stroke-opacity:1; fill:none\" points=\"\n",
       "  209.029,1486.45 2352.76,1486.45 \n",
       "  \"/>\n",
       "<polyline clip-path=\"url(#clip460)\" style=\"stroke:#000000; stroke-linecap:butt; stroke-linejoin:round; stroke-width:4; stroke-opacity:1; fill:none\" points=\"\n",
       "  269.7,1486.45 269.7,1467.55 \n",
       "  \"/>\n",
       "<polyline clip-path=\"url(#clip460)\" style=\"stroke:#000000; stroke-linecap:butt; stroke-linejoin:round; stroke-width:4; stroke-opacity:1; fill:none\" points=\"\n",
       "  775.296,1486.45 775.296,1467.55 \n",
       "  \"/>\n",
       "<polyline clip-path=\"url(#clip460)\" style=\"stroke:#000000; stroke-linecap:butt; stroke-linejoin:round; stroke-width:4; stroke-opacity:1; fill:none\" points=\"\n",
       "  1280.89,1486.45 1280.89,1467.55 \n",
       "  \"/>\n",
       "<polyline clip-path=\"url(#clip460)\" style=\"stroke:#000000; stroke-linecap:butt; stroke-linejoin:round; stroke-width:4; stroke-opacity:1; fill:none\" points=\"\n",
       "  1786.49,1486.45 1786.49,1467.55 \n",
       "  \"/>\n",
       "<polyline clip-path=\"url(#clip460)\" style=\"stroke:#000000; stroke-linecap:butt; stroke-linejoin:round; stroke-width:4; stroke-opacity:1; fill:none\" points=\"\n",
       "  2292.08,1486.45 2292.08,1467.55 \n",
       "  \"/>\n",
       "<path clip-path=\"url(#clip460)\" d=\"M223.763 1532.02 L253.439 1532.02 L253.439 1535.95 L223.763 1535.95 L223.763 1532.02 Z\" fill=\"#000000\" fill-rule=\"evenodd\" fill-opacity=\"1\" /><path clip-path=\"url(#clip460)\" d=\"M264.341 1544.91 L271.98 1544.91 L271.98 1518.55 L263.67 1520.21 L263.67 1515.95 L271.934 1514.29 L276.61 1514.29 L276.61 1544.91 L284.249 1544.91 L284.249 1548.85 L264.341 1548.85 L264.341 1544.91 Z\" fill=\"#000000\" fill-rule=\"evenodd\" fill-opacity=\"1\" /><path clip-path=\"url(#clip460)\" d=\"M303.693 1517.37 Q300.082 1517.37 298.253 1520.93 Q296.448 1524.47 296.448 1531.6 Q296.448 1538.71 298.253 1542.27 Q300.082 1545.82 303.693 1545.82 Q307.327 1545.82 309.133 1542.27 Q310.961 1538.71 310.961 1531.6 Q310.961 1524.47 309.133 1520.93 Q307.327 1517.37 303.693 1517.37 M303.693 1513.66 Q309.503 1513.66 312.559 1518.27 Q315.637 1522.85 315.637 1531.6 Q315.637 1540.33 312.559 1544.94 Q309.503 1549.52 303.693 1549.52 Q297.883 1549.52 294.804 1544.94 Q291.749 1540.33 291.749 1531.6 Q291.749 1522.85 294.804 1518.27 Q297.883 1513.66 303.693 1513.66 Z\" fill=\"#000000\" fill-rule=\"evenodd\" fill-opacity=\"1\" /><path clip-path=\"url(#clip460)\" d=\"M744.937 1532.02 L774.613 1532.02 L774.613 1535.95 L744.937 1535.95 L744.937 1532.02 Z\" fill=\"#000000\" fill-rule=\"evenodd\" fill-opacity=\"1\" /><path clip-path=\"url(#clip460)\" d=\"M784.752 1514.29 L803.108 1514.29 L803.108 1518.22 L789.034 1518.22 L789.034 1526.7 Q790.053 1526.35 791.072 1526.19 Q792.09 1526 793.109 1526 Q798.896 1526 802.275 1529.17 Q805.655 1532.34 805.655 1537.76 Q805.655 1543.34 802.183 1546.44 Q798.71 1549.52 792.391 1549.52 Q790.215 1549.52 787.947 1549.15 Q785.701 1548.78 783.294 1548.04 L783.294 1543.34 Q785.377 1544.47 787.599 1545.03 Q789.822 1545.58 792.298 1545.58 Q796.303 1545.58 798.641 1543.48 Q800.979 1541.37 800.979 1537.76 Q800.979 1534.15 798.641 1532.04 Q796.303 1529.94 792.298 1529.94 Q790.423 1529.94 788.548 1530.35 Q786.697 1530.77 784.752 1531.65 L784.752 1514.29 Z\" fill=\"#000000\" fill-rule=\"evenodd\" fill-opacity=\"1\" /><path clip-path=\"url(#clip460)\" d=\"M1280.89 1517.37 Q1277.28 1517.37 1275.45 1520.93 Q1273.65 1524.47 1273.65 1531.6 Q1273.65 1538.71 1275.45 1542.27 Q1277.28 1545.82 1280.89 1545.82 Q1284.53 1545.82 1286.33 1542.27 Q1288.16 1538.71 1288.16 1531.6 Q1288.16 1524.47 1286.33 1520.93 Q1284.53 1517.37 1280.89 1517.37 M1280.89 1513.66 Q1286.7 1513.66 1289.76 1518.27 Q1292.84 1522.85 1292.84 1531.6 Q1292.84 1540.33 1289.76 1544.94 Q1286.7 1549.52 1280.89 1549.52 Q1275.08 1549.52 1272 1544.94 Q1268.95 1540.33 1268.95 1531.6 Q1268.95 1522.85 1272 1518.27 Q1275.08 1513.66 1280.89 1513.66 Z\" fill=\"#000000\" fill-rule=\"evenodd\" fill-opacity=\"1\" /><path clip-path=\"url(#clip460)\" d=\"M1776.77 1514.29 L1795.12 1514.29 L1795.12 1518.22 L1781.05 1518.22 L1781.05 1526.7 Q1782.07 1526.35 1783.09 1526.19 Q1784.1 1526 1785.12 1526 Q1790.91 1526 1794.29 1529.17 Q1797.67 1532.34 1797.67 1537.76 Q1797.67 1543.34 1794.2 1546.44 Q1790.72 1549.52 1784.4 1549.52 Q1782.23 1549.52 1779.96 1549.15 Q1777.72 1548.78 1775.31 1548.04 L1775.31 1543.34 Q1777.39 1544.47 1779.61 1545.03 Q1781.84 1545.58 1784.31 1545.58 Q1788.32 1545.58 1790.65 1543.48 Q1792.99 1541.37 1792.99 1537.76 Q1792.99 1534.15 1790.65 1532.04 Q1788.32 1529.94 1784.31 1529.94 Q1782.44 1529.94 1780.56 1530.35 Q1778.71 1530.77 1776.77 1531.65 L1776.77 1514.29 Z\" fill=\"#000000\" fill-rule=\"evenodd\" fill-opacity=\"1\" /><path clip-path=\"url(#clip460)\" d=\"M2266.77 1544.91 L2274.41 1544.91 L2274.41 1518.55 L2266.1 1520.21 L2266.1 1515.95 L2274.36 1514.29 L2279.04 1514.29 L2279.04 1544.91 L2286.68 1544.91 L2286.68 1548.85 L2266.77 1548.85 L2266.77 1544.91 Z\" fill=\"#000000\" fill-rule=\"evenodd\" fill-opacity=\"1\" /><path clip-path=\"url(#clip460)\" d=\"M2306.12 1517.37 Q2302.51 1517.37 2300.68 1520.93 Q2298.88 1524.47 2298.88 1531.6 Q2298.88 1538.71 2300.68 1542.27 Q2302.51 1545.82 2306.12 1545.82 Q2309.76 1545.82 2311.56 1542.27 Q2313.39 1538.71 2313.39 1531.6 Q2313.39 1524.47 2311.56 1520.93 Q2309.76 1517.37 2306.12 1517.37 M2306.12 1513.66 Q2311.93 1513.66 2314.99 1518.27 Q2318.07 1522.85 2318.07 1531.6 Q2318.07 1540.33 2314.99 1544.94 Q2311.93 1549.52 2306.12 1549.52 Q2300.31 1549.52 2297.23 1544.94 Q2294.18 1540.33 2294.18 1531.6 Q2294.18 1522.85 2297.23 1518.27 Q2300.31 1513.66 2306.12 1513.66 Z\" fill=\"#000000\" fill-rule=\"evenodd\" fill-opacity=\"1\" /><polyline clip-path=\"url(#clip462)\" style=\"stroke:#000000; stroke-linecap:butt; stroke-linejoin:round; stroke-width:2; stroke-opacity:0.1; fill:none\" points=\"\n",
       "  209.029,1445.72 2352.76,1445.72 \n",
       "  \"/>\n",
       "<polyline clip-path=\"url(#clip462)\" style=\"stroke:#000000; stroke-linecap:butt; stroke-linejoin:round; stroke-width:2; stroke-opacity:0.1; fill:none\" points=\"\n",
       "  209.029,1184.61 2352.76,1184.61 \n",
       "  \"/>\n",
       "<polyline clip-path=\"url(#clip462)\" style=\"stroke:#000000; stroke-linecap:butt; stroke-linejoin:round; stroke-width:2; stroke-opacity:0.1; fill:none\" points=\"\n",
       "  209.029,923.508 2352.76,923.508 \n",
       "  \"/>\n",
       "<polyline clip-path=\"url(#clip462)\" style=\"stroke:#000000; stroke-linecap:butt; stroke-linejoin:round; stroke-width:2; stroke-opacity:0.1; fill:none\" points=\"\n",
       "  209.029,662.404 2352.76,662.404 \n",
       "  \"/>\n",
       "<polyline clip-path=\"url(#clip462)\" style=\"stroke:#000000; stroke-linecap:butt; stroke-linejoin:round; stroke-width:2; stroke-opacity:0.1; fill:none\" points=\"\n",
       "  209.029,401.301 2352.76,401.301 \n",
       "  \"/>\n",
       "<polyline clip-path=\"url(#clip462)\" style=\"stroke:#000000; stroke-linecap:butt; stroke-linejoin:round; stroke-width:2; stroke-opacity:0.1; fill:none\" points=\"\n",
       "  209.029,140.197 2352.76,140.197 \n",
       "  \"/>\n",
       "<polyline clip-path=\"url(#clip460)\" style=\"stroke:#000000; stroke-linecap:butt; stroke-linejoin:round; stroke-width:4; stroke-opacity:1; fill:none\" points=\"\n",
       "  209.029,1486.45 209.029,47.2441 \n",
       "  \"/>\n",
       "<polyline clip-path=\"url(#clip460)\" style=\"stroke:#000000; stroke-linecap:butt; stroke-linejoin:round; stroke-width:4; stroke-opacity:1; fill:none\" points=\"\n",
       "  209.029,1445.72 227.926,1445.72 \n",
       "  \"/>\n",
       "<polyline clip-path=\"url(#clip460)\" style=\"stroke:#000000; stroke-linecap:butt; stroke-linejoin:round; stroke-width:4; stroke-opacity:1; fill:none\" points=\"\n",
       "  209.029,1184.61 227.926,1184.61 \n",
       "  \"/>\n",
       "<polyline clip-path=\"url(#clip460)\" style=\"stroke:#000000; stroke-linecap:butt; stroke-linejoin:round; stroke-width:4; stroke-opacity:1; fill:none\" points=\"\n",
       "  209.029,923.508 227.926,923.508 \n",
       "  \"/>\n",
       "<polyline clip-path=\"url(#clip460)\" style=\"stroke:#000000; stroke-linecap:butt; stroke-linejoin:round; stroke-width:4; stroke-opacity:1; fill:none\" points=\"\n",
       "  209.029,662.404 227.926,662.404 \n",
       "  \"/>\n",
       "<polyline clip-path=\"url(#clip460)\" style=\"stroke:#000000; stroke-linecap:butt; stroke-linejoin:round; stroke-width:4; stroke-opacity:1; fill:none\" points=\"\n",
       "  209.029,401.301 227.926,401.301 \n",
       "  \"/>\n",
       "<polyline clip-path=\"url(#clip460)\" style=\"stroke:#000000; stroke-linecap:butt; stroke-linejoin:round; stroke-width:4; stroke-opacity:1; fill:none\" points=\"\n",
       "  209.029,140.197 227.926,140.197 \n",
       "  \"/>\n",
       "<path clip-path=\"url(#clip460)\" d=\"M50.9921 1446.17 L80.6679 1446.17 L80.6679 1450.1 L50.9921 1450.1 L50.9921 1446.17 Z\" fill=\"#000000\" fill-rule=\"evenodd\" fill-opacity=\"1\" /><path clip-path=\"url(#clip460)\" d=\"M104.927 1444.36 Q108.283 1445.08 110.158 1447.35 Q112.057 1449.62 112.057 1452.95 Q112.057 1458.07 108.538 1460.87 Q105.02 1463.67 98.5382 1463.67 Q96.3623 1463.67 94.0475 1463.23 Q91.7558 1462.81 89.3021 1461.95 L89.3021 1457.44 Q91.2465 1458.57 93.5613 1459.15 Q95.8761 1459.73 98.3993 1459.73 Q102.797 1459.73 105.089 1458 Q107.404 1456.26 107.404 1452.95 Q107.404 1449.89 105.251 1448.18 Q103.121 1446.44 99.3021 1446.44 L95.2743 1446.44 L95.2743 1442.6 L99.4872 1442.6 Q102.936 1442.6 104.765 1441.24 Q106.594 1439.85 106.594 1437.26 Q106.594 1434.59 104.696 1433.18 Q102.821 1431.75 99.3021 1431.75 Q97.3808 1431.75 95.1817 1432.16 Q92.9826 1432.58 90.3438 1433.46 L90.3438 1429.29 Q93.0058 1428.55 95.3206 1428.18 Q97.6585 1427.81 99.7187 1427.81 Q105.043 1427.81 108.145 1430.24 Q111.246 1432.65 111.246 1436.77 Q111.246 1439.64 109.603 1441.63 Q107.959 1443.6 104.927 1444.36 Z\" fill=\"#000000\" fill-rule=\"evenodd\" fill-opacity=\"1\" /><path clip-path=\"url(#clip460)\" d=\"M130.922 1431.51 Q127.311 1431.51 125.482 1435.08 Q123.677 1438.62 123.677 1445.75 Q123.677 1452.86 125.482 1456.42 Q127.311 1459.96 130.922 1459.96 Q134.556 1459.96 136.362 1456.42 Q138.191 1452.86 138.191 1445.75 Q138.191 1438.62 136.362 1435.08 Q134.556 1431.51 130.922 1431.51 M130.922 1427.81 Q136.732 1427.81 139.788 1432.42 Q142.867 1437 142.867 1445.75 Q142.867 1454.48 139.788 1459.08 Q136.732 1463.67 130.922 1463.67 Q125.112 1463.67 122.033 1459.08 Q118.978 1454.48 118.978 1445.75 Q118.978 1437 122.033 1432.42 Q125.112 1427.81 130.922 1427.81 Z\" fill=\"#000000\" fill-rule=\"evenodd\" fill-opacity=\"1\" /><path clip-path=\"url(#clip460)\" d=\"M161.084 1431.51 Q157.473 1431.51 155.644 1435.08 Q153.839 1438.62 153.839 1445.75 Q153.839 1452.86 155.644 1456.42 Q157.473 1459.96 161.084 1459.96 Q164.718 1459.96 166.524 1456.42 Q168.353 1452.86 168.353 1445.75 Q168.353 1438.62 166.524 1435.08 Q164.718 1431.51 161.084 1431.51 M161.084 1427.81 Q166.894 1427.81 169.95 1432.42 Q173.029 1437 173.029 1445.75 Q173.029 1454.48 169.95 1459.08 Q166.894 1463.67 161.084 1463.67 Q155.274 1463.67 152.195 1459.08 Q149.14 1454.48 149.14 1445.75 Q149.14 1437 152.195 1432.42 Q155.274 1427.81 161.084 1427.81 Z\" fill=\"#000000\" fill-rule=\"evenodd\" fill-opacity=\"1\" /><path clip-path=\"url(#clip460)\" d=\"M50.9921 1185.06 L80.6679 1185.06 L80.6679 1189 L50.9921 1189 L50.9921 1185.06 Z\" fill=\"#000000\" fill-rule=\"evenodd\" fill-opacity=\"1\" /><path clip-path=\"url(#clip460)\" d=\"M94.7882 1197.96 L111.108 1197.96 L111.108 1201.89 L89.1632 1201.89 L89.1632 1197.96 Q91.8252 1195.2 96.4085 1190.57 Q101.015 1185.92 102.196 1184.58 Q104.441 1182.05 105.321 1180.32 Q106.223 1178.56 106.223 1176.87 Q106.223 1174.11 104.279 1172.38 Q102.358 1170.64 99.2558 1170.64 Q97.0567 1170.64 94.603 1171.41 Q92.1725 1172.17 89.3947 1173.72 L89.3947 1169 Q92.2188 1167.86 94.6724 1167.29 Q97.1261 1166.71 99.1632 1166.71 Q104.534 1166.71 107.728 1169.39 Q110.922 1172.08 110.922 1176.57 Q110.922 1178.7 110.112 1180.62 Q109.325 1182.52 107.219 1185.11 Q106.64 1185.78 103.538 1189 Q100.436 1192.19 94.7882 1197.96 Z\" fill=\"#000000\" fill-rule=\"evenodd\" fill-opacity=\"1\" /><path clip-path=\"url(#clip460)\" d=\"M130.922 1170.41 Q127.311 1170.41 125.482 1173.98 Q123.677 1177.52 123.677 1184.65 Q123.677 1191.75 125.482 1195.32 Q127.311 1198.86 130.922 1198.86 Q134.556 1198.86 136.362 1195.32 Q138.191 1191.75 138.191 1184.65 Q138.191 1177.52 136.362 1173.98 Q134.556 1170.41 130.922 1170.41 M130.922 1166.71 Q136.732 1166.71 139.788 1171.31 Q142.867 1175.9 142.867 1184.65 Q142.867 1193.37 139.788 1197.98 Q136.732 1202.56 130.922 1202.56 Q125.112 1202.56 122.033 1197.98 Q118.978 1193.37 118.978 1184.65 Q118.978 1175.9 122.033 1171.31 Q125.112 1166.71 130.922 1166.71 Z\" fill=\"#000000\" fill-rule=\"evenodd\" fill-opacity=\"1\" /><path clip-path=\"url(#clip460)\" d=\"M161.084 1170.41 Q157.473 1170.41 155.644 1173.98 Q153.839 1177.52 153.839 1184.65 Q153.839 1191.75 155.644 1195.32 Q157.473 1198.86 161.084 1198.86 Q164.718 1198.86 166.524 1195.32 Q168.353 1191.75 168.353 1184.65 Q168.353 1177.52 166.524 1173.98 Q164.718 1170.41 161.084 1170.41 M161.084 1166.71 Q166.894 1166.71 169.95 1171.31 Q173.029 1175.9 173.029 1184.65 Q173.029 1193.37 169.95 1197.98 Q166.894 1202.56 161.084 1202.56 Q155.274 1202.56 152.195 1197.98 Q149.14 1193.37 149.14 1184.65 Q149.14 1175.9 152.195 1171.31 Q155.274 1166.71 161.084 1166.71 Z\" fill=\"#000000\" fill-rule=\"evenodd\" fill-opacity=\"1\" /><path clip-path=\"url(#clip460)\" d=\"M50.9921 923.96 L80.6679 923.96 L80.6679 927.895 L50.9921 927.895 L50.9921 923.96 Z\" fill=\"#000000\" fill-rule=\"evenodd\" fill-opacity=\"1\" /><path clip-path=\"url(#clip460)\" d=\"M91.5706 936.853 L99.2095 936.853 L99.2095 910.487 L90.8993 912.154 L90.8993 907.895 L99.1632 906.228 L103.839 906.228 L103.839 936.853 L111.478 936.853 L111.478 940.788 L91.5706 940.788 L91.5706 936.853 Z\" fill=\"#000000\" fill-rule=\"evenodd\" fill-opacity=\"1\" /><path clip-path=\"url(#clip460)\" d=\"M130.922 909.307 Q127.311 909.307 125.482 912.872 Q123.677 916.413 123.677 923.543 Q123.677 930.649 125.482 934.214 Q127.311 937.756 130.922 937.756 Q134.556 937.756 136.362 934.214 Q138.191 930.649 138.191 923.543 Q138.191 916.413 136.362 912.872 Q134.556 909.307 130.922 909.307 M130.922 905.603 Q136.732 905.603 139.788 910.21 Q142.867 914.793 142.867 923.543 Q142.867 932.27 139.788 936.876 Q136.732 941.46 130.922 941.46 Q125.112 941.46 122.033 936.876 Q118.978 932.27 118.978 923.543 Q118.978 914.793 122.033 910.21 Q125.112 905.603 130.922 905.603 Z\" fill=\"#000000\" fill-rule=\"evenodd\" fill-opacity=\"1\" /><path clip-path=\"url(#clip460)\" d=\"M161.084 909.307 Q157.473 909.307 155.644 912.872 Q153.839 916.413 153.839 923.543 Q153.839 930.649 155.644 934.214 Q157.473 937.756 161.084 937.756 Q164.718 937.756 166.524 934.214 Q168.353 930.649 168.353 923.543 Q168.353 916.413 166.524 912.872 Q164.718 909.307 161.084 909.307 M161.084 905.603 Q166.894 905.603 169.95 910.21 Q173.029 914.793 173.029 923.543 Q173.029 932.27 169.95 936.876 Q166.894 941.46 161.084 941.46 Q155.274 941.46 152.195 936.876 Q149.14 932.27 149.14 923.543 Q149.14 914.793 152.195 910.21 Q155.274 905.603 161.084 905.603 Z\" fill=\"#000000\" fill-rule=\"evenodd\" fill-opacity=\"1\" /><path clip-path=\"url(#clip460)\" d=\"M161.084 648.203 Q157.473 648.203 155.644 651.768 Q153.839 655.31 153.839 662.439 Q153.839 669.546 155.644 673.11 Q157.473 676.652 161.084 676.652 Q164.718 676.652 166.524 673.11 Q168.353 669.546 168.353 662.439 Q168.353 655.31 166.524 651.768 Q164.718 648.203 161.084 648.203 M161.084 644.499 Q166.894 644.499 169.95 649.106 Q173.029 653.689 173.029 662.439 Q173.029 671.166 169.95 675.772 Q166.894 680.356 161.084 680.356 Q155.274 680.356 152.195 675.772 Q149.14 671.166 149.14 662.439 Q149.14 653.689 152.195 649.106 Q155.274 644.499 161.084 644.499 Z\" fill=\"#000000\" fill-rule=\"evenodd\" fill-opacity=\"1\" /><path clip-path=\"url(#clip460)\" d=\"M91.5706 414.646 L99.2095 414.646 L99.2095 388.28 L90.8993 389.947 L90.8993 385.687 L99.1632 384.021 L103.839 384.021 L103.839 414.646 L111.478 414.646 L111.478 418.581 L91.5706 418.581 L91.5706 414.646 Z\" fill=\"#000000\" fill-rule=\"evenodd\" fill-opacity=\"1\" /><path clip-path=\"url(#clip460)\" d=\"M130.922 387.099 Q127.311 387.099 125.482 390.664 Q123.677 394.206 123.677 401.335 Q123.677 408.442 125.482 412.007 Q127.311 415.548 130.922 415.548 Q134.556 415.548 136.362 412.007 Q138.191 408.442 138.191 401.335 Q138.191 394.206 136.362 390.664 Q134.556 387.099 130.922 387.099 M130.922 383.396 Q136.732 383.396 139.788 388.002 Q142.867 392.586 142.867 401.335 Q142.867 410.062 139.788 414.669 Q136.732 419.252 130.922 419.252 Q125.112 419.252 122.033 414.669 Q118.978 410.062 118.978 401.335 Q118.978 392.586 122.033 388.002 Q125.112 383.396 130.922 383.396 Z\" fill=\"#000000\" fill-rule=\"evenodd\" fill-opacity=\"1\" /><path clip-path=\"url(#clip460)\" d=\"M161.084 387.099 Q157.473 387.099 155.644 390.664 Q153.839 394.206 153.839 401.335 Q153.839 408.442 155.644 412.007 Q157.473 415.548 161.084 415.548 Q164.718 415.548 166.524 412.007 Q168.353 408.442 168.353 401.335 Q168.353 394.206 166.524 390.664 Q164.718 387.099 161.084 387.099 M161.084 383.396 Q166.894 383.396 169.95 388.002 Q173.029 392.586 173.029 401.335 Q173.029 410.062 169.95 414.669 Q166.894 419.252 161.084 419.252 Q155.274 419.252 152.195 414.669 Q149.14 410.062 149.14 401.335 Q149.14 392.586 152.195 388.002 Q155.274 383.396 161.084 383.396 Z\" fill=\"#000000\" fill-rule=\"evenodd\" fill-opacity=\"1\" /><path clip-path=\"url(#clip460)\" d=\"M94.7882 153.542 L111.108 153.542 L111.108 157.477 L89.1632 157.477 L89.1632 153.542 Q91.8252 150.787 96.4085 146.158 Q101.015 141.505 102.196 140.162 Q104.441 137.639 105.321 135.903 Q106.223 134.144 106.223 132.454 Q106.223 129.699 104.279 127.963 Q102.358 126.227 99.2558 126.227 Q97.0567 126.227 94.603 126.991 Q92.1725 127.755 89.3947 129.306 L89.3947 124.584 Q92.2188 123.449 94.6724 122.871 Q97.1261 122.292 99.1632 122.292 Q104.534 122.292 107.728 124.977 Q110.922 127.662 110.922 132.153 Q110.922 134.283 110.112 136.204 Q109.325 138.102 107.219 140.695 Q106.64 141.366 103.538 144.584 Q100.436 147.778 94.7882 153.542 Z\" fill=\"#000000\" fill-rule=\"evenodd\" fill-opacity=\"1\" /><path clip-path=\"url(#clip460)\" d=\"M130.922 125.996 Q127.311 125.996 125.482 129.561 Q123.677 133.102 123.677 140.232 Q123.677 147.338 125.482 150.903 Q127.311 154.445 130.922 154.445 Q134.556 154.445 136.362 150.903 Q138.191 147.338 138.191 140.232 Q138.191 133.102 136.362 129.561 Q134.556 125.996 130.922 125.996 M130.922 122.292 Q136.732 122.292 139.788 126.898 Q142.867 131.482 142.867 140.232 Q142.867 148.959 139.788 153.565 Q136.732 158.148 130.922 158.148 Q125.112 158.148 122.033 153.565 Q118.978 148.959 118.978 140.232 Q118.978 131.482 122.033 126.898 Q125.112 122.292 130.922 122.292 Z\" fill=\"#000000\" fill-rule=\"evenodd\" fill-opacity=\"1\" /><path clip-path=\"url(#clip460)\" d=\"M161.084 125.996 Q157.473 125.996 155.644 129.561 Q153.839 133.102 153.839 140.232 Q153.839 147.338 155.644 150.903 Q157.473 154.445 161.084 154.445 Q164.718 154.445 166.524 150.903 Q168.353 147.338 168.353 140.232 Q168.353 133.102 166.524 129.561 Q164.718 125.996 161.084 125.996 M161.084 122.292 Q166.894 122.292 169.95 126.898 Q173.029 131.482 173.029 140.232 Q173.029 148.959 169.95 153.565 Q166.894 158.148 161.084 158.148 Q155.274 158.148 152.195 153.565 Q149.14 148.959 149.14 140.232 Q149.14 131.482 152.195 126.898 Q155.274 122.292 161.084 122.292 Z\" fill=\"#000000\" fill-rule=\"evenodd\" fill-opacity=\"1\" /><polyline clip-path=\"url(#clip462)\" style=\"stroke:#009af9; stroke-linecap:butt; stroke-linejoin:round; stroke-width:4; stroke-opacity:1; fill:none\" points=\"\n",
       "  269.7,192.418 370.819,435.244 471.938,651.96 573.058,842.566 674.177,1007.06 775.296,1145.45 876.415,1257.72 977.535,1343.89 1078.65,1403.94 1179.77,1437.88 \n",
       "  1280.89,1445.72 1382.01,1427.44 1483.13,1383.05 1584.25,1312.55 1685.37,1215.94 1786.49,1093.23 1887.61,944.397 1988.73,769.457 2089.85,568.407 2190.97,341.247 \n",
       "  2292.08,87.9763 \n",
       "  \"/>\n",
       "<path clip-path=\"url(#clip460)\" d=\"\n",
       "M1990.68 198.898 L2281.3 198.898 L2281.3 95.2176 L1990.68 95.2176  Z\n",
       "  \" fill=\"#ffffff\" fill-rule=\"evenodd\" fill-opacity=\"1\"/>\n",
       "<polyline clip-path=\"url(#clip460)\" style=\"stroke:#000000; stroke-linecap:butt; stroke-linejoin:round; stroke-width:4; stroke-opacity:1; fill:none\" points=\"\n",
       "  1990.68,198.898 2281.3,198.898 2281.3,95.2176 1990.68,95.2176 1990.68,198.898 \n",
       "  \"/>\n",
       "<polyline clip-path=\"url(#clip460)\" style=\"stroke:#009af9; stroke-linecap:butt; stroke-linejoin:round; stroke-width:4; stroke-opacity:1; fill:none\" points=\"\n",
       "  2014.5,147.058 2157.41,147.058 \n",
       "  \"/>\n",
       "<path clip-path=\"url(#clip460)\" d=\"M2195.07 166.745 Q2193.27 171.375 2191.55 172.787 Q2189.84 174.199 2186.97 174.199 L2183.57 174.199 L2183.57 170.634 L2186.07 170.634 Q2187.83 170.634 2188.8 169.8 Q2189.77 168.967 2190.95 165.865 L2191.72 163.921 L2181.23 138.412 L2185.74 138.412 L2193.85 158.689 L2201.95 138.412 L2206.46 138.412 L2195.07 166.745 Z\" fill=\"#000000\" fill-rule=\"evenodd\" fill-opacity=\"1\" /><path clip-path=\"url(#clip460)\" d=\"M2213.75 160.402 L2221.39 160.402 L2221.39 134.037 L2213.08 135.703 L2213.08 131.444 L2221.35 129.778 L2226.02 129.778 L2226.02 160.402 L2233.66 160.402 L2233.66 164.338 L2213.75 164.338 L2213.75 160.402 Z\" fill=\"#000000\" fill-rule=\"evenodd\" fill-opacity=\"1\" /></svg>\n"
      ]
     },
     "metadata": {},
     "output_type": "display_data"
    }
   ],
   "source": [
    "# bonus round 3: plotting\n",
    "\n",
    "function polynomial(val1,\n",
    "                    val2, \n",
    "                    val3, \n",
    "                    start::Int64, \n",
    "                    stop::Int64, \n",
    "                    step::Int64)\n",
    "\n",
    "    yvals = zeros(Float64, 0) # make an empty array (0 elements) with a type Float64\n",
    "\n",
    "#   For a scaled up version, I'd use a 32 bit float because Julia can be ran directly on the GPU.\n",
    "#   This means that it inherits any hardware GPU limitations, namely that consumer-grade GPU's\n",
    "#   cannot do double precision (Float64) computations. CUDA, the defacto option, inherits this too.\n",
    "\n",
    "    for x in start:stop # iterators are very nice\n",
    "        push!(yvals, val1*x^2 + val2*x + val3) # push y values into the array\n",
    "    end\n",
    "\n",
    "    yvals # return is optional\n",
    "end\n",
    "\n",
    "#############################################################\n",
    "#                                                           #\n",
    "#               INITIALIZING GRAPHING VARIABLES             #\n",
    "#                                                           #\n",
    "#############################################################\n",
    "\n",
    "# graph features\n",
    "start = -10\n",
    "stop = 10\n",
    "step = 1\n",
    "\n",
    "# polynomial values\n",
    "a = 5\n",
    "b = 2\n",
    "c = -300\n",
    "\n",
    "# Use @show to print out entire objects without needing stupid loops\n",
    "\n",
    "@show x = start:stop # use the \"range\" type to specify x-axis\n",
    "@time @show y = polynomial(a, b, c, start, stop, step) # generate the polynomial\n",
    "\n",
    "\n",
    "using Plots\n",
    "gr() # use the gr backend\n",
    "plot(x,y) # finally plot"
   ]
  },
  {
   "cell_type": "code",
   "execution_count": null,
   "metadata": {},
   "outputs": [],
   "source": []
  }
 ],
 "metadata": {
  "kernelspec": {
   "display_name": "Julia 1.8.0-rc3",
   "language": "julia",
   "name": "julia-1.8"
  },
  "language_info": {
   "file_extension": ".jl",
   "mimetype": "application/julia",
   "name": "julia",
   "version": "1.8.0-rc3"
  },
  "orig_nbformat": 4
 },
 "nbformat": 4,
 "nbformat_minor": 2
}
