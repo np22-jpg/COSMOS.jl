{
 "cells": [
  {
   "cell_type": "markdown",
   "metadata": {},
   "source": [
    "Printing hello world"
   ]
  },
  {
   "cell_type": "code",
   "execution_count": 1,
   "metadata": {},
   "outputs": [
    {
     "name": "stdout",
     "output_type": "stream",
     "text": [
      "Hello world!\n"
     ]
    }
   ],
   "source": [
    "print(\"Hello world!\\n\")"
   ]
  },
  {
   "cell_type": "markdown",
   "metadata": {},
   "source": [
    "Adding two numbers"
   ]
  },
  {
   "cell_type": "code",
   "execution_count": 2,
   "metadata": {},
   "outputs": [
    {
     "name": "stdout",
     "output_type": "stream",
     "text": [
      "Enter x: \n",
      "\n",
      "Enter y: \n",
      "\n"
     ]
    },
    {
     "data": {
      "text/plain": [
       "4"
      ]
     },
     "metadata": {},
     "output_type": "display_data"
    }
   ],
   "source": [
    "# julia cannot take inputs from jupyter, assign variables \"normally\"\n",
    "\n",
    "x = 1\n",
    "y = 3\n",
    "\n",
    "println(\"Enter x: \\n\")\n",
    "# x = readlines()\n",
    "println(\"Enter y: \\n\")\n",
    "# y = readlines()\n",
    "x + y"
   ]
  },
  {
   "cell_type": "markdown",
   "metadata": {},
   "source": [
    "Count ten non-negative even integers"
   ]
  },
  {
   "cell_type": "code",
   "execution_count": 3,
   "metadata": {},
   "outputs": [
    {
     "name": "stdout",
     "output_type": "stream",
     "text": [
      "1\n",
      "2\n",
      "3\n",
      "4\n",
      "5\n",
      "6\n",
      "7\n",
      "8\n",
      "9\n",
      "10\n"
     ]
    }
   ],
   "source": [
    "for i in 1:10\n",
    "    println(i)\n",
    "end"
   ]
  },
  {
   "cell_type": "markdown",
   "metadata": {},
   "source": [
    "Compare 2 values to see which is better"
   ]
  },
  {
   "cell_type": "code",
   "execution_count": 4,
   "metadata": {},
   "outputs": [
    {
     "data": {
      "text/plain": [
       "\"y is larger\""
      ]
     },
     "metadata": {},
     "output_type": "display_data"
    }
   ],
   "source": [
    "# ditto\n",
    "x = 5\n",
    "y = 6\n",
    "\n",
    "if x > y\n",
    "    return \"x is larger\"\n",
    "elseif x == y\n",
    "    return \"both are equal\"\n",
    "else\n",
    "    return \"y is larger\"\n",
    "end"
   ]
  },
  {
   "cell_type": "markdown",
   "metadata": {},
   "source": [
    "*ADDITIONAL ACTIVITIES*"
   ]
  },
  {
   "cell_type": "code",
   "execution_count": 5,
   "metadata": {},
   "outputs": [
    {
     "ename": "ErrorException",
     "evalue": "syntax: invalid syntax \"1./\"; add space(s) to clarify",
     "output_type": "error",
     "traceback": [
      "syntax: invalid syntax \"1./\"; add space(s) to clarify\n",
      "\n",
      "Stacktrace:\n",
      " [1] top-level scope\n",
      "   @ ~/COSMOS.jl/lab1.ipynb:2"
     ]
    }
   ],
   "source": [
    "# 2\n",
    "x::Float64 = 1./2 # As it turns out, Julia is a little smarter than C when it comes to clarity\n",
    "print(x)\n",
    "x = 1/2\n",
    "print(x)"
   ]
  },
  {
   "cell_type": "code",
   "execution_count": 6,
   "metadata": {},
   "outputs": [
    {
     "data": {
      "text/plain": [
       "quadratic (generic function with 1 method)"
      ]
     },
     "metadata": {},
     "output_type": "display_data"
    }
   ],
   "source": [
    "# 3\n",
    "# regarding scanning in, ditto\n",
    "# i tells whether or not to give the positive (1) or negative (2) result\n",
    "\n",
    "function quadratic(a, b, c, i::Int64)\n",
    "    discrim::Int64 = (b^2) - 4 * a * c\n",
    "\n",
    "    if discrim > 0\n",
    "        ans = zeros(Float64, 2)\n",
    "        # quadratic equation gives 2 solutions\n",
    "        ans[1] = -b + sqrt((b^2) - (4 * a * c)) / (2 * a)\n",
    "        ans[2] = -b - sqrt((b^2) - (4 * a * c)) / (2 * a)\n",
    "        \n",
    "        ans[i]\n",
    "    elseif discrim == 0\n",
    "        ans = -b / (2 * a)\n",
    "    else\n",
    "        ans = zeros(ComplexF64, 2)\n",
    "        # quadratic equation gives 2 solutions\n",
    "        ans[1] = -b + sqrt(Complex((b^2) - (4 * a * c))) / (2 * a)\n",
    "        ans[2] = -b - sqrt(Complex((b^2) - (4 * a * c))) / (2 * a)\n",
    "\n",
    "        ans[i]\n",
    "    end\n",
    "end"
   ]
  },
  {
   "cell_type": "code",
   "execution_count": 7,
   "metadata": {},
   "outputs": [
    {
     "name": "stdout",
     "output_type": "stream",
     "text": [
      "-2.0 - 0.4im\n",
      "-2.0 + 0.4im\n",
      "-10.894427190999917\n",
      "-9.105572809000083\n"
     ]
    }
   ],
   "source": [
    "println(quadratic(5,2,1,2))\n",
    "println(quadratic(5,2,1,1))\n",
    "\n",
    "println(quadratic(5,10,1,2))\n",
    "println(quadratic(5,10,1,1))"
   ]
  },
  {
   "cell_type": "code",
   "execution_count": 8,
   "metadata": {},
   "outputs": [
    {
     "data": {
      "text/latex": [
       "$-2.0+0.4\\mathit{i}$"
      ],
      "text/plain": [
       "L\"$-2.0+0.4\\mathit{i}$\""
      ]
     },
     "metadata": {},
     "output_type": "display_data"
    }
   ],
   "source": [
    "# bonus round: latexify\n",
    "using Latexify\n",
    "latexify(quadratic(5,2,1,1))"
   ]
  },
  {
   "cell_type": "code",
   "execution_count": 9,
   "metadata": {},
   "outputs": [
    {
     "data": {
      "text/plain": [
       "telldiscrim (generic function with 2 methods)"
      ]
     },
     "metadata": {},
     "output_type": "display_data"
    }
   ],
   "source": [
    "# bonus round 2: tell if the discriminant is positive or negative with the power of multiple dispatch\n",
    "\n",
    "function telldiscrim(discrim::ComplexF64)\n",
    "    println(\"negative\")\n",
    "end\n",
    "\n",
    "function telldiscrim(discrim::Float64)\n",
    "    println(\"positive or greater than 0\")\n",
    "end"
   ]
  },
  {
   "cell_type": "code",
   "execution_count": 10,
   "metadata": {},
   "outputs": [
    {
     "name": "stdout",
     "output_type": "stream",
     "text": [
      "positive or greater than 0\n",
      "negative\n"
     ]
    }
   ],
   "source": [
    "telldiscrim(quadratic(1,5,1,2))\n",
    "telldiscrim(quadratic(5,2,3,2))"
   ]
  },
  {
   "cell_type": "code",
   "execution_count": 11,
   "metadata": {},
   "outputs": [
    {
     "name": "stdout",
     "output_type": "stream",
     "text": [
      "  0.006128 seconds (20.90 k allocations: 1.056 MiB, 99.64% compilation time)\n"
     ]
    },
    {
     "data": {
      "image/png": "[encoded data removed]",
      "image/svg+xml": "<?xml version=\"1.0\" encoding=\"utf-8\"?>\n<svg xmlns=\"http://www.w3.org/2000/svg\" xmlns:xlink=\"http://www.w3.org/1999/xlink\" width=\"600\" height=\"400\" viewBox=\"0 0 2400 1600\">\n<defs>\n  <clipPath id=\"clip460\">\n    <rect x=\"0\" y=\"0\" width=\"2400\" height=\"1600\"/>\n  </clipPath>\n</defs>\n<path clip-path=\"url(#clip460)\" d=\"\nM0 1600 L2400 1600 L2400 0 L0 0  Z\n  \" fill=\"#ffffff\" fill-rule=\"evenodd\" fill-opacity=\"1\"/>\n<defs>\n  <clipPath id=\"clip461\">\n    <rect x=\"480\" y=\"0\" width=\"1681\" height=\"1600\"/>\n  </clipPath>\n</defs>\n<path clip-path=\"url(#clip460)\" d=\"\nM172.015 1486.45 L2352.76 1486.45 L2352.76 47.2441 L172.015 47.2441  Z\n  \" fill=\"#ffffff\" fill-rule=\"evenodd\" fill-opacity=\"1\"/>\n<defs>\n  <clipPath id=\"clip462\">\n    <rect x=\"172\" y=\"47\" width=\"2182\" height=\"1440\"/>\n  </clipPath>\n</defs>\n<polyline clip-path=\"url(#clip462)\" style=\"stroke:#000000; stroke-linecap:butt; stroke-linejoin:round; stroke-width:2; stroke-opacity:0.1; fill:none\" points=\"\n  233.734,1486.45 233.734,47.2441 \n  \"/>\n<polyline clip-path=\"url(#clip462)\" style=\"stroke:#000000; stroke-linecap:butt; stroke-linejoin:round; stroke-width:2; stroke-opacity:0.1; fill:none\" points=\"\n  748.06,1486.45 748.06,47.2441 \n  \"/>\n<polyline clip-path=\"url(#clip462)\" style=\"stroke:#000000; stroke-linecap:butt; stroke-linejoin:round; stroke-width:2; stroke-opacity:0.1; fill:none\" points=\"\n  1262.39,1486.45 1262.39,47.2441 \n  \"/>\n<polyline clip-path=\"url(#clip462)\" style=\"stroke:#000000; stroke-linecap:butt; stroke-linejoin:round; stroke-width:2; stroke-opacity:0.1; fill:none\" points=\"\n  1776.71,1486.45 1776.71,47.2441 \n  \"/>\n<polyline clip-path=\"url(#clip462)\" style=\"stroke:#000000; stroke-linecap:butt; stroke-linejoin:round; stroke-width:2; stroke-opacity:0.1; fill:none\" points=\"\n  2291.04,1486.45 2291.04,47.2441 \n  \"/>\n<polyline clip-path=\"url(#clip460)\" style=\"stroke:#000000; stroke-linecap:butt; stroke-linejoin:round; stroke-width:4; stroke-opacity:1; fill:none\" points=\"\n  172.015,1486.45 2352.76,1486.45 \n  \"/>\n<polyline clip-path=\"url(#clip460)\" style=\"stroke:#000000; stroke-linecap:butt; stroke-linejoin:round; stroke-width:4; stroke-opacity:1; fill:none\" points=\"\n  233.734,1486.45 233.734,1467.55 \n  \"/>\n<polyline clip-path=\"url(#clip460)\" style=\"stroke:#000000; stroke-linecap:butt; stroke-linejoin:round; stroke-width:4; stroke-opacity:1; fill:none\" points=\"\n  748.06,1486.45 748.06,1467.55 \n  \"/>\n<polyline clip-path=\"url(#clip460)\" style=\"stroke:#000000; stroke-linecap:butt; stroke-linejoin:round; stroke-width:4; stroke-opacity:1; fill:none\" points=\"\n  1262.39,1486.45 1262.39,1467.55 \n  \"/>\n<polyline clip-path=\"url(#clip460)\" style=\"stroke:#000000; stroke-linecap:butt; stroke-linejoin:round; stroke-width:4; stroke-opacity:1; fill:none\" points=\"\n  1776.71,1486.45 1776.71,1467.55 \n  \"/>\n<polyline clip-path=\"url(#clip460)\" style=\"stroke:#000000; stroke-linecap:butt; stroke-linejoin:round; stroke-width:4; stroke-opacity:1; fill:none\" points=\"\n  2291.04,1486.45 2291.04,1467.55 \n  \"/>\n<path clip-path=\"url(#clip460)\" d=\"M187.797 1532.02 L217.472 1532.02 L217.472 1535.95 L187.797 1535.95 L187.797 1532.02 Z\" fill=\"#000000\" fill-rule=\"evenodd\" fill-opacity=\"1\" /><path clip-path=\"url(#clip460)\" d=\"M228.375 1544.91 L236.014 1544.91 L236.014 1518.55 L227.704 1520.21 L227.704 1515.95 L235.968 1514.29 L240.644 1514.29 L240.644 1544.91 L248.282 1544.91 L248.282 1548.85 L228.375 1548.85 L228.375 1544.91 Z\" fill=\"#000000\" fill-rule=\"evenodd\" fill-opacity=\"1\" /><path clip-path=\"url(#clip460)\" d=\"M267.727 1517.37 Q264.116 1517.37 262.287 1520.93 Q260.481 1524.47 260.481 1531.6 Q260.481 1538.71 262.287 1542.27 Q264.116 1545.82 267.727 1545.82 Q271.361 1545.82 273.167 1542.27 Q274.995 1538.71 274.995 1531.6 Q274.995 1524.47 273.167 1520.93 Q271.361 1517.37 267.727 1517.37 M267.727 1513.66 Q273.537 1513.66 276.592 1518.27 Q279.671 1522.85 279.671 1531.6 Q279.671 1540.33 276.592 1544.94 Q273.537 1549.52 267.727 1549.52 Q261.917 1549.52 258.838 1544.94 Q255.782 1540.33 255.782 1531.6 Q255.782 1522.85 258.838 1518.27 Q261.917 1513.66 267.727 1513.66 Z\" fill=\"#000000\" fill-rule=\"evenodd\" fill-opacity=\"1\" /><path clip-path=\"url(#clip460)\" d=\"M717.701 1532.02 L747.377 1532.02 L747.377 1535.95 L717.701 1535.95 L717.701 1532.02 Z\" fill=\"#000000\" fill-rule=\"evenodd\" fill-opacity=\"1\" /><path clip-path=\"url(#clip460)\" d=\"M757.516 1514.29 L775.872 1514.29 L775.872 1518.22 L761.798 1518.22 L761.798 1526.7 Q762.816 1526.35 763.835 1526.19 Q764.854 1526 765.872 1526 Q771.659 1526 775.039 1529.17 Q778.418 1532.34 778.418 1537.76 Q778.418 1543.34 774.946 1546.44 Q771.474 1549.52 765.154 1549.52 Q762.979 1549.52 760.71 1549.15 Q758.465 1548.78 756.057 1548.04 L756.057 1543.34 Q758.141 1544.47 760.363 1545.03 Q762.585 1545.58 765.062 1545.58 Q769.066 1545.58 771.404 1543.48 Q773.742 1541.37 773.742 1537.76 Q773.742 1534.15 771.404 1532.04 Q769.066 1529.94 765.062 1529.94 Q763.187 1529.94 761.312 1530.35 Q759.46 1530.77 757.516 1531.65 L757.516 1514.29 Z\" fill=\"#000000\" fill-rule=\"evenodd\" fill-opacity=\"1\" /><path clip-path=\"url(#clip460)\" d=\"M1262.39 1517.37 Q1258.77 1517.37 1256.95 1520.93 Q1255.14 1524.47 1255.14 1531.6 Q1255.14 1538.71 1256.95 1542.27 Q1258.77 1545.82 1262.39 1545.82 Q1266.02 1545.82 1267.83 1542.27 Q1269.65 1538.71 1269.65 1531.6 Q1269.65 1524.47 1267.83 1520.93 Q1266.02 1517.37 1262.39 1517.37 M1262.39 1513.66 Q1268.2 1513.66 1271.25 1518.27 Q1274.33 1522.85 1274.33 1531.6 Q1274.33 1540.33 1271.25 1544.94 Q1268.2 1549.52 1262.39 1549.52 Q1256.58 1549.52 1253.5 1544.94 Q1250.44 1540.33 1250.44 1531.6 Q1250.44 1522.85 1253.5 1518.27 Q1256.58 1513.66 1262.39 1513.66 Z\" fill=\"#000000\" fill-rule=\"evenodd\" fill-opacity=\"1\" /><path clip-path=\"url(#clip460)\" d=\"M1766.99 1514.29 L1785.35 1514.29 L1785.35 1518.22 L1771.27 1518.22 L1771.27 1526.7 Q1772.29 1526.35 1773.31 1526.19 Q1774.33 1526 1775.35 1526 Q1781.13 1526 1784.51 1529.17 Q1787.89 1532.34 1787.89 1537.76 Q1787.89 1543.34 1784.42 1546.44 Q1780.95 1549.52 1774.63 1549.52 Q1772.45 1549.52 1770.18 1549.15 Q1767.94 1548.78 1765.53 1548.04 L1765.53 1543.34 Q1767.61 1544.47 1769.84 1545.03 Q1772.06 1545.58 1774.54 1545.58 Q1778.54 1545.58 1780.88 1543.48 Q1783.22 1541.37 1783.22 1537.76 Q1783.22 1534.15 1780.88 1532.04 Q1778.54 1529.94 1774.54 1529.94 Q1772.66 1529.94 1770.79 1530.35 Q1768.93 1530.77 1766.99 1531.65 L1766.99 1514.29 Z\" fill=\"#000000\" fill-rule=\"evenodd\" fill-opacity=\"1\" /><path clip-path=\"url(#clip460)\" d=\"M2265.72 1544.91 L2273.36 1544.91 L2273.36 1518.55 L2265.05 1520.21 L2265.05 1515.95 L2273.32 1514.29 L2277.99 1514.29 L2277.99 1544.91 L2285.63 1544.91 L2285.63 1548.85 L2265.72 1548.85 L2265.72 1544.91 Z\" fill=\"#000000\" fill-rule=\"evenodd\" fill-opacity=\"1\" /><path clip-path=\"url(#clip460)\" d=\"M2305.08 1517.37 Q2301.47 1517.37 2299.64 1520.93 Q2297.83 1524.47 2297.83 1531.6 Q2297.83 1538.71 2299.64 1542.27 Q2301.47 1545.82 2305.08 1545.82 Q2308.71 1545.82 2310.52 1542.27 Q2312.34 1538.71 2312.34 1531.6 Q2312.34 1524.47 2310.52 1520.93 Q2308.71 1517.37 2305.08 1517.37 M2305.08 1513.66 Q2310.89 1513.66 2313.94 1518.27 Q2317.02 1522.85 2317.02 1531.6 Q2317.02 1540.33 2313.94 1544.94 Q2310.89 1549.52 2305.08 1549.52 Q2299.27 1549.52 2296.19 1544.94 Q2293.13 1540.33 2293.13 1531.6 Q2293.13 1522.85 2296.19 1518.27 Q2299.27 1513.66 2305.08 1513.66 Z\" fill=\"#000000\" fill-rule=\"evenodd\" fill-opacity=\"1\" /><polyline clip-path=\"url(#clip462)\" style=\"stroke:#000000; stroke-linecap:butt; stroke-linejoin:round; stroke-width:2; stroke-opacity:0.1; fill:none\" points=\"\n  172.015,1445.72 2352.76,1445.72 \n  \"/>\n<polyline clip-path=\"url(#clip462)\" style=\"stroke:#000000; stroke-linecap:butt; stroke-linejoin:round; stroke-width:2; stroke-opacity:0.1; fill:none\" points=\"\n  172.015,1184.61 2352.76,1184.61 \n  \"/>\n<polyline clip-path=\"url(#clip462)\" style=\"stroke:#000000; stroke-linecap:butt; stroke-linejoin:round; stroke-width:2; stroke-opacity:0.1; fill:none\" points=\"\n  172.015,923.508 2352.76,923.508 \n  \"/>\n<polyline clip-path=\"url(#clip462)\" style=\"stroke:#000000; stroke-linecap:butt; stroke-linejoin:round; stroke-width:2; stroke-opacity:0.1; fill:none\" points=\"\n  172.015,662.404 2352.76,662.404 \n  \"/>\n<polyline clip-path=\"url(#clip462)\" style=\"stroke:#000000; stroke-linecap:butt; stroke-linejoin:round; stroke-width:2; stroke-opacity:0.1; fill:none\" points=\"\n  172.015,401.301 2352.76,401.301 \n  \"/>\n<polyline clip-path=\"url(#clip462)\" style=\"stroke:#000000; stroke-linecap:butt; stroke-linejoin:round; stroke-width:2; stroke-opacity:0.1; fill:none\" points=\"\n  172.015,140.197 2352.76,140.197 \n  \"/>\n<polyline clip-path=\"url(#clip460)\" style=\"stroke:#000000; stroke-linecap:butt; stroke-linejoin:round; stroke-width:4; stroke-opacity:1; fill:none\" points=\"\n  172.015,1486.45 172.015,47.2441 \n  \"/>\n<polyline clip-path=\"url(#clip460)\" style=\"stroke:#000000; stroke-linecap:butt; stroke-linejoin:round; stroke-width:4; stroke-opacity:1; fill:none\" points=\"\n  172.015,1445.72 190.912,1445.72 \n  \"/>\n<polyline clip-path=\"url(#clip460)\" style=\"stroke:#000000; stroke-linecap:butt; stroke-linejoin:round; stroke-width:4; stroke-opacity:1; fill:none\" points=\"\n  172.015,1184.61 190.912,1184.61 \n  \"/>\n<polyline clip-path=\"url(#clip460)\" style=\"stroke:#000000; stroke-linecap:butt; stroke-linejoin:round; stroke-width:4; stroke-opacity:1; fill:none\" points=\"\n  172.015,923.508 190.912,923.508 \n  \"/>\n<polyline clip-path=\"url(#clip460)\" style=\"stroke:#000000; stroke-linecap:butt; stroke-linejoin:round; stroke-width:4; stroke-opacity:1; fill:none\" points=\"\n  172.015,662.404 190.912,662.404 \n  \"/>\n<polyline clip-path=\"url(#clip460)\" style=\"stroke:#000000; stroke-linecap:butt; stroke-linejoin:round; stroke-width:4; stroke-opacity:1; fill:none\" points=\"\n  172.015,401.301 190.912,401.301 \n  \"/>\n<polyline clip-path=\"url(#clip460)\" style=\"stroke:#000000; stroke-linecap:butt; stroke-linejoin:round; stroke-width:4; stroke-opacity:1; fill:none\" points=\"\n  172.015,140.197 190.912,140.197 \n  \"/>\n<path clip-path=\"url(#clip460)\" d=\"M124.07 1431.51 Q120.459 1431.51 118.631 1435.08 Q116.825 1438.62 116.825 1445.75 Q116.825 1452.86 118.631 1456.42 Q120.459 1459.96 124.07 1459.96 Q127.705 1459.96 129.51 1456.42 Q131.339 1452.86 131.339 1445.75 Q131.339 1438.62 129.51 1435.08 Q127.705 1431.51 124.07 1431.51 M124.07 1427.81 Q129.881 1427.81 132.936 1432.42 Q136.015 1437 136.015 1445.75 Q136.015 1454.48 132.936 1459.08 Q129.881 1463.67 124.07 1463.67 Q118.26 1463.67 115.182 1459.08 Q112.126 1454.48 112.126 1445.75 Q112.126 1437 115.182 1432.42 Q118.26 1427.81 124.07 1427.81 Z\" fill=\"#000000\" fill-rule=\"evenodd\" fill-opacity=\"1\" /><path clip-path=\"url(#clip460)\" d=\"M54.5569 1197.96 L62.1958 1197.96 L62.1958 1171.59 L53.8856 1173.26 L53.8856 1169 L62.1495 1167.33 L66.8254 1167.33 L66.8254 1197.96 L74.4642 1197.96 L74.4642 1201.89 L54.5569 1201.89 L54.5569 1197.96 Z\" fill=\"#000000\" fill-rule=\"evenodd\" fill-opacity=\"1\" /><path clip-path=\"url(#clip460)\" d=\"M93.9086 1170.41 Q90.2975 1170.41 88.4688 1173.98 Q86.6632 1177.52 86.6632 1184.65 Q86.6632 1191.75 88.4688 1195.32 Q90.2975 1198.86 93.9086 1198.86 Q97.5428 1198.86 99.3483 1195.32 Q101.177 1191.75 101.177 1184.65 Q101.177 1177.52 99.3483 1173.98 Q97.5428 1170.41 93.9086 1170.41 M93.9086 1166.71 Q99.7187 1166.71 102.774 1171.31 Q105.853 1175.9 105.853 1184.65 Q105.853 1193.37 102.774 1197.98 Q99.7187 1202.56 93.9086 1202.56 Q88.0984 1202.56 85.0197 1197.98 Q81.9642 1193.37 81.9642 1184.65 Q81.9642 1175.9 85.0197 1171.31 Q88.0984 1166.71 93.9086 1166.71 Z\" fill=\"#000000\" fill-rule=\"evenodd\" fill-opacity=\"1\" /><path clip-path=\"url(#clip460)\" d=\"M124.07 1170.41 Q120.459 1170.41 118.631 1173.98 Q116.825 1177.52 116.825 1184.65 Q116.825 1191.75 118.631 1195.32 Q120.459 1198.86 124.07 1198.86 Q127.705 1198.86 129.51 1195.32 Q131.339 1191.75 131.339 1184.65 Q131.339 1177.52 129.51 1173.98 Q127.705 1170.41 124.07 1170.41 M124.07 1166.71 Q129.881 1166.71 132.936 1171.31 Q136.015 1175.9 136.015 1184.65 Q136.015 1193.37 132.936 1197.98 Q129.881 1202.56 124.07 1202.56 Q118.26 1202.56 115.182 1197.98 Q112.126 1193.37 112.126 1184.65 Q112.126 1175.9 115.182 1171.31 Q118.26 1166.71 124.07 1166.71 Z\" fill=\"#000000\" fill-rule=\"evenodd\" fill-opacity=\"1\" /><path clip-path=\"url(#clip460)\" d=\"M57.7745 936.853 L74.0939 936.853 L74.0939 940.788 L52.1495 940.788 L52.1495 936.853 Q54.8115 934.098 59.3949 929.469 Q64.0013 924.816 65.1819 923.474 Q67.4272 920.95 68.3068 919.214 Q69.2096 917.455 69.2096 915.765 Q69.2096 913.011 67.2652 911.274 Q65.3439 909.538 62.2421 909.538 Q60.043 909.538 57.5893 910.302 Q55.1588 911.066 52.381 912.617 L52.381 907.895 Q55.2051 906.761 57.6588 906.182 Q60.1124 905.603 62.1495 905.603 Q67.5198 905.603 70.7142 908.288 Q73.9087 910.974 73.9087 915.464 Q73.9087 917.594 73.0985 919.515 Q72.3115 921.413 70.205 924.006 Q69.6263 924.677 66.5245 927.895 Q63.4226 931.089 57.7745 936.853 Z\" fill=\"#000000\" fill-rule=\"evenodd\" fill-opacity=\"1\" /><path clip-path=\"url(#clip460)\" d=\"M93.9086 909.307 Q90.2975 909.307 88.4688 912.872 Q86.6632 916.413 86.6632 923.543 Q86.6632 930.649 88.4688 934.214 Q90.2975 937.756 93.9086 937.756 Q97.5428 937.756 99.3483 934.214 Q101.177 930.649 101.177 923.543 Q101.177 916.413 99.3483 912.872 Q97.5428 909.307 93.9086 909.307 M93.9086 905.603 Q99.7187 905.603 102.774 910.21 Q105.853 914.793 105.853 923.543 Q105.853 932.27 102.774 936.876 Q99.7187 941.46 93.9086 941.46 Q88.0984 941.46 85.0197 936.876 Q81.9642 932.27 81.9642 923.543 Q81.9642 914.793 85.0197 910.21 Q88.0984 905.603 93.9086 905.603 Z\" fill=\"#000000\" fill-rule=\"evenodd\" fill-opacity=\"1\" /><path clip-path=\"url(#clip460)\" d=\"M124.07 909.307 Q120.459 909.307 118.631 912.872 Q116.825 916.413 116.825 923.543 Q116.825 930.649 118.631 934.214 Q120.459 937.756 124.07 937.756 Q127.705 937.756 129.51 934.214 Q131.339 930.649 131.339 923.543 Q131.339 916.413 129.51 912.872 Q127.705 909.307 124.07 909.307 M124.07 905.603 Q129.881 905.603 132.936 910.21 Q136.015 914.793 136.015 923.543 Q136.015 932.27 132.936 936.876 Q129.881 941.46 124.07 941.46 Q118.26 941.46 115.182 936.876 Q112.126 932.27 112.126 923.543 Q112.126 914.793 115.182 910.21 Q118.26 905.603 124.07 905.603 Z\" fill=\"#000000\" fill-rule=\"evenodd\" fill-opacity=\"1\" /><path clip-path=\"url(#clip460)\" d=\"M67.9133 661.05 Q71.2698 661.768 73.1448 664.036 Q75.0429 666.305 75.0429 669.638 Q75.0429 674.754 71.5244 677.555 Q68.0059 680.356 61.5245 680.356 Q59.3486 680.356 57.0338 679.916 Q54.7421 679.499 52.2884 678.643 L52.2884 674.129 Q54.2328 675.263 56.5477 675.842 Q58.8625 676.421 61.3856 676.421 Q65.7837 676.421 68.0754 674.685 Q70.3902 672.948 70.3902 669.638 Q70.3902 666.583 68.2374 664.87 Q66.1078 663.134 62.2884 663.134 L58.2606 663.134 L58.2606 659.291 L62.4735 659.291 Q65.9226 659.291 67.7513 657.925 Q69.58 656.536 69.58 653.944 Q69.58 651.282 67.6819 649.87 Q65.8069 648.435 62.2884 648.435 Q60.3671 648.435 58.168 648.851 Q55.969 649.268 53.3301 650.148 L53.3301 645.981 Q55.9921 645.24 58.3069 644.87 Q60.6449 644.499 62.705 644.499 Q68.0291 644.499 71.1309 646.93 Q74.2327 649.337 74.2327 653.458 Q74.2327 656.328 72.5892 658.319 Q70.9457 660.286 67.9133 661.05 Z\" fill=\"#000000\" fill-rule=\"evenodd\" fill-opacity=\"1\" /><path clip-path=\"url(#clip460)\" d=\"M93.9086 648.203 Q90.2975 648.203 88.4688 651.768 Q86.6632 655.31 86.6632 662.439 Q86.6632 669.546 88.4688 673.11 Q90.2975 676.652 93.9086 676.652 Q97.5428 676.652 99.3483 673.11 Q101.177 669.546 101.177 662.439 Q101.177 655.31 99.3483 651.768 Q97.5428 648.203 93.9086 648.203 M93.9086 644.499 Q99.7187 644.499 102.774 649.106 Q105.853 653.689 105.853 662.439 Q105.853 671.166 102.774 675.772 Q99.7187 680.356 93.9086 680.356 Q88.0984 680.356 85.0197 675.772 Q81.9642 671.166 81.9642 662.439 Q81.9642 653.689 85.0197 649.106 Q88.0984 644.499 93.9086 644.499 Z\" fill=\"#000000\" fill-rule=\"evenodd\" fill-opacity=\"1\" /><path clip-path=\"url(#clip460)\" d=\"M124.07 648.203 Q120.459 648.203 118.631 651.768 Q116.825 655.31 116.825 662.439 Q116.825 669.546 118.631 673.11 Q120.459 676.652 124.07 676.652 Q127.705 676.652 129.51 673.11 Q131.339 669.546 131.339 662.439 Q131.339 655.31 129.51 651.768 Q127.705 648.203 124.07 648.203 M124.07 644.499 Q129.881 644.499 132.936 649.106 Q136.015 653.689 136.015 662.439 Q136.015 671.166 132.936 675.772 Q129.881 680.356 124.07 680.356 Q118.26 680.356 115.182 675.772 Q112.126 671.166 112.126 662.439 Q112.126 653.689 115.182 649.106 Q118.26 644.499 124.07 644.499 Z\" fill=\"#000000\" fill-rule=\"evenodd\" fill-opacity=\"1\" /><path clip-path=\"url(#clip460)\" d=\"M66.5939 388.095 L54.7884 406.544 L66.5939 406.544 L66.5939 388.095 M65.367 384.021 L71.2466 384.021 L71.2466 406.544 L76.1772 406.544 L76.1772 410.433 L71.2466 410.433 L71.2466 418.581 L66.5939 418.581 L66.5939 410.433 L50.9921 410.433 L50.9921 405.919 L65.367 384.021 Z\" fill=\"#000000\" fill-rule=\"evenodd\" fill-opacity=\"1\" /><path clip-path=\"url(#clip460)\" d=\"M93.9086 387.099 Q90.2975 387.099 88.4688 390.664 Q86.6632 394.206 86.6632 401.335 Q86.6632 408.442 88.4688 412.007 Q90.2975 415.548 93.9086 415.548 Q97.5428 415.548 99.3483 412.007 Q101.177 408.442 101.177 401.335 Q101.177 394.206 99.3483 390.664 Q97.5428 387.099 93.9086 387.099 M93.9086 383.396 Q99.7187 383.396 102.774 388.002 Q105.853 392.586 105.853 401.335 Q105.853 410.062 102.774 414.669 Q99.7187 419.252 93.9086 419.252 Q88.0984 419.252 85.0197 414.669 Q81.9642 410.062 81.9642 401.335 Q81.9642 392.586 85.0197 388.002 Q88.0984 383.396 93.9086 383.396 Z\" fill=\"#000000\" fill-rule=\"evenodd\" fill-opacity=\"1\" /><path clip-path=\"url(#clip460)\" d=\"M124.07 387.099 Q120.459 387.099 118.631 390.664 Q116.825 394.206 116.825 401.335 Q116.825 408.442 118.631 412.007 Q120.459 415.548 124.07 415.548 Q127.705 415.548 129.51 412.007 Q131.339 408.442 131.339 401.335 Q131.339 394.206 129.51 390.664 Q127.705 387.099 124.07 387.099 M124.07 383.396 Q129.881 383.396 132.936 388.002 Q136.015 392.586 136.015 401.335 Q136.015 410.062 132.936 414.669 Q129.881 419.252 124.07 419.252 Q118.26 419.252 115.182 414.669 Q112.126 410.062 112.126 401.335 Q112.126 392.586 115.182 388.002 Q118.26 383.396 124.07 383.396 Z\" fill=\"#000000\" fill-rule=\"evenodd\" fill-opacity=\"1\" /><path clip-path=\"url(#clip460)\" d=\"M53.793 122.917 L72.1494 122.917 L72.1494 126.852 L58.0754 126.852 L58.0754 135.324 Q59.0939 134.977 60.1124 134.815 Q61.131 134.63 62.1495 134.63 Q67.9365 134.63 71.3161 137.801 Q74.6957 140.972 74.6957 146.389 Q74.6957 151.968 71.2235 155.07 Q67.7513 158.148 61.4319 158.148 Q59.256 158.148 56.9875 157.778 Q54.7421 157.408 52.3347 156.667 L52.3347 151.968 Q54.418 153.102 56.6402 153.658 Q58.8625 154.213 61.3393 154.213 Q65.3439 154.213 67.6819 152.107 Q70.0198 150 70.0198 146.389 Q70.0198 142.778 67.6819 140.672 Q65.3439 138.565 61.3393 138.565 Q59.4643 138.565 57.5893 138.982 Q55.7375 139.398 53.793 140.278 L53.793 122.917 Z\" fill=\"#000000\" fill-rule=\"evenodd\" fill-opacity=\"1\" /><path clip-path=\"url(#clip460)\" d=\"M93.9086 125.996 Q90.2975 125.996 88.4688 129.561 Q86.6632 133.102 86.6632 140.232 Q86.6632 147.338 88.4688 150.903 Q90.2975 154.445 93.9086 154.445 Q97.5428 154.445 99.3483 150.903 Q101.177 147.338 101.177 140.232 Q101.177 133.102 99.3483 129.561 Q97.5428 125.996 93.9086 125.996 M93.9086 122.292 Q99.7187 122.292 102.774 126.898 Q105.853 131.482 105.853 140.232 Q105.853 148.959 102.774 153.565 Q99.7187 158.148 93.9086 158.148 Q88.0984 158.148 85.0197 153.565 Q81.9642 148.959 81.9642 140.232 Q81.9642 131.482 85.0197 126.898 Q88.0984 122.292 93.9086 122.292 Z\" fill=\"#000000\" fill-rule=\"evenodd\" fill-opacity=\"1\" /><path clip-path=\"url(#clip460)\" d=\"M124.07 125.996 Q120.459 125.996 118.631 129.561 Q116.825 133.102 116.825 140.232 Q116.825 147.338 118.631 150.903 Q120.459 154.445 124.07 154.445 Q127.705 154.445 129.51 150.903 Q131.339 147.338 131.339 140.232 Q131.339 133.102 129.51 129.561 Q127.705 125.996 124.07 125.996 M124.07 122.292 Q129.881 122.292 132.936 126.898 Q136.015 131.482 136.015 140.232 Q136.015 148.959 132.936 153.565 Q129.881 158.148 124.07 158.148 Q118.26 158.148 115.182 153.565 Q112.126 148.959 112.126 140.232 Q112.126 131.482 115.182 126.898 Q118.26 122.292 124.07 122.292 Z\" fill=\"#000000\" fill-rule=\"evenodd\" fill-opacity=\"1\" /><polyline clip-path=\"url(#clip462)\" style=\"stroke:#009af9; stroke-linecap:butt; stroke-linejoin:round; stroke-width:4; stroke-opacity:1; fill:none\" points=\"\n  233.734,192.418 336.599,435.244 439.464,651.96 542.329,842.566 645.194,1007.06 748.06,1145.45 850.925,1257.72 953.79,1343.89 1056.66,1403.94 1159.52,1437.88 \n  1262.39,1445.72 1365.25,1427.44 1468.12,1383.05 1570.98,1312.55 1673.85,1215.94 1776.71,1093.23 1879.58,944.397 1982.44,769.457 2085.31,568.407 2188.17,341.247 \n  2291.04,87.9763 \n  \"/>\n<path clip-path=\"url(#clip460)\" d=\"\nM1985.33 198.898 L2280.06 198.898 L2280.06 95.2176 L1985.33 95.2176  Z\n  \" fill=\"#ffffff\" fill-rule=\"evenodd\" fill-opacity=\"1\"/>\n<polyline clip-path=\"url(#clip460)\" style=\"stroke:#000000; stroke-linecap:butt; stroke-linejoin:round; stroke-width:4; stroke-opacity:1; fill:none\" points=\"\n  1985.33,198.898 2280.06,198.898 2280.06,95.2176 1985.33,95.2176 1985.33,198.898 \n  \"/>\n<polyline clip-path=\"url(#clip460)\" style=\"stroke:#009af9; stroke-linecap:butt; stroke-linejoin:round; stroke-width:4; stroke-opacity:1; fill:none\" points=\"\n  2009.56,147.058 2154.94,147.058 \n  \"/>\n<path clip-path=\"url(#clip460)\" d=\"M2193.02 166.745 Q2191.21 171.375 2189.5 172.787 Q2187.78 174.199 2184.91 174.199 L2181.51 174.199 L2181.51 170.634 L2184.01 170.634 Q2185.77 170.634 2186.74 169.8 Q2187.71 168.967 2188.9 165.865 L2189.66 163.921 L2179.17 138.412 L2183.69 138.412 L2191.79 158.689 L2199.89 138.412 L2204.4 138.412 L2193.02 166.745 Z\" fill=\"#000000\" fill-rule=\"evenodd\" fill-opacity=\"1\" /><path clip-path=\"url(#clip460)\" d=\"M2211.7 160.402 L2219.34 160.402 L2219.34 134.037 L2211.03 135.703 L2211.03 131.444 L2219.29 129.778 L2223.96 129.778 L2223.96 160.402 L2231.6 160.402 L2231.6 164.338 L2211.7 164.338 L2211.7 160.402 Z\" fill=\"#000000\" fill-rule=\"evenodd\" fill-opacity=\"1\" /></svg>\n",
      "text/html": [
       "<?xml version=\"1.0\" encoding=\"utf-8\"?>\n",
       "<svg xmlns=\"http://www.w3.org/2000/svg\" xmlns:xlink=\"http://www.w3.org/1999/xlink\" width=\"600\" height=\"400\" viewBox=\"0 0 2400 1600\">\n",
       "<defs>\n",
       "  <clipPath id=\"clip510\">\n",
       "    <rect x=\"0\" y=\"0\" width=\"2400\" height=\"1600\"/>\n",
       "  </clipPath>\n",
       "</defs>\n",
       "<path clip-path=\"url(#clip510)\" d=\"\n",
       "M0 1600 L2400 1600 L2400 0 L0 0  Z\n",
       "  \" fill=\"#ffffff\" fill-rule=\"evenodd\" fill-opacity=\"1\"/>\n",
       "<defs>\n",
       "  <clipPath id=\"clip511\">\n",
       "    <rect x=\"480\" y=\"0\" width=\"1681\" height=\"1600\"/>\n",
       "  </clipPath>\n",
       "</defs>\n",
       "<path clip-path=\"url(#clip510)\" d=\"\n",
       "M172.015 1486.45 L2352.76 1486.45 L2352.76 47.2441 L172.015 47.2441  Z\n",
       "  \" fill=\"#ffffff\" fill-rule=\"evenodd\" fill-opacity=\"1\"/>\n",
       "<defs>\n",
       "  <clipPath id=\"clip512\">\n",
       "    <rect x=\"172\" y=\"47\" width=\"2182\" height=\"1440\"/>\n",
       "  </clipPath>\n",
       "</defs>\n",
       "<polyline clip-path=\"url(#clip512)\" style=\"stroke:#000000; stroke-linecap:butt; stroke-linejoin:round; stroke-width:2; stroke-opacity:0.1; fill:none\" points=\"\n",
       "  233.734,1486.45 233.734,47.2441 \n",
       "  \"/>\n",
       "<polyline clip-path=\"url(#clip512)\" style=\"stroke:#000000; stroke-linecap:butt; stroke-linejoin:round; stroke-width:2; stroke-opacity:0.1; fill:none\" points=\"\n",
       "  748.06,1486.45 748.06,47.2441 \n",
       "  \"/>\n",
       "<polyline clip-path=\"url(#clip512)\" style=\"stroke:#000000; stroke-linecap:butt; stroke-linejoin:round; stroke-width:2; stroke-opacity:0.1; fill:none\" points=\"\n",
       "  1262.39,1486.45 1262.39,47.2441 \n",
       "  \"/>\n",
       "<polyline clip-path=\"url(#clip512)\" style=\"stroke:#000000; stroke-linecap:butt; stroke-linejoin:round; stroke-width:2; stroke-opacity:0.1; fill:none\" points=\"\n",
       "  1776.71,1486.45 1776.71,47.2441 \n",
       "  \"/>\n",
       "<polyline clip-path=\"url(#clip512)\" style=\"stroke:#000000; stroke-linecap:butt; stroke-linejoin:round; stroke-width:2; stroke-opacity:0.1; fill:none\" points=\"\n",
       "  2291.04,1486.45 2291.04,47.2441 \n",
       "  \"/>\n",
       "<polyline clip-path=\"url(#clip510)\" style=\"stroke:#000000; stroke-linecap:butt; stroke-linejoin:round; stroke-width:4; stroke-opacity:1; fill:none\" points=\"\n",
       "  172.015,1486.45 2352.76,1486.45 \n",
       "  \"/>\n",
       "<polyline clip-path=\"url(#clip510)\" style=\"stroke:#000000; stroke-linecap:butt; stroke-linejoin:round; stroke-width:4; stroke-opacity:1; fill:none\" points=\"\n",
       "  233.734,1486.45 233.734,1467.55 \n",
       "  \"/>\n",
       "<polyline clip-path=\"url(#clip510)\" style=\"stroke:#000000; stroke-linecap:butt; stroke-linejoin:round; stroke-width:4; stroke-opacity:1; fill:none\" points=\"\n",
       "  748.06,1486.45 748.06,1467.55 \n",
       "  \"/>\n",
       "<polyline clip-path=\"url(#clip510)\" style=\"stroke:#000000; stroke-linecap:butt; stroke-linejoin:round; stroke-width:4; stroke-opacity:1; fill:none\" points=\"\n",
       "  1262.39,1486.45 1262.39,1467.55 \n",
       "  \"/>\n",
       "<polyline clip-path=\"url(#clip510)\" style=\"stroke:#000000; stroke-linecap:butt; stroke-linejoin:round; stroke-width:4; stroke-opacity:1; fill:none\" points=\"\n",
       "  1776.71,1486.45 1776.71,1467.55 \n",
       "  \"/>\n",
       "<polyline clip-path=\"url(#clip510)\" style=\"stroke:#000000; stroke-linecap:butt; stroke-linejoin:round; stroke-width:4; stroke-opacity:1; fill:none\" points=\"\n",
       "  2291.04,1486.45 2291.04,1467.55 \n",
       "  \"/>\n",
       "<path clip-path=\"url(#clip510)\" d=\"M187.797 1532.02 L217.472 1532.02 L217.472 1535.95 L187.797 1535.95 L187.797 1532.02 Z\" fill=\"#000000\" fill-rule=\"evenodd\" fill-opacity=\"1\" /><path clip-path=\"url(#clip510)\" d=\"M228.375 1544.91 L236.014 1544.91 L236.014 1518.55 L227.704 1520.21 L227.704 1515.95 L235.968 1514.29 L240.644 1514.29 L240.644 1544.91 L248.282 1544.91 L248.282 1548.85 L228.375 1548.85 L228.375 1544.91 Z\" fill=\"#000000\" fill-rule=\"evenodd\" fill-opacity=\"1\" /><path clip-path=\"url(#clip510)\" d=\"M267.727 1517.37 Q264.116 1517.37 262.287 1520.93 Q260.481 1524.47 260.481 1531.6 Q260.481 1538.71 262.287 1542.27 Q264.116 1545.82 267.727 1545.82 Q271.361 1545.82 273.167 1542.27 Q274.995 1538.71 274.995 1531.6 Q274.995 1524.47 273.167 1520.93 Q271.361 1517.37 267.727 1517.37 M267.727 1513.66 Q273.537 1513.66 276.592 1518.27 Q279.671 1522.85 279.671 1531.6 Q279.671 1540.33 276.592 1544.94 Q273.537 1549.52 267.727 1549.52 Q261.917 1549.52 258.838 1544.94 Q255.782 1540.33 255.782 1531.6 Q255.782 1522.85 258.838 1518.27 Q261.917 1513.66 267.727 1513.66 Z\" fill=\"#000000\" fill-rule=\"evenodd\" fill-opacity=\"1\" /><path clip-path=\"url(#clip510)\" d=\"M717.701 1532.02 L747.377 1532.02 L747.377 1535.95 L717.701 1535.95 L717.701 1532.02 Z\" fill=\"#000000\" fill-rule=\"evenodd\" fill-opacity=\"1\" /><path clip-path=\"url(#clip510)\" d=\"M757.516 1514.29 L775.872 1514.29 L775.872 1518.22 L761.798 1518.22 L761.798 1526.7 Q762.816 1526.35 763.835 1526.19 Q764.854 1526 765.872 1526 Q771.659 1526 775.039 1529.17 Q778.418 1532.34 778.418 1537.76 Q778.418 1543.34 774.946 1546.44 Q771.474 1549.52 765.154 1549.52 Q762.979 1549.52 760.71 1549.15 Q758.465 1548.78 756.057 1548.04 L756.057 1543.34 Q758.141 1544.47 760.363 1545.03 Q762.585 1545.58 765.062 1545.58 Q769.066 1545.58 771.404 1543.48 Q773.742 1541.37 773.742 1537.76 Q773.742 1534.15 771.404 1532.04 Q769.066 1529.94 765.062 1529.94 Q763.187 1529.94 761.312 1530.35 Q759.46 1530.77 757.516 1531.65 L757.516 1514.29 Z\" fill=\"#000000\" fill-rule=\"evenodd\" fill-opacity=\"1\" /><path clip-path=\"url(#clip510)\" d=\"M1262.39 1517.37 Q1258.77 1517.37 1256.95 1520.93 Q1255.14 1524.47 1255.14 1531.6 Q1255.14 1538.71 1256.95 1542.27 Q1258.77 1545.82 1262.39 1545.82 Q1266.02 1545.82 1267.83 1542.27 Q1269.65 1538.71 1269.65 1531.6 Q1269.65 1524.47 1267.83 1520.93 Q1266.02 1517.37 1262.39 1517.37 M1262.39 1513.66 Q1268.2 1513.66 1271.25 1518.27 Q1274.33 1522.85 1274.33 1531.6 Q1274.33 1540.33 1271.25 1544.94 Q1268.2 1549.52 1262.39 1549.52 Q1256.58 1549.52 1253.5 1544.94 Q1250.44 1540.33 1250.44 1531.6 Q1250.44 1522.85 1253.5 1518.27 Q1256.58 1513.66 1262.39 1513.66 Z\" fill=\"#000000\" fill-rule=\"evenodd\" fill-opacity=\"1\" /><path clip-path=\"url(#clip510)\" d=\"M1766.99 1514.29 L1785.35 1514.29 L1785.35 1518.22 L1771.27 1518.22 L1771.27 1526.7 Q1772.29 1526.35 1773.31 1526.19 Q1774.33 1526 1775.35 1526 Q1781.13 1526 1784.51 1529.17 Q1787.89 1532.34 1787.89 1537.76 Q1787.89 1543.34 1784.42 1546.44 Q1780.95 1549.52 1774.63 1549.52 Q1772.45 1549.52 1770.18 1549.15 Q1767.94 1548.78 1765.53 1548.04 L1765.53 1543.34 Q1767.61 1544.47 1769.84 1545.03 Q1772.06 1545.58 1774.54 1545.58 Q1778.54 1545.58 1780.88 1543.48 Q1783.22 1541.37 1783.22 1537.76 Q1783.22 1534.15 1780.88 1532.04 Q1778.54 1529.94 1774.54 1529.94 Q1772.66 1529.94 1770.79 1530.35 Q1768.93 1530.77 1766.99 1531.65 L1766.99 1514.29 Z\" fill=\"#000000\" fill-rule=\"evenodd\" fill-opacity=\"1\" /><path clip-path=\"url(#clip510)\" d=\"M2265.72 1544.91 L2273.36 1544.91 L2273.36 1518.55 L2265.05 1520.21 L2265.05 1515.95 L2273.32 1514.29 L2277.99 1514.29 L2277.99 1544.91 L2285.63 1544.91 L2285.63 1548.85 L2265.72 1548.85 L2265.72 1544.91 Z\" fill=\"#000000\" fill-rule=\"evenodd\" fill-opacity=\"1\" /><path clip-path=\"url(#clip510)\" d=\"M2305.08 1517.37 Q2301.47 1517.37 2299.64 1520.93 Q2297.83 1524.47 2297.83 1531.6 Q2297.83 1538.71 2299.64 1542.27 Q2301.47 1545.82 2305.08 1545.82 Q2308.71 1545.82 2310.52 1542.27 Q2312.34 1538.71 2312.34 1531.6 Q2312.34 1524.47 2310.52 1520.93 Q2308.71 1517.37 2305.08 1517.37 M2305.08 1513.66 Q2310.89 1513.66 2313.94 1518.27 Q2317.02 1522.85 2317.02 1531.6 Q2317.02 1540.33 2313.94 1544.94 Q2310.89 1549.52 2305.08 1549.52 Q2299.27 1549.52 2296.19 1544.94 Q2293.13 1540.33 2293.13 1531.6 Q2293.13 1522.85 2296.19 1518.27 Q2299.27 1513.66 2305.08 1513.66 Z\" fill=\"#000000\" fill-rule=\"evenodd\" fill-opacity=\"1\" /><polyline clip-path=\"url(#clip512)\" style=\"stroke:#000000; stroke-linecap:butt; stroke-linejoin:round; stroke-width:2; stroke-opacity:0.1; fill:none\" points=\"\n",
       "  172.015,1445.72 2352.76,1445.72 \n",
       "  \"/>\n",
       "<polyline clip-path=\"url(#clip512)\" style=\"stroke:#000000; stroke-linecap:butt; stroke-linejoin:round; stroke-width:2; stroke-opacity:0.1; fill:none\" points=\"\n",
       "  172.015,1184.61 2352.76,1184.61 \n",
       "  \"/>\n",
       "<polyline clip-path=\"url(#clip512)\" style=\"stroke:#000000; stroke-linecap:butt; stroke-linejoin:round; stroke-width:2; stroke-opacity:0.1; fill:none\" points=\"\n",
       "  172.015,923.508 2352.76,923.508 \n",
       "  \"/>\n",
       "<polyline clip-path=\"url(#clip512)\" style=\"stroke:#000000; stroke-linecap:butt; stroke-linejoin:round; stroke-width:2; stroke-opacity:0.1; fill:none\" points=\"\n",
       "  172.015,662.404 2352.76,662.404 \n",
       "  \"/>\n",
       "<polyline clip-path=\"url(#clip512)\" style=\"stroke:#000000; stroke-linecap:butt; stroke-linejoin:round; stroke-width:2; stroke-opacity:0.1; fill:none\" points=\"\n",
       "  172.015,401.301 2352.76,401.301 \n",
       "  \"/>\n",
       "<polyline clip-path=\"url(#clip512)\" style=\"stroke:#000000; stroke-linecap:butt; stroke-linejoin:round; stroke-width:2; stroke-opacity:0.1; fill:none\" points=\"\n",
       "  172.015,140.197 2352.76,140.197 \n",
       "  \"/>\n",
       "<polyline clip-path=\"url(#clip510)\" style=\"stroke:#000000; stroke-linecap:butt; stroke-linejoin:round; stroke-width:4; stroke-opacity:1; fill:none\" points=\"\n",
       "  172.015,1486.45 172.015,47.2441 \n",
       "  \"/>\n",
       "<polyline clip-path=\"url(#clip510)\" style=\"stroke:#000000; stroke-linecap:butt; stroke-linejoin:round; stroke-width:4; stroke-opacity:1; fill:none\" points=\"\n",
       "  172.015,1445.72 190.912,1445.72 \n",
       "  \"/>\n",
       "<polyline clip-path=\"url(#clip510)\" style=\"stroke:#000000; stroke-linecap:butt; stroke-linejoin:round; stroke-width:4; stroke-opacity:1; fill:none\" points=\"\n",
       "  172.015,1184.61 190.912,1184.61 \n",
       "  \"/>\n",
       "<polyline clip-path=\"url(#clip510)\" style=\"stroke:#000000; stroke-linecap:butt; stroke-linejoin:round; stroke-width:4; stroke-opacity:1; fill:none\" points=\"\n",
       "  172.015,923.508 190.912,923.508 \n",
       "  \"/>\n",
       "<polyline clip-path=\"url(#clip510)\" style=\"stroke:#000000; stroke-linecap:butt; stroke-linejoin:round; stroke-width:4; stroke-opacity:1; fill:none\" points=\"\n",
       "  172.015,662.404 190.912,662.404 \n",
       "  \"/>\n",
       "<polyline clip-path=\"url(#clip510)\" style=\"stroke:#000000; stroke-linecap:butt; stroke-linejoin:round; stroke-width:4; stroke-opacity:1; fill:none\" points=\"\n",
       "  172.015,401.301 190.912,401.301 \n",
       "  \"/>\n",
       "<polyline clip-path=\"url(#clip510)\" style=\"stroke:#000000; stroke-linecap:butt; stroke-linejoin:round; stroke-width:4; stroke-opacity:1; fill:none\" points=\"\n",
       "  172.015,140.197 190.912,140.197 \n",
       "  \"/>\n",
       "<path clip-path=\"url(#clip510)\" d=\"M124.07 1431.51 Q120.459 1431.51 118.631 1435.08 Q116.825 1438.62 116.825 1445.75 Q116.825 1452.86 118.631 1456.42 Q120.459 1459.96 124.07 1459.96 Q127.705 1459.96 129.51 1456.42 Q131.339 1452.86 131.339 1445.75 Q131.339 1438.62 129.51 1435.08 Q127.705 1431.51 124.07 1431.51 M124.07 1427.81 Q129.881 1427.81 132.936 1432.42 Q136.015 1437 136.015 1445.75 Q136.015 1454.48 132.936 1459.08 Q129.881 1463.67 124.07 1463.67 Q118.26 1463.67 115.182 1459.08 Q112.126 1454.48 112.126 1445.75 Q112.126 1437 115.182 1432.42 Q118.26 1427.81 124.07 1427.81 Z\" fill=\"#000000\" fill-rule=\"evenodd\" fill-opacity=\"1\" /><path clip-path=\"url(#clip510)\" d=\"M54.5569 1197.96 L62.1958 1197.96 L62.1958 1171.59 L53.8856 1173.26 L53.8856 1169 L62.1495 1167.33 L66.8254 1167.33 L66.8254 1197.96 L74.4642 1197.96 L74.4642 1201.89 L54.5569 1201.89 L54.5569 1197.96 Z\" fill=\"#000000\" fill-rule=\"evenodd\" fill-opacity=\"1\" /><path clip-path=\"url(#clip510)\" d=\"M93.9086 1170.41 Q90.2975 1170.41 88.4688 1173.98 Q86.6632 1177.52 86.6632 1184.65 Q86.6632 1191.75 88.4688 1195.32 Q90.2975 1198.86 93.9086 1198.86 Q97.5428 1198.86 99.3483 1195.32 Q101.177 1191.75 101.177 1184.65 Q101.177 1177.52 99.3483 1173.98 Q97.5428 1170.41 93.9086 1170.41 M93.9086 1166.71 Q99.7187 1166.71 102.774 1171.31 Q105.853 1175.9 105.853 1184.65 Q105.853 1193.37 102.774 1197.98 Q99.7187 1202.56 93.9086 1202.56 Q88.0984 1202.56 85.0197 1197.98 Q81.9642 1193.37 81.9642 1184.65 Q81.9642 1175.9 85.0197 1171.31 Q88.0984 1166.71 93.9086 1166.71 Z\" fill=\"#000000\" fill-rule=\"evenodd\" fill-opacity=\"1\" /><path clip-path=\"url(#clip510)\" d=\"M124.07 1170.41 Q120.459 1170.41 118.631 1173.98 Q116.825 1177.52 116.825 1184.65 Q116.825 1191.75 118.631 1195.32 Q120.459 1198.86 124.07 1198.86 Q127.705 1198.86 129.51 1195.32 Q131.339 1191.75 131.339 1184.65 Q131.339 1177.52 129.51 1173.98 Q127.705 1170.41 124.07 1170.41 M124.07 1166.71 Q129.881 1166.71 132.936 1171.31 Q136.015 1175.9 136.015 1184.65 Q136.015 1193.37 132.936 1197.98 Q129.881 1202.56 124.07 1202.56 Q118.26 1202.56 115.182 1197.98 Q112.126 1193.37 112.126 1184.65 Q112.126 1175.9 115.182 1171.31 Q118.26 1166.71 124.07 1166.71 Z\" fill=\"#000000\" fill-rule=\"evenodd\" fill-opacity=\"1\" /><path clip-path=\"url(#clip510)\" d=\"M57.7745 936.853 L74.0939 936.853 L74.0939 940.788 L52.1495 940.788 L52.1495 936.853 Q54.8115 934.098 59.3949 929.469 Q64.0013 924.816 65.1819 923.474 Q67.4272 920.95 68.3068 919.214 Q69.2096 917.455 69.2096 915.765 Q69.2096 913.011 67.2652 911.274 Q65.3439 909.538 62.2421 909.538 Q60.043 909.538 57.5893 910.302 Q55.1588 911.066 52.381 912.617 L52.381 907.895 Q55.2051 906.761 57.6588 906.182 Q60.1124 905.603 62.1495 905.603 Q67.5198 905.603 70.7142 908.288 Q73.9087 910.974 73.9087 915.464 Q73.9087 917.594 73.0985 919.515 Q72.3115 921.413 70.205 924.006 Q69.6263 924.677 66.5245 927.895 Q63.4226 931.089 57.7745 936.853 Z\" fill=\"#000000\" fill-rule=\"evenodd\" fill-opacity=\"1\" /><path clip-path=\"url(#clip510)\" d=\"M93.9086 909.307 Q90.2975 909.307 88.4688 912.872 Q86.6632 916.413 86.6632 923.543 Q86.6632 930.649 88.4688 934.214 Q90.2975 937.756 93.9086 937.756 Q97.5428 937.756 99.3483 934.214 Q101.177 930.649 101.177 923.543 Q101.177 916.413 99.3483 912.872 Q97.5428 909.307 93.9086 909.307 M93.9086 905.603 Q99.7187 905.603 102.774 910.21 Q105.853 914.793 105.853 923.543 Q105.853 932.27 102.774 936.876 Q99.7187 941.46 93.9086 941.46 Q88.0984 941.46 85.0197 936.876 Q81.9642 932.27 81.9642 923.543 Q81.9642 914.793 85.0197 910.21 Q88.0984 905.603 93.9086 905.603 Z\" fill=\"#000000\" fill-rule=\"evenodd\" fill-opacity=\"1\" /><path clip-path=\"url(#clip510)\" d=\"M124.07 909.307 Q120.459 909.307 118.631 912.872 Q116.825 916.413 116.825 923.543 Q116.825 930.649 118.631 934.214 Q120.459 937.756 124.07 937.756 Q127.705 937.756 129.51 934.214 Q131.339 930.649 131.339 923.543 Q131.339 916.413 129.51 912.872 Q127.705 909.307 124.07 909.307 M124.07 905.603 Q129.881 905.603 132.936 910.21 Q136.015 914.793 136.015 923.543 Q136.015 932.27 132.936 936.876 Q129.881 941.46 124.07 941.46 Q118.26 941.46 115.182 936.876 Q112.126 932.27 112.126 923.543 Q112.126 914.793 115.182 910.21 Q118.26 905.603 124.07 905.603 Z\" fill=\"#000000\" fill-rule=\"evenodd\" fill-opacity=\"1\" /><path clip-path=\"url(#clip510)\" d=\"M67.9133 661.05 Q71.2698 661.768 73.1448 664.036 Q75.0429 666.305 75.0429 669.638 Q75.0429 674.754 71.5244 677.555 Q68.0059 680.356 61.5245 680.356 Q59.3486 680.356 57.0338 679.916 Q54.7421 679.499 52.2884 678.643 L52.2884 674.129 Q54.2328 675.263 56.5477 675.842 Q58.8625 676.421 61.3856 676.421 Q65.7837 676.421 68.0754 674.685 Q70.3902 672.948 70.3902 669.638 Q70.3902 666.583 68.2374 664.87 Q66.1078 663.134 62.2884 663.134 L58.2606 663.134 L58.2606 659.291 L62.4735 659.291 Q65.9226 659.291 67.7513 657.925 Q69.58 656.536 69.58 653.944 Q69.58 651.282 67.6819 649.87 Q65.8069 648.435 62.2884 648.435 Q60.3671 648.435 58.168 648.851 Q55.969 649.268 53.3301 650.148 L53.3301 645.981 Q55.9921 645.24 58.3069 644.87 Q60.6449 644.499 62.705 644.499 Q68.0291 644.499 71.1309 646.93 Q74.2327 649.337 74.2327 653.458 Q74.2327 656.328 72.5892 658.319 Q70.9457 660.286 67.9133 661.05 Z\" fill=\"#000000\" fill-rule=\"evenodd\" fill-opacity=\"1\" /><path clip-path=\"url(#clip510)\" d=\"M93.9086 648.203 Q90.2975 648.203 88.4688 651.768 Q86.6632 655.31 86.6632 662.439 Q86.6632 669.546 88.4688 673.11 Q90.2975 676.652 93.9086 676.652 Q97.5428 676.652 99.3483 673.11 Q101.177 669.546 101.177 662.439 Q101.177 655.31 99.3483 651.768 Q97.5428 648.203 93.9086 648.203 M93.9086 644.499 Q99.7187 644.499 102.774 649.106 Q105.853 653.689 105.853 662.439 Q105.853 671.166 102.774 675.772 Q99.7187 680.356 93.9086 680.356 Q88.0984 680.356 85.0197 675.772 Q81.9642 671.166 81.9642 662.439 Q81.9642 653.689 85.0197 649.106 Q88.0984 644.499 93.9086 644.499 Z\" fill=\"#000000\" fill-rule=\"evenodd\" fill-opacity=\"1\" /><path clip-path=\"url(#clip510)\" d=\"M124.07 648.203 Q120.459 648.203 118.631 651.768 Q116.825 655.31 116.825 662.439 Q116.825 669.546 118.631 673.11 Q120.459 676.652 124.07 676.652 Q127.705 676.652 129.51 673.11 Q131.339 669.546 131.339 662.439 Q131.339 655.31 129.51 651.768 Q127.705 648.203 124.07 648.203 M124.07 644.499 Q129.881 644.499 132.936 649.106 Q136.015 653.689 136.015 662.439 Q136.015 671.166 132.936 675.772 Q129.881 680.356 124.07 680.356 Q118.26 680.356 115.182 675.772 Q112.126 671.166 112.126 662.439 Q112.126 653.689 115.182 649.106 Q118.26 644.499 124.07 644.499 Z\" fill=\"#000000\" fill-rule=\"evenodd\" fill-opacity=\"1\" /><path clip-path=\"url(#clip510)\" d=\"M66.5939 388.095 L54.7884 406.544 L66.5939 406.544 L66.5939 388.095 M65.367 384.021 L71.2466 384.021 L71.2466 406.544 L76.1772 406.544 L76.1772 410.433 L71.2466 410.433 L71.2466 418.581 L66.5939 418.581 L66.5939 410.433 L50.9921 410.433 L50.9921 405.919 L65.367 384.021 Z\" fill=\"#000000\" fill-rule=\"evenodd\" fill-opacity=\"1\" /><path clip-path=\"url(#clip510)\" d=\"M93.9086 387.099 Q90.2975 387.099 88.4688 390.664 Q86.6632 394.206 86.6632 401.335 Q86.6632 408.442 88.4688 412.007 Q90.2975 415.548 93.9086 415.548 Q97.5428 415.548 99.3483 412.007 Q101.177 408.442 101.177 401.335 Q101.177 394.206 99.3483 390.664 Q97.5428 387.099 93.9086 387.099 M93.9086 383.396 Q99.7187 383.396 102.774 388.002 Q105.853 392.586 105.853 401.335 Q105.853 410.062 102.774 414.669 Q99.7187 419.252 93.9086 419.252 Q88.0984 419.252 85.0197 414.669 Q81.9642 410.062 81.9642 401.335 Q81.9642 392.586 85.0197 388.002 Q88.0984 383.396 93.9086 383.396 Z\" fill=\"#000000\" fill-rule=\"evenodd\" fill-opacity=\"1\" /><path clip-path=\"url(#clip510)\" d=\"M124.07 387.099 Q120.459 387.099 118.631 390.664 Q116.825 394.206 116.825 401.335 Q116.825 408.442 118.631 412.007 Q120.459 415.548 124.07 415.548 Q127.705 415.548 129.51 412.007 Q131.339 408.442 131.339 401.335 Q131.339 394.206 129.51 390.664 Q127.705 387.099 124.07 387.099 M124.07 383.396 Q129.881 383.396 132.936 388.002 Q136.015 392.586 136.015 401.335 Q136.015 410.062 132.936 414.669 Q129.881 419.252 124.07 419.252 Q118.26 419.252 115.182 414.669 Q112.126 410.062 112.126 401.335 Q112.126 392.586 115.182 388.002 Q118.26 383.396 124.07 383.396 Z\" fill=\"#000000\" fill-rule=\"evenodd\" fill-opacity=\"1\" /><path clip-path=\"url(#clip510)\" d=\"M53.793 122.917 L72.1494 122.917 L72.1494 126.852 L58.0754 126.852 L58.0754 135.324 Q59.0939 134.977 60.1124 134.815 Q61.131 134.63 62.1495 134.63 Q67.9365 134.63 71.3161 137.801 Q74.6957 140.972 74.6957 146.389 Q74.6957 151.968 71.2235 155.07 Q67.7513 158.148 61.4319 158.148 Q59.256 158.148 56.9875 157.778 Q54.7421 157.408 52.3347 156.667 L52.3347 151.968 Q54.418 153.102 56.6402 153.658 Q58.8625 154.213 61.3393 154.213 Q65.3439 154.213 67.6819 152.107 Q70.0198 150 70.0198 146.389 Q70.0198 142.778 67.6819 140.672 Q65.3439 138.565 61.3393 138.565 Q59.4643 138.565 57.5893 138.982 Q55.7375 139.398 53.793 140.278 L53.793 122.917 Z\" fill=\"#000000\" fill-rule=\"evenodd\" fill-opacity=\"1\" /><path clip-path=\"url(#clip510)\" d=\"M93.9086 125.996 Q90.2975 125.996 88.4688 129.561 Q86.6632 133.102 86.6632 140.232 Q86.6632 147.338 88.4688 150.903 Q90.2975 154.445 93.9086 154.445 Q97.5428 154.445 99.3483 150.903 Q101.177 147.338 101.177 140.232 Q101.177 133.102 99.3483 129.561 Q97.5428 125.996 93.9086 125.996 M93.9086 122.292 Q99.7187 122.292 102.774 126.898 Q105.853 131.482 105.853 140.232 Q105.853 148.959 102.774 153.565 Q99.7187 158.148 93.9086 158.148 Q88.0984 158.148 85.0197 153.565 Q81.9642 148.959 81.9642 140.232 Q81.9642 131.482 85.0197 126.898 Q88.0984 122.292 93.9086 122.292 Z\" fill=\"#000000\" fill-rule=\"evenodd\" fill-opacity=\"1\" /><path clip-path=\"url(#clip510)\" d=\"M124.07 125.996 Q120.459 125.996 118.631 129.561 Q116.825 133.102 116.825 140.232 Q116.825 147.338 118.631 150.903 Q120.459 154.445 124.07 154.445 Q127.705 154.445 129.51 150.903 Q131.339 147.338 131.339 140.232 Q131.339 133.102 129.51 129.561 Q127.705 125.996 124.07 125.996 M124.07 122.292 Q129.881 122.292 132.936 126.898 Q136.015 131.482 136.015 140.232 Q136.015 148.959 132.936 153.565 Q129.881 158.148 124.07 158.148 Q118.26 158.148 115.182 153.565 Q112.126 148.959 112.126 140.232 Q112.126 131.482 115.182 126.898 Q118.26 122.292 124.07 122.292 Z\" fill=\"#000000\" fill-rule=\"evenodd\" fill-opacity=\"1\" /><polyline clip-path=\"url(#clip512)\" style=\"stroke:#009af9; stroke-linecap:butt; stroke-linejoin:round; stroke-width:4; stroke-opacity:1; fill:none\" points=\"\n",
       "  233.734,192.418 336.599,435.244 439.464,651.96 542.329,842.566 645.194,1007.06 748.06,1145.45 850.925,1257.72 953.79,1343.89 1056.66,1403.94 1159.52,1437.88 \n",
       "  1262.39,1445.72 1365.25,1427.44 1468.12,1383.05 1570.98,1312.55 1673.85,1215.94 1776.71,1093.23 1879.58,944.397 1982.44,769.457 2085.31,568.407 2188.17,341.247 \n",
       "  2291.04,87.9763 \n",
       "  \"/>\n",
       "<path clip-path=\"url(#clip510)\" d=\"\n",
       "M1985.33 198.898 L2280.06 198.898 L2280.06 95.2176 L1985.33 95.2176  Z\n",
       "  \" fill=\"#ffffff\" fill-rule=\"evenodd\" fill-opacity=\"1\"/>\n",
       "<polyline clip-path=\"url(#clip510)\" style=\"stroke:#000000; stroke-linecap:butt; stroke-linejoin:round; stroke-width:4; stroke-opacity:1; fill:none\" points=\"\n",
       "  1985.33,198.898 2280.06,198.898 2280.06,95.2176 1985.33,95.2176 1985.33,198.898 \n",
       "  \"/>\n",
       "<polyline clip-path=\"url(#clip510)\" style=\"stroke:#009af9; stroke-linecap:butt; stroke-linejoin:round; stroke-width:4; stroke-opacity:1; fill:none\" points=\"\n",
       "  2009.56,147.058 2154.94,147.058 \n",
       "  \"/>\n",
       "<path clip-path=\"url(#clip510)\" d=\"M2193.02 166.745 Q2191.21 171.375 2189.5 172.787 Q2187.78 174.199 2184.91 174.199 L2181.51 174.199 L2181.51 170.634 L2184.01 170.634 Q2185.77 170.634 2186.74 169.8 Q2187.71 168.967 2188.9 165.865 L2189.66 163.921 L2179.17 138.412 L2183.69 138.412 L2191.79 158.689 L2199.89 138.412 L2204.4 138.412 L2193.02 166.745 Z\" fill=\"#000000\" fill-rule=\"evenodd\" fill-opacity=\"1\" /><path clip-path=\"url(#clip510)\" d=\"M2211.7 160.402 L2219.34 160.402 L2219.34 134.037 L2211.03 135.703 L2211.03 131.444 L2219.29 129.778 L2223.96 129.778 L2223.96 160.402 L2231.6 160.402 L2231.6 164.338 L2211.7 164.338 L2211.7 160.402 Z\" fill=\"#000000\" fill-rule=\"evenodd\" fill-opacity=\"1\" /></svg>\n"
      ]
     },
     "metadata": {},
     "output_type": "display_data"
    }
   ],
   "source": [
    "# bonus round 3: plotting\n",
    "\n",
    "function polynomial(val1,\n",
    "                    val2, \n",
    "                    val3, \n",
    "                    start, \n",
    "                    stop, \n",
    "                    step)\n",
    "\n",
    "    yvals = zeros(Float64, 0) # make an empty array (0 elements) with a type Float64\n",
    "\n",
    "#   For a scaled up version, I'd use a 32 bit float because Julia can be ran directly on the GPU.\n",
    "#   This means that it inherits any hardware GPU limitations, namely that consumer-grade GPU's\n",
    "#   cannot do double precision (Float64) computations. CUDA, the defacto option, inherits this too.\n",
    "\n",
    "    for x in start:stop # iterators are very nice\n",
    "        push!(yvals, val1*x^2 + val2*x + val3) # push y values into the array\n",
    "    end\n",
    "\n",
    "    yvals # return is optional\n",
    "end\n",
    "\n",
    "#############################################################\n",
    "#                                                           #\n",
    "#               INITIALIZING GRAPHING VARIABLES             #\n",
    "#                                                           #\n",
    "#############################################################\n",
    "\n",
    "# graph features\n",
    "start = -10\n",
    "stop = 10\n",
    "step = .00001\n",
    "\n",
    "# polynomial values\n",
    "a = 5\n",
    "b = 2\n",
    "c = 0\n",
    "\n",
    "# Use @show to print out entire objects without needing stupid loops\n",
    "\n",
    "x = start:stop # use the \"range\" type to specify x-axis\n",
    "@time y = polynomial(a, b, c, start, stop, step) # generate the polynomial\n",
    "\n",
    "\n",
    "using Plots\n",
    "gr() # use the gr backend\n",
    "plot(x,y) # finally plot"
   ]
  },
  {
   "cell_type": "code",
   "execution_count": 12,
   "metadata": {},
   "outputs": [],
   "source": []
  }
 ],
 "metadata": {
  "kernelspec": {
   "display_name": "Julia 1.8.0-rc4",
   "language": "julia",
   "name": "julia-1.8"
  },
  "language_info": {
   "file_extension": ".jl",
   "mimetype": "application/julia",
   "name": "julia",
   "version": "1.8.0-rc4"
  },
  "orig_nbformat": 4
 },
 "nbformat": 4,
 "nbformat_minor": 2
}
