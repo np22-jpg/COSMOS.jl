{
 "cells": [
  {
   "cell_type": "code",
   "execution_count": 1,
   "metadata": {},
   "outputs": [
    {
     "name": "stdout",
     "output_type": "stream",
     "text": [
      "S_1 = 55\n",
      "S_2 = 55.0\n"
     ]
    },
    {
     "data": {
      "text/plain": [
       "55.0"
      ]
     },
     "metadata": {},
     "output_type": "display_data"
    }
   ],
   "source": [
    "# arithmetic series\n",
    "\n",
    "#recursive\n",
    "S_1 = 0\n",
    "N = 10\n",
    "\n",
    "for i in 1:N\n",
    "    S_1 += i\n",
    "end\n",
    "\n",
    "@show S_1\n",
    "\n",
    "\n",
    "#explicit\n",
    "S_2 = N*(N + 1)/2\n",
    "\n",
    "@show S_2"
   ]
  },
  {
   "cell_type": "code",
   "execution_count": 2,
   "metadata": {},
   "outputs": [
    {
     "data": {
      "text/plain": [
       "true"
      ]
     },
     "metadata": {},
     "output_type": "display_data"
    }
   ],
   "source": [
    "#arithmetic series, functionized\n",
    "\n",
    "function assign(N)\n",
    "    if typeof(N) != Int64\n",
    "        error(\"Integers only!\")\n",
    "    elseif N < 0\n",
    "        error(\"Posistive values only!\")\n",
    "    else\n",
    "        N\n",
    "    end\n",
    "end\n",
    "\n",
    "function recursive(N)\n",
    "    S = 0\n",
    "\n",
    "    N = assign(N)\n",
    "    for i in 1:N\n",
    "        S += i\n",
    "    end\n",
    "\n",
    "    S\n",
    "end\n",
    "\n",
    "function explicit(N)\n",
    "    N = assign(N)\n",
    "    S = N*(N + 1)/2\n",
    "end\n",
    "\n",
    "N = 5\n",
    "\n",
    "val1 = explicit(N)\n",
    "val2 = recursive(N) \n",
    "# @show typeof(val1)\n",
    "# @show typeof(val2)\n",
    "\n",
    "val1 == val2 # check if each function equals each other for a given N\n",
    "\n",
    "# Breaks with floats, hence the type annotations (can't have a fraction of a whole number)\n",
    "# Breaks with negative numbers, too"
   ]
  },
  {
   "cell_type": "code",
   "execution_count": 3,
   "metadata": {},
   "outputs": [
    {
     "name": "stdout",
     "output_type": "stream",
     "text": [
      "val1 = explicit(N, A, r) = 3.0\n",
      "val2 = recursive(N, A, r) = 3.0\n"
     ]
    },
    {
     "data": {
      "text/plain": [
       "true"
      ]
     },
     "metadata": {},
     "output_type": "display_data"
    }
   ],
   "source": [
    "# geometric series\n",
    "function assign(N)\n",
    "    if typeof(N) != Int64\n",
    "        error(\"Integers only!\")\n",
    "    elseif N < 0\n",
    "        error(\"Posistive values only!\")\n",
    "    else\n",
    "        N\n",
    "    end\n",
    "end\n",
    "\n",
    "function recursive(N, A, r)\n",
    "    S = A\n",
    "\n",
    "    N = assign(N)\n",
    "    for i in 1:N\n",
    "        S += A*r^i\n",
    "    end\n",
    "\n",
    "    S\n",
    "end\n",
    "\n",
    "function explicit(N, A, r)\n",
    "    N = assign(N)\n",
    "    S = A/(1 - r)\n",
    "    round(S) # we do a little cheating\n",
    "end\n",
    "\n",
    "N = 100\n",
    "A = 2\n",
    "r = 1/3\n",
    "\n",
    "@show val1 = explicit(N, A, r)\n",
    "@show val2 = recursive(N, A, r) \n",
    "\n",
    "val1 == val2 # check if each function equals each other for a given N\n"
   ]
  },
  {
   "cell_type": "code",
   "execution_count": 4,
   "metadata": {},
   "outputs": [
    {
     "data": {
      "text/plain": [
       "true"
      ]
     },
     "metadata": {},
     "output_type": "display_data"
    }
   ],
   "source": [
    "# the third thing\n",
    "0.99999999999999999 == 1"
   ]
  },
  {
   "cell_type": "code",
   "execution_count": 5,
   "metadata": {},
   "outputs": [
    {
     "name": "stdout",
     "output_type": "stream",
     "text": [
      "385\n"
     ]
    }
   ],
   "source": [
    "# the fourth thing\n",
    "N = 10\n",
    "S = 0\n",
    "\n",
    "log = zeros(Float64, 0)\n",
    "\n",
    "for i in 1:N\n",
    "    S += i^2\n",
    "    push!(log, S)\n",
    "end\n",
    "println(S)"
   ]
  },
  {
   "cell_type": "code",
   "execution_count": 6,
   "metadata": {},
   "outputs": [
    {
     "data": {
      "image/png": "[encoded data removed]",
      "image/svg+xml": "<?xml version=\"1.0\" encoding=\"utf-8\"?>\n<svg xmlns=\"http://www.w3.org/2000/svg\" xmlns:xlink=\"http://www.w3.org/1999/xlink\" width=\"600\" height=\"400\" viewBox=\"0 0 2400 1600\">\n<defs>\n  <clipPath id=\"clip360\">\n    <rect x=\"0\" y=\"0\" width=\"2400\" height=\"1600\"/>\n  </clipPath>\n</defs>\n<path clip-path=\"url(#clip360)\" d=\"\nM0 1600 L2400 1600 L2400 0 L0 0  Z\n  \" fill=\"#ffffff\" fill-rule=\"evenodd\" fill-opacity=\"1\"/>\n<defs>\n  <clipPath id=\"clip361\">\n    <rect x=\"480\" y=\"0\" width=\"1681\" height=\"1600\"/>\n  </clipPath>\n</defs>\n<path clip-path=\"url(#clip360)\" d=\"\nM170.857 1486.45 L2352.76 1486.45 L2352.76 47.2441 L170.857 47.2441  Z\n  \" fill=\"#ffffff\" fill-rule=\"evenodd\" fill-opacity=\"1\"/>\n<defs>\n  <clipPath id=\"clip362\">\n    <rect x=\"170\" y=\"47\" width=\"2183\" height=\"1440\"/>\n  </clipPath>\n</defs>\n<polyline clip-path=\"url(#clip362)\" style=\"stroke:#000000; stroke-linecap:butt; stroke-linejoin:round; stroke-width:2; stroke-opacity:0.1; fill:none\" points=\"\n  461.32,1486.45 461.32,47.2441 \n  \"/>\n<polyline clip-path=\"url(#clip362)\" style=\"stroke:#000000; stroke-linecap:butt; stroke-linejoin:round; stroke-width:2; stroke-opacity:0.1; fill:none\" points=\"\n  918.741,1486.45 918.741,47.2441 \n  \"/>\n<polyline clip-path=\"url(#clip362)\" style=\"stroke:#000000; stroke-linecap:butt; stroke-linejoin:round; stroke-width:2; stroke-opacity:0.1; fill:none\" points=\"\n  1376.16,1486.45 1376.16,47.2441 \n  \"/>\n<polyline clip-path=\"url(#clip362)\" style=\"stroke:#000000; stroke-linecap:butt; stroke-linejoin:round; stroke-width:2; stroke-opacity:0.1; fill:none\" points=\"\n  1833.58,1486.45 1833.58,47.2441 \n  \"/>\n<polyline clip-path=\"url(#clip362)\" style=\"stroke:#000000; stroke-linecap:butt; stroke-linejoin:round; stroke-width:2; stroke-opacity:0.1; fill:none\" points=\"\n  2291,1486.45 2291,47.2441 \n  \"/>\n<polyline clip-path=\"url(#clip360)\" style=\"stroke:#000000; stroke-linecap:butt; stroke-linejoin:round; stroke-width:4; stroke-opacity:1; fill:none\" points=\"\n  170.857,1486.45 2352.76,1486.45 \n  \"/>\n<polyline clip-path=\"url(#clip360)\" style=\"stroke:#000000; stroke-linecap:butt; stroke-linejoin:round; stroke-width:4; stroke-opacity:1; fill:none\" points=\"\n  461.32,1486.45 461.32,1467.55 \n  \"/>\n<polyline clip-path=\"url(#clip360)\" style=\"stroke:#000000; stroke-linecap:butt; stroke-linejoin:round; stroke-width:4; stroke-opacity:1; fill:none\" points=\"\n  918.741,1486.45 918.741,1467.55 \n  \"/>\n<polyline clip-path=\"url(#clip360)\" style=\"stroke:#000000; stroke-linecap:butt; stroke-linejoin:round; stroke-width:4; stroke-opacity:1; fill:none\" points=\"\n  1376.16,1486.45 1376.16,1467.55 \n  \"/>\n<polyline clip-path=\"url(#clip360)\" style=\"stroke:#000000; stroke-linecap:butt; stroke-linejoin:round; stroke-width:4; stroke-opacity:1; fill:none\" points=\"\n  1833.58,1486.45 1833.58,1467.55 \n  \"/>\n<polyline clip-path=\"url(#clip360)\" style=\"stroke:#000000; stroke-linecap:butt; stroke-linejoin:round; stroke-width:4; stroke-opacity:1; fill:none\" points=\"\n  2291,1486.45 2291,1467.55 \n  \"/>\n<path clip-path=\"url(#clip360)\" d=\"M455.973 1544.91 L472.292 1544.91 L472.292 1548.85 L450.348 1548.85 L450.348 1544.91 Q453.01 1542.16 457.593 1537.53 Q462.199 1532.88 463.38 1531.53 Q465.625 1529.01 466.505 1527.27 Q467.408 1525.51 467.408 1523.82 Q467.408 1521.07 465.463 1519.33 Q463.542 1517.6 460.44 1517.6 Q458.241 1517.6 455.787 1518.36 Q453.357 1519.13 450.579 1520.68 L450.579 1515.95 Q453.403 1514.82 455.857 1514.24 Q458.311 1513.66 460.348 1513.66 Q465.718 1513.66 468.912 1516.35 Q472.107 1519.03 472.107 1523.52 Q472.107 1525.65 471.297 1527.57 Q470.51 1529.47 468.403 1532.07 Q467.824 1532.74 464.723 1535.95 Q461.621 1539.15 455.973 1544.91 Z\" fill=\"#000000\" fill-rule=\"evenodd\" fill-opacity=\"1\" /><path clip-path=\"url(#clip360)\" d=\"M921.75 1518.36 L909.945 1536.81 L921.75 1536.81 L921.75 1518.36 M920.523 1514.29 L926.403 1514.29 L926.403 1536.81 L931.333 1536.81 L931.333 1540.7 L926.403 1540.7 L926.403 1548.85 L921.75 1548.85 L921.75 1540.7 L906.148 1540.7 L906.148 1536.19 L920.523 1514.29 Z\" fill=\"#000000\" fill-rule=\"evenodd\" fill-opacity=\"1\" /><path clip-path=\"url(#clip360)\" d=\"M1376.57 1529.7 Q1373.42 1529.7 1371.57 1531.86 Q1369.74 1534.01 1369.74 1537.76 Q1369.74 1541.49 1371.57 1543.66 Q1373.42 1545.82 1376.57 1545.82 Q1379.72 1545.82 1381.54 1543.66 Q1383.4 1541.49 1383.4 1537.76 Q1383.4 1534.01 1381.54 1531.86 Q1379.72 1529.7 1376.57 1529.7 M1385.85 1515.05 L1385.85 1519.31 Q1384.09 1518.48 1382.28 1518.04 Q1380.5 1517.6 1378.74 1517.6 Q1374.11 1517.6 1371.66 1520.72 Q1369.23 1523.85 1368.88 1530.17 Q1370.25 1528.15 1372.31 1527.09 Q1374.37 1526 1376.84 1526 Q1382.05 1526 1385.06 1529.17 Q1388.09 1532.32 1388.09 1537.76 Q1388.09 1543.08 1384.95 1546.3 Q1381.8 1549.52 1376.57 1549.52 Q1370.57 1549.52 1367.4 1544.94 Q1364.23 1540.33 1364.23 1531.6 Q1364.23 1523.41 1368.12 1518.55 Q1372.01 1513.66 1378.56 1513.66 Q1380.32 1513.66 1382.1 1514.01 Q1383.9 1514.36 1385.85 1515.05 Z\" fill=\"#000000\" fill-rule=\"evenodd\" fill-opacity=\"1\" /><path clip-path=\"url(#clip360)\" d=\"M1833.58 1532.44 Q1830.25 1532.44 1828.33 1534.22 Q1826.43 1536 1826.43 1539.13 Q1826.43 1542.25 1828.33 1544.03 Q1830.25 1545.82 1833.58 1545.82 Q1836.92 1545.82 1838.84 1544.03 Q1840.76 1542.23 1840.76 1539.13 Q1840.76 1536 1838.84 1534.22 Q1836.94 1532.44 1833.58 1532.44 M1828.91 1530.45 Q1825.9 1529.7 1824.21 1527.64 Q1822.54 1525.58 1822.54 1522.62 Q1822.54 1518.48 1825.48 1516.07 Q1828.44 1513.66 1833.58 1513.66 Q1838.75 1513.66 1841.68 1516.07 Q1844.62 1518.48 1844.62 1522.62 Q1844.62 1525.58 1842.93 1527.64 Q1841.27 1529.7 1838.28 1530.45 Q1841.66 1531.23 1843.54 1533.52 Q1845.43 1535.82 1845.43 1539.13 Q1845.43 1544.15 1842.36 1546.83 Q1839.3 1549.52 1833.58 1549.52 Q1827.87 1549.52 1824.79 1546.83 Q1821.73 1544.15 1821.73 1539.13 Q1821.73 1535.82 1823.63 1533.52 Q1825.53 1531.23 1828.91 1530.45 M1827.19 1523.06 Q1827.19 1525.75 1828.86 1527.25 Q1830.55 1528.76 1833.58 1528.76 Q1836.59 1528.76 1838.28 1527.25 Q1839.99 1525.75 1839.99 1523.06 Q1839.99 1520.38 1838.28 1518.87 Q1836.59 1517.37 1833.58 1517.37 Q1830.55 1517.37 1828.86 1518.87 Q1827.19 1520.38 1827.19 1523.06 Z\" fill=\"#000000\" fill-rule=\"evenodd\" fill-opacity=\"1\" /><path clip-path=\"url(#clip360)\" d=\"M2265.69 1544.91 L2273.33 1544.91 L2273.33 1518.55 L2265.02 1520.21 L2265.02 1515.95 L2273.28 1514.29 L2277.96 1514.29 L2277.96 1544.91 L2285.6 1544.91 L2285.6 1548.85 L2265.69 1548.85 L2265.69 1544.91 Z\" fill=\"#000000\" fill-rule=\"evenodd\" fill-opacity=\"1\" /><path clip-path=\"url(#clip360)\" d=\"M2305.04 1517.37 Q2301.43 1517.37 2299.6 1520.93 Q2297.8 1524.47 2297.8 1531.6 Q2297.8 1538.71 2299.6 1542.27 Q2301.43 1545.82 2305.04 1545.82 Q2308.68 1545.82 2310.48 1542.27 Q2312.31 1538.71 2312.31 1531.6 Q2312.31 1524.47 2310.48 1520.93 Q2308.68 1517.37 2305.04 1517.37 M2305.04 1513.66 Q2310.85 1513.66 2313.91 1518.27 Q2316.99 1522.85 2316.99 1531.6 Q2316.99 1540.33 2313.91 1544.94 Q2310.85 1549.52 2305.04 1549.52 Q2299.23 1549.52 2296.15 1544.94 Q2293.1 1540.33 2293.1 1531.6 Q2293.1 1522.85 2296.15 1518.27 Q2299.23 1513.66 2305.04 1513.66 Z\" fill=\"#000000\" fill-rule=\"evenodd\" fill-opacity=\"1\" /><polyline clip-path=\"url(#clip362)\" style=\"stroke:#000000; stroke-linecap:butt; stroke-linejoin:round; stroke-width:2; stroke-opacity:0.1; fill:none\" points=\"\n  170.857,1449.25 2352.76,1449.25 \n  \"/>\n<polyline clip-path=\"url(#clip362)\" style=\"stroke:#000000; stroke-linecap:butt; stroke-linejoin:round; stroke-width:2; stroke-opacity:0.1; fill:none\" points=\"\n  170.857,1095.67 2352.76,1095.67 \n  \"/>\n<polyline clip-path=\"url(#clip362)\" style=\"stroke:#000000; stroke-linecap:butt; stroke-linejoin:round; stroke-width:2; stroke-opacity:0.1; fill:none\" points=\"\n  170.857,742.096 2352.76,742.096 \n  \"/>\n<polyline clip-path=\"url(#clip362)\" style=\"stroke:#000000; stroke-linecap:butt; stroke-linejoin:round; stroke-width:2; stroke-opacity:0.1; fill:none\" points=\"\n  170.857,388.518 2352.76,388.518 \n  \"/>\n<polyline clip-path=\"url(#clip360)\" style=\"stroke:#000000; stroke-linecap:butt; stroke-linejoin:round; stroke-width:4; stroke-opacity:1; fill:none\" points=\"\n  170.857,1486.45 170.857,47.2441 \n  \"/>\n<polyline clip-path=\"url(#clip360)\" style=\"stroke:#000000; stroke-linecap:butt; stroke-linejoin:round; stroke-width:4; stroke-opacity:1; fill:none\" points=\"\n  170.857,1449.25 189.755,1449.25 \n  \"/>\n<polyline clip-path=\"url(#clip360)\" style=\"stroke:#000000; stroke-linecap:butt; stroke-linejoin:round; stroke-width:4; stroke-opacity:1; fill:none\" points=\"\n  170.857,1095.67 189.755,1095.67 \n  \"/>\n<polyline clip-path=\"url(#clip360)\" style=\"stroke:#000000; stroke-linecap:butt; stroke-linejoin:round; stroke-width:4; stroke-opacity:1; fill:none\" points=\"\n  170.857,742.096 189.755,742.096 \n  \"/>\n<polyline clip-path=\"url(#clip360)\" style=\"stroke:#000000; stroke-linecap:butt; stroke-linejoin:round; stroke-width:4; stroke-opacity:1; fill:none\" points=\"\n  170.857,388.518 189.755,388.518 \n  \"/>\n<path clip-path=\"url(#clip360)\" d=\"M122.913 1435.05 Q119.302 1435.05 117.473 1438.61 Q115.668 1442.16 115.668 1449.29 Q115.668 1456.39 117.473 1459.96 Q119.302 1463.5 122.913 1463.5 Q126.547 1463.5 128.353 1459.96 Q130.182 1456.39 130.182 1449.29 Q130.182 1442.16 128.353 1438.61 Q126.547 1435.05 122.913 1435.05 M122.913 1431.35 Q128.723 1431.35 131.779 1435.95 Q134.857 1440.54 134.857 1449.29 Q134.857 1458.01 131.779 1462.62 Q128.723 1467.2 122.913 1467.2 Q117.103 1467.2 114.024 1462.62 Q110.969 1458.01 110.969 1449.29 Q110.969 1440.54 114.024 1435.95 Q117.103 1431.35 122.913 1431.35 Z\" fill=\"#000000\" fill-rule=\"evenodd\" fill-opacity=\"1\" /><path clip-path=\"url(#clip360)\" d=\"M53.3995 1109.02 L61.0384 1109.02 L61.0384 1082.65 L52.7282 1084.32 L52.7282 1080.06 L60.9921 1078.39 L65.668 1078.39 L65.668 1109.02 L73.3068 1109.02 L73.3068 1112.95 L53.3995 1112.95 L53.3995 1109.02 Z\" fill=\"#000000\" fill-rule=\"evenodd\" fill-opacity=\"1\" /><path clip-path=\"url(#clip360)\" d=\"M92.7512 1081.47 Q89.1401 1081.47 87.3114 1085.04 Q85.5058 1088.58 85.5058 1095.71 Q85.5058 1102.81 87.3114 1106.38 Q89.1401 1109.92 92.7512 1109.92 Q96.3854 1109.92 98.1909 1106.38 Q100.02 1102.81 100.02 1095.71 Q100.02 1088.58 98.1909 1085.04 Q96.3854 1081.47 92.7512 1081.47 M92.7512 1077.77 Q98.5613 1077.77 101.617 1082.37 Q104.696 1086.96 104.696 1095.71 Q104.696 1104.44 101.617 1109.04 Q98.5613 1113.62 92.7512 1113.62 Q86.941 1113.62 83.8623 1109.04 Q80.8068 1104.44 80.8068 1095.71 Q80.8068 1086.96 83.8623 1082.37 Q86.941 1077.77 92.7512 1077.77 Z\" fill=\"#000000\" fill-rule=\"evenodd\" fill-opacity=\"1\" /><path clip-path=\"url(#clip360)\" d=\"M122.913 1081.47 Q119.302 1081.47 117.473 1085.04 Q115.668 1088.58 115.668 1095.71 Q115.668 1102.81 117.473 1106.38 Q119.302 1109.92 122.913 1109.92 Q126.547 1109.92 128.353 1106.38 Q130.182 1102.81 130.182 1095.71 Q130.182 1088.58 128.353 1085.04 Q126.547 1081.47 122.913 1081.47 M122.913 1077.77 Q128.723 1077.77 131.779 1082.37 Q134.857 1086.96 134.857 1095.71 Q134.857 1104.44 131.779 1109.04 Q128.723 1113.62 122.913 1113.62 Q117.103 1113.62 114.024 1109.04 Q110.969 1104.44 110.969 1095.71 Q110.969 1086.96 114.024 1082.37 Q117.103 1077.77 122.913 1077.77 Z\" fill=\"#000000\" fill-rule=\"evenodd\" fill-opacity=\"1\" /><path clip-path=\"url(#clip360)\" d=\"M56.6171 755.44 L72.9365 755.44 L72.9365 759.376 L50.9921 759.376 L50.9921 755.44 Q53.6541 752.686 58.2375 748.056 Q62.8439 743.403 64.0245 742.061 Q66.2698 739.538 67.1494 737.802 Q68.0522 736.042 68.0522 734.353 Q68.0522 731.598 66.1078 729.862 Q64.1865 728.126 61.0847 728.126 Q58.8856 728.126 56.4319 728.89 Q54.0014 729.653 51.2236 731.204 L51.2236 726.482 Q54.0477 725.348 56.5014 724.769 Q58.955 724.191 60.9921 724.191 Q66.3624 724.191 69.5568 726.876 Q72.7513 729.561 72.7513 734.052 Q72.7513 736.181 71.9411 738.102 Q71.1541 740.001 69.0476 742.593 Q68.4689 743.265 65.367 746.482 Q62.2652 749.677 56.6171 755.44 Z\" fill=\"#000000\" fill-rule=\"evenodd\" fill-opacity=\"1\" /><path clip-path=\"url(#clip360)\" d=\"M92.7512 727.894 Q89.1401 727.894 87.3114 731.459 Q85.5058 735.001 85.5058 742.13 Q85.5058 749.237 87.3114 752.801 Q89.1401 756.343 92.7512 756.343 Q96.3854 756.343 98.1909 752.801 Q100.02 749.237 100.02 742.13 Q100.02 735.001 98.1909 731.459 Q96.3854 727.894 92.7512 727.894 M92.7512 724.191 Q98.5613 724.191 101.617 728.797 Q104.696 733.38 104.696 742.13 Q104.696 750.857 101.617 755.464 Q98.5613 760.047 92.7512 760.047 Q86.941 760.047 83.8623 755.464 Q80.8068 750.857 80.8068 742.13 Q80.8068 733.38 83.8623 728.797 Q86.941 724.191 92.7512 724.191 Z\" fill=\"#000000\" fill-rule=\"evenodd\" fill-opacity=\"1\" /><path clip-path=\"url(#clip360)\" d=\"M122.913 727.894 Q119.302 727.894 117.473 731.459 Q115.668 735.001 115.668 742.13 Q115.668 749.237 117.473 752.801 Q119.302 756.343 122.913 756.343 Q126.547 756.343 128.353 752.801 Q130.182 749.237 130.182 742.13 Q130.182 735.001 128.353 731.459 Q126.547 727.894 122.913 727.894 M122.913 724.191 Q128.723 724.191 131.779 728.797 Q134.857 733.38 134.857 742.13 Q134.857 750.857 131.779 755.464 Q128.723 760.047 122.913 760.047 Q117.103 760.047 114.024 755.464 Q110.969 750.857 110.969 742.13 Q110.969 733.38 114.024 728.797 Q117.103 724.191 122.913 724.191 Z\" fill=\"#000000\" fill-rule=\"evenodd\" fill-opacity=\"1\" /><path clip-path=\"url(#clip360)\" d=\"M66.7559 387.163 Q70.1124 387.881 71.9874 390.149 Q73.8855 392.418 73.8855 395.751 Q73.8855 400.867 70.367 403.668 Q66.8485 406.469 60.3671 406.469 Q58.1912 406.469 55.8764 406.029 Q53.5847 405.612 51.131 404.756 L51.131 400.242 Q53.0754 401.376 55.3903 401.955 Q57.7051 402.534 60.2282 402.534 Q64.6263 402.534 66.918 400.798 Q69.2328 399.061 69.2328 395.751 Q69.2328 392.696 67.08 390.983 Q64.9504 389.247 61.131 389.247 L57.1032 389.247 L57.1032 385.404 L61.3161 385.404 Q64.7652 385.404 66.5939 384.038 Q68.4226 382.65 68.4226 380.057 Q68.4226 377.395 66.5245 375.983 Q64.6495 374.548 61.131 374.548 Q59.2097 374.548 57.0106 374.964 Q54.8115 375.381 52.1727 376.261 L52.1727 372.094 Q54.8347 371.353 57.1495 370.983 Q59.4875 370.613 61.5476 370.613 Q66.8717 370.613 69.9735 373.043 Q73.0753 375.45 73.0753 379.571 Q73.0753 382.441 71.4318 384.432 Q69.7883 386.4 66.7559 387.163 Z\" fill=\"#000000\" fill-rule=\"evenodd\" fill-opacity=\"1\" /><path clip-path=\"url(#clip360)\" d=\"M92.7512 374.316 Q89.1401 374.316 87.3114 377.881 Q85.5058 381.423 85.5058 388.552 Q85.5058 395.659 87.3114 399.224 Q89.1401 402.765 92.7512 402.765 Q96.3854 402.765 98.1909 399.224 Q100.02 395.659 100.02 388.552 Q100.02 381.423 98.1909 377.881 Q96.3854 374.316 92.7512 374.316 M92.7512 370.613 Q98.5613 370.613 101.617 375.219 Q104.696 379.802 104.696 388.552 Q104.696 397.279 101.617 401.886 Q98.5613 406.469 92.7512 406.469 Q86.941 406.469 83.8623 401.886 Q80.8068 397.279 80.8068 388.552 Q80.8068 379.802 83.8623 375.219 Q86.941 370.613 92.7512 370.613 Z\" fill=\"#000000\" fill-rule=\"evenodd\" fill-opacity=\"1\" /><path clip-path=\"url(#clip360)\" d=\"M122.913 374.316 Q119.302 374.316 117.473 377.881 Q115.668 381.423 115.668 388.552 Q115.668 395.659 117.473 399.224 Q119.302 402.765 122.913 402.765 Q126.547 402.765 128.353 399.224 Q130.182 395.659 130.182 388.552 Q130.182 381.423 128.353 377.881 Q126.547 374.316 122.913 374.316 M122.913 370.613 Q128.723 370.613 131.779 375.219 Q134.857 379.802 134.857 388.552 Q134.857 397.279 131.779 401.886 Q128.723 406.469 122.913 406.469 Q117.103 406.469 114.024 401.886 Q110.969 397.279 110.969 388.552 Q110.969 379.802 114.024 375.219 Q117.103 370.613 122.913 370.613 Z\" fill=\"#000000\" fill-rule=\"evenodd\" fill-opacity=\"1\" /><polyline clip-path=\"url(#clip362)\" style=\"stroke:#009af9; stroke-linecap:butt; stroke-linejoin:round; stroke-width:4; stroke-opacity:1; fill:none\" points=\"\n  232.609,1445.72 461.32,1431.57 690.03,1399.75 918.741,1343.18 1147.45,1254.78 1376.16,1127.5 1604.87,954.242 1833.58,727.952 2062.29,441.554 2291,87.9763 \n  \n  \"/>\n<path clip-path=\"url(#clip360)\" d=\"\nM1985.16 198.898 L2280.03 198.898 L2280.03 95.2176 L1985.16 95.2176  Z\n  \" fill=\"#ffffff\" fill-rule=\"evenodd\" fill-opacity=\"1\"/>\n<polyline clip-path=\"url(#clip360)\" style=\"stroke:#000000; stroke-linecap:butt; stroke-linejoin:round; stroke-width:4; stroke-opacity:1; fill:none\" points=\"\n  1985.16,198.898 2280.03,198.898 2280.03,95.2176 1985.16,95.2176 1985.16,198.898 \n  \"/>\n<polyline clip-path=\"url(#clip360)\" style=\"stroke:#009af9; stroke-linecap:butt; stroke-linejoin:round; stroke-width:4; stroke-opacity:1; fill:none\" points=\"\n  2009.41,147.058 2154.87,147.058 \n  \"/>\n<path clip-path=\"url(#clip360)\" d=\"M2192.95 166.745 Q2191.15 171.375 2189.43 172.787 Q2187.72 174.199 2184.85 174.199 L2181.45 174.199 L2181.45 170.634 L2183.95 170.634 Q2185.71 170.634 2186.68 169.8 Q2187.65 168.967 2188.83 165.865 L2189.6 163.921 L2179.11 138.412 L2183.62 138.412 L2191.72 158.689 L2199.83 138.412 L2204.34 138.412 L2192.95 166.745 Z\" fill=\"#000000\" fill-rule=\"evenodd\" fill-opacity=\"1\" /><path clip-path=\"url(#clip360)\" d=\"M2211.63 160.402 L2219.27 160.402 L2219.27 134.037 L2210.96 135.703 L2210.96 131.444 L2219.22 129.778 L2223.9 129.778 L2223.9 160.402 L2231.54 160.402 L2231.54 164.338 L2211.63 164.338 L2211.63 160.402 Z\" fill=\"#000000\" fill-rule=\"evenodd\" fill-opacity=\"1\" /></svg>\n",
      "text/html": [
       "<?xml version=\"1.0\" encoding=\"utf-8\"?>\n",
       "<svg xmlns=\"http://www.w3.org/2000/svg\" xmlns:xlink=\"http://www.w3.org/1999/xlink\" width=\"600\" height=\"400\" viewBox=\"0 0 2400 1600\">\n",
       "<defs>\n",
       "  <clipPath id=\"clip410\">\n",
       "    <rect x=\"0\" y=\"0\" width=\"2400\" height=\"1600\"/>\n",
       "  </clipPath>\n",
       "</defs>\n",
       "<path clip-path=\"url(#clip410)\" d=\"\n",
       "M0 1600 L2400 1600 L2400 0 L0 0  Z\n",
       "  \" fill=\"#ffffff\" fill-rule=\"evenodd\" fill-opacity=\"1\"/>\n",
       "<defs>\n",
       "  <clipPath id=\"clip411\">\n",
       "    <rect x=\"480\" y=\"0\" width=\"1681\" height=\"1600\"/>\n",
       "  </clipPath>\n",
       "</defs>\n",
       "<path clip-path=\"url(#clip410)\" d=\"\n",
       "M170.857 1486.45 L2352.76 1486.45 L2352.76 47.2441 L170.857 47.2441  Z\n",
       "  \" fill=\"#ffffff\" fill-rule=\"evenodd\" fill-opacity=\"1\"/>\n",
       "<defs>\n",
       "  <clipPath id=\"clip412\">\n",
       "    <rect x=\"170\" y=\"47\" width=\"2183\" height=\"1440\"/>\n",
       "  </clipPath>\n",
       "</defs>\n",
       "<polyline clip-path=\"url(#clip412)\" style=\"stroke:#000000; stroke-linecap:butt; stroke-linejoin:round; stroke-width:2; stroke-opacity:0.1; fill:none\" points=\"\n",
       "  461.32,1486.45 461.32,47.2441 \n",
       "  \"/>\n",
       "<polyline clip-path=\"url(#clip412)\" style=\"stroke:#000000; stroke-linecap:butt; stroke-linejoin:round; stroke-width:2; stroke-opacity:0.1; fill:none\" points=\"\n",
       "  918.741,1486.45 918.741,47.2441 \n",
       "  \"/>\n",
       "<polyline clip-path=\"url(#clip412)\" style=\"stroke:#000000; stroke-linecap:butt; stroke-linejoin:round; stroke-width:2; stroke-opacity:0.1; fill:none\" points=\"\n",
       "  1376.16,1486.45 1376.16,47.2441 \n",
       "  \"/>\n",
       "<polyline clip-path=\"url(#clip412)\" style=\"stroke:#000000; stroke-linecap:butt; stroke-linejoin:round; stroke-width:2; stroke-opacity:0.1; fill:none\" points=\"\n",
       "  1833.58,1486.45 1833.58,47.2441 \n",
       "  \"/>\n",
       "<polyline clip-path=\"url(#clip412)\" style=\"stroke:#000000; stroke-linecap:butt; stroke-linejoin:round; stroke-width:2; stroke-opacity:0.1; fill:none\" points=\"\n",
       "  2291,1486.45 2291,47.2441 \n",
       "  \"/>\n",
       "<polyline clip-path=\"url(#clip410)\" style=\"stroke:#000000; stroke-linecap:butt; stroke-linejoin:round; stroke-width:4; stroke-opacity:1; fill:none\" points=\"\n",
       "  170.857,1486.45 2352.76,1486.45 \n",
       "  \"/>\n",
       "<polyline clip-path=\"url(#clip410)\" style=\"stroke:#000000; stroke-linecap:butt; stroke-linejoin:round; stroke-width:4; stroke-opacity:1; fill:none\" points=\"\n",
       "  461.32,1486.45 461.32,1467.55 \n",
       "  \"/>\n",
       "<polyline clip-path=\"url(#clip410)\" style=\"stroke:#000000; stroke-linecap:butt; stroke-linejoin:round; stroke-width:4; stroke-opacity:1; fill:none\" points=\"\n",
       "  918.741,1486.45 918.741,1467.55 \n",
       "  \"/>\n",
       "<polyline clip-path=\"url(#clip410)\" style=\"stroke:#000000; stroke-linecap:butt; stroke-linejoin:round; stroke-width:4; stroke-opacity:1; fill:none\" points=\"\n",
       "  1376.16,1486.45 1376.16,1467.55 \n",
       "  \"/>\n",
       "<polyline clip-path=\"url(#clip410)\" style=\"stroke:#000000; stroke-linecap:butt; stroke-linejoin:round; stroke-width:4; stroke-opacity:1; fill:none\" points=\"\n",
       "  1833.58,1486.45 1833.58,1467.55 \n",
       "  \"/>\n",
       "<polyline clip-path=\"url(#clip410)\" style=\"stroke:#000000; stroke-linecap:butt; stroke-linejoin:round; stroke-width:4; stroke-opacity:1; fill:none\" points=\"\n",
       "  2291,1486.45 2291,1467.55 \n",
       "  \"/>\n",
       "<path clip-path=\"url(#clip410)\" d=\"M455.973 1544.91 L472.292 1544.91 L472.292 1548.85 L450.348 1548.85 L450.348 1544.91 Q453.01 1542.16 457.593 1537.53 Q462.199 1532.88 463.38 1531.53 Q465.625 1529.01 466.505 1527.27 Q467.408 1525.51 467.408 1523.82 Q467.408 1521.07 465.463 1519.33 Q463.542 1517.6 460.44 1517.6 Q458.241 1517.6 455.787 1518.36 Q453.357 1519.13 450.579 1520.68 L450.579 1515.95 Q453.403 1514.82 455.857 1514.24 Q458.311 1513.66 460.348 1513.66 Q465.718 1513.66 468.912 1516.35 Q472.107 1519.03 472.107 1523.52 Q472.107 1525.65 471.297 1527.57 Q470.51 1529.47 468.403 1532.07 Q467.824 1532.74 464.723 1535.95 Q461.621 1539.15 455.973 1544.91 Z\" fill=\"#000000\" fill-rule=\"evenodd\" fill-opacity=\"1\" /><path clip-path=\"url(#clip410)\" d=\"M921.75 1518.36 L909.945 1536.81 L921.75 1536.81 L921.75 1518.36 M920.523 1514.29 L926.403 1514.29 L926.403 1536.81 L931.333 1536.81 L931.333 1540.7 L926.403 1540.7 L926.403 1548.85 L921.75 1548.85 L921.75 1540.7 L906.148 1540.7 L906.148 1536.19 L920.523 1514.29 Z\" fill=\"#000000\" fill-rule=\"evenodd\" fill-opacity=\"1\" /><path clip-path=\"url(#clip410)\" d=\"M1376.57 1529.7 Q1373.42 1529.7 1371.57 1531.86 Q1369.74 1534.01 1369.74 1537.76 Q1369.74 1541.49 1371.57 1543.66 Q1373.42 1545.82 1376.57 1545.82 Q1379.72 1545.82 1381.54 1543.66 Q1383.4 1541.49 1383.4 1537.76 Q1383.4 1534.01 1381.54 1531.86 Q1379.72 1529.7 1376.57 1529.7 M1385.85 1515.05 L1385.85 1519.31 Q1384.09 1518.48 1382.28 1518.04 Q1380.5 1517.6 1378.74 1517.6 Q1374.11 1517.6 1371.66 1520.72 Q1369.23 1523.85 1368.88 1530.17 Q1370.25 1528.15 1372.31 1527.09 Q1374.37 1526 1376.84 1526 Q1382.05 1526 1385.06 1529.17 Q1388.09 1532.32 1388.09 1537.76 Q1388.09 1543.08 1384.95 1546.3 Q1381.8 1549.52 1376.57 1549.52 Q1370.57 1549.52 1367.4 1544.94 Q1364.23 1540.33 1364.23 1531.6 Q1364.23 1523.41 1368.12 1518.55 Q1372.01 1513.66 1378.56 1513.66 Q1380.32 1513.66 1382.1 1514.01 Q1383.9 1514.36 1385.85 1515.05 Z\" fill=\"#000000\" fill-rule=\"evenodd\" fill-opacity=\"1\" /><path clip-path=\"url(#clip410)\" d=\"M1833.58 1532.44 Q1830.25 1532.44 1828.33 1534.22 Q1826.43 1536 1826.43 1539.13 Q1826.43 1542.25 1828.33 1544.03 Q1830.25 1545.82 1833.58 1545.82 Q1836.92 1545.82 1838.84 1544.03 Q1840.76 1542.23 1840.76 1539.13 Q1840.76 1536 1838.84 1534.22 Q1836.94 1532.44 1833.58 1532.44 M1828.91 1530.45 Q1825.9 1529.7 1824.21 1527.64 Q1822.54 1525.58 1822.54 1522.62 Q1822.54 1518.48 1825.48 1516.07 Q1828.44 1513.66 1833.58 1513.66 Q1838.75 1513.66 1841.68 1516.07 Q1844.62 1518.48 1844.62 1522.62 Q1844.62 1525.58 1842.93 1527.64 Q1841.27 1529.7 1838.28 1530.45 Q1841.66 1531.23 1843.54 1533.52 Q1845.43 1535.82 1845.43 1539.13 Q1845.43 1544.15 1842.36 1546.83 Q1839.3 1549.52 1833.58 1549.52 Q1827.87 1549.52 1824.79 1546.83 Q1821.73 1544.15 1821.73 1539.13 Q1821.73 1535.82 1823.63 1533.52 Q1825.53 1531.23 1828.91 1530.45 M1827.19 1523.06 Q1827.19 1525.75 1828.86 1527.25 Q1830.55 1528.76 1833.58 1528.76 Q1836.59 1528.76 1838.28 1527.25 Q1839.99 1525.75 1839.99 1523.06 Q1839.99 1520.38 1838.28 1518.87 Q1836.59 1517.37 1833.58 1517.37 Q1830.55 1517.37 1828.86 1518.87 Q1827.19 1520.38 1827.19 1523.06 Z\" fill=\"#000000\" fill-rule=\"evenodd\" fill-opacity=\"1\" /><path clip-path=\"url(#clip410)\" d=\"M2265.69 1544.91 L2273.33 1544.91 L2273.33 1518.55 L2265.02 1520.21 L2265.02 1515.95 L2273.28 1514.29 L2277.96 1514.29 L2277.96 1544.91 L2285.6 1544.91 L2285.6 1548.85 L2265.69 1548.85 L2265.69 1544.91 Z\" fill=\"#000000\" fill-rule=\"evenodd\" fill-opacity=\"1\" /><path clip-path=\"url(#clip410)\" d=\"M2305.04 1517.37 Q2301.43 1517.37 2299.6 1520.93 Q2297.8 1524.47 2297.8 1531.6 Q2297.8 1538.71 2299.6 1542.27 Q2301.43 1545.82 2305.04 1545.82 Q2308.68 1545.82 2310.48 1542.27 Q2312.31 1538.71 2312.31 1531.6 Q2312.31 1524.47 2310.48 1520.93 Q2308.68 1517.37 2305.04 1517.37 M2305.04 1513.66 Q2310.85 1513.66 2313.91 1518.27 Q2316.99 1522.85 2316.99 1531.6 Q2316.99 1540.33 2313.91 1544.94 Q2310.85 1549.52 2305.04 1549.52 Q2299.23 1549.52 2296.15 1544.94 Q2293.1 1540.33 2293.1 1531.6 Q2293.1 1522.85 2296.15 1518.27 Q2299.23 1513.66 2305.04 1513.66 Z\" fill=\"#000000\" fill-rule=\"evenodd\" fill-opacity=\"1\" /><polyline clip-path=\"url(#clip412)\" style=\"stroke:#000000; stroke-linecap:butt; stroke-linejoin:round; stroke-width:2; stroke-opacity:0.1; fill:none\" points=\"\n",
       "  170.857,1449.25 2352.76,1449.25 \n",
       "  \"/>\n",
       "<polyline clip-path=\"url(#clip412)\" style=\"stroke:#000000; stroke-linecap:butt; stroke-linejoin:round; stroke-width:2; stroke-opacity:0.1; fill:none\" points=\"\n",
       "  170.857,1095.67 2352.76,1095.67 \n",
       "  \"/>\n",
       "<polyline clip-path=\"url(#clip412)\" style=\"stroke:#000000; stroke-linecap:butt; stroke-linejoin:round; stroke-width:2; stroke-opacity:0.1; fill:none\" points=\"\n",
       "  170.857,742.096 2352.76,742.096 \n",
       "  \"/>\n",
       "<polyline clip-path=\"url(#clip412)\" style=\"stroke:#000000; stroke-linecap:butt; stroke-linejoin:round; stroke-width:2; stroke-opacity:0.1; fill:none\" points=\"\n",
       "  170.857,388.518 2352.76,388.518 \n",
       "  \"/>\n",
       "<polyline clip-path=\"url(#clip410)\" style=\"stroke:#000000; stroke-linecap:butt; stroke-linejoin:round; stroke-width:4; stroke-opacity:1; fill:none\" points=\"\n",
       "  170.857,1486.45 170.857,47.2441 \n",
       "  \"/>\n",
       "<polyline clip-path=\"url(#clip410)\" style=\"stroke:#000000; stroke-linecap:butt; stroke-linejoin:round; stroke-width:4; stroke-opacity:1; fill:none\" points=\"\n",
       "  170.857,1449.25 189.755,1449.25 \n",
       "  \"/>\n",
       "<polyline clip-path=\"url(#clip410)\" style=\"stroke:#000000; stroke-linecap:butt; stroke-linejoin:round; stroke-width:4; stroke-opacity:1; fill:none\" points=\"\n",
       "  170.857,1095.67 189.755,1095.67 \n",
       "  \"/>\n",
       "<polyline clip-path=\"url(#clip410)\" style=\"stroke:#000000; stroke-linecap:butt; stroke-linejoin:round; stroke-width:4; stroke-opacity:1; fill:none\" points=\"\n",
       "  170.857,742.096 189.755,742.096 \n",
       "  \"/>\n",
       "<polyline clip-path=\"url(#clip410)\" style=\"stroke:#000000; stroke-linecap:butt; stroke-linejoin:round; stroke-width:4; stroke-opacity:1; fill:none\" points=\"\n",
       "  170.857,388.518 189.755,388.518 \n",
       "  \"/>\n",
       "<path clip-path=\"url(#clip410)\" d=\"M122.913 1435.05 Q119.302 1435.05 117.473 1438.61 Q115.668 1442.16 115.668 1449.29 Q115.668 1456.39 117.473 1459.96 Q119.302 1463.5 122.913 1463.5 Q126.547 1463.5 128.353 1459.96 Q130.182 1456.39 130.182 1449.29 Q130.182 1442.16 128.353 1438.61 Q126.547 1435.05 122.913 1435.05 M122.913 1431.35 Q128.723 1431.35 131.779 1435.95 Q134.857 1440.54 134.857 1449.29 Q134.857 1458.01 131.779 1462.62 Q128.723 1467.2 122.913 1467.2 Q117.103 1467.2 114.024 1462.62 Q110.969 1458.01 110.969 1449.29 Q110.969 1440.54 114.024 1435.95 Q117.103 1431.35 122.913 1431.35 Z\" fill=\"#000000\" fill-rule=\"evenodd\" fill-opacity=\"1\" /><path clip-path=\"url(#clip410)\" d=\"M53.3995 1109.02 L61.0384 1109.02 L61.0384 1082.65 L52.7282 1084.32 L52.7282 1080.06 L60.9921 1078.39 L65.668 1078.39 L65.668 1109.02 L73.3068 1109.02 L73.3068 1112.95 L53.3995 1112.95 L53.3995 1109.02 Z\" fill=\"#000000\" fill-rule=\"evenodd\" fill-opacity=\"1\" /><path clip-path=\"url(#clip410)\" d=\"M92.7512 1081.47 Q89.1401 1081.47 87.3114 1085.04 Q85.5058 1088.58 85.5058 1095.71 Q85.5058 1102.81 87.3114 1106.38 Q89.1401 1109.92 92.7512 1109.92 Q96.3854 1109.92 98.1909 1106.38 Q100.02 1102.81 100.02 1095.71 Q100.02 1088.58 98.1909 1085.04 Q96.3854 1081.47 92.7512 1081.47 M92.7512 1077.77 Q98.5613 1077.77 101.617 1082.37 Q104.696 1086.96 104.696 1095.71 Q104.696 1104.44 101.617 1109.04 Q98.5613 1113.62 92.7512 1113.62 Q86.941 1113.62 83.8623 1109.04 Q80.8068 1104.44 80.8068 1095.71 Q80.8068 1086.96 83.8623 1082.37 Q86.941 1077.77 92.7512 1077.77 Z\" fill=\"#000000\" fill-rule=\"evenodd\" fill-opacity=\"1\" /><path clip-path=\"url(#clip410)\" d=\"M122.913 1081.47 Q119.302 1081.47 117.473 1085.04 Q115.668 1088.58 115.668 1095.71 Q115.668 1102.81 117.473 1106.38 Q119.302 1109.92 122.913 1109.92 Q126.547 1109.92 128.353 1106.38 Q130.182 1102.81 130.182 1095.71 Q130.182 1088.58 128.353 1085.04 Q126.547 1081.47 122.913 1081.47 M122.913 1077.77 Q128.723 1077.77 131.779 1082.37 Q134.857 1086.96 134.857 1095.71 Q134.857 1104.44 131.779 1109.04 Q128.723 1113.62 122.913 1113.62 Q117.103 1113.62 114.024 1109.04 Q110.969 1104.44 110.969 1095.71 Q110.969 1086.96 114.024 1082.37 Q117.103 1077.77 122.913 1077.77 Z\" fill=\"#000000\" fill-rule=\"evenodd\" fill-opacity=\"1\" /><path clip-path=\"url(#clip410)\" d=\"M56.6171 755.44 L72.9365 755.44 L72.9365 759.376 L50.9921 759.376 L50.9921 755.44 Q53.6541 752.686 58.2375 748.056 Q62.8439 743.403 64.0245 742.061 Q66.2698 739.538 67.1494 737.802 Q68.0522 736.042 68.0522 734.353 Q68.0522 731.598 66.1078 729.862 Q64.1865 728.126 61.0847 728.126 Q58.8856 728.126 56.4319 728.89 Q54.0014 729.653 51.2236 731.204 L51.2236 726.482 Q54.0477 725.348 56.5014 724.769 Q58.955 724.191 60.9921 724.191 Q66.3624 724.191 69.5568 726.876 Q72.7513 729.561 72.7513 734.052 Q72.7513 736.181 71.9411 738.102 Q71.1541 740.001 69.0476 742.593 Q68.4689 743.265 65.367 746.482 Q62.2652 749.677 56.6171 755.44 Z\" fill=\"#000000\" fill-rule=\"evenodd\" fill-opacity=\"1\" /><path clip-path=\"url(#clip410)\" d=\"M92.7512 727.894 Q89.1401 727.894 87.3114 731.459 Q85.5058 735.001 85.5058 742.13 Q85.5058 749.237 87.3114 752.801 Q89.1401 756.343 92.7512 756.343 Q96.3854 756.343 98.1909 752.801 Q100.02 749.237 100.02 742.13 Q100.02 735.001 98.1909 731.459 Q96.3854 727.894 92.7512 727.894 M92.7512 724.191 Q98.5613 724.191 101.617 728.797 Q104.696 733.38 104.696 742.13 Q104.696 750.857 101.617 755.464 Q98.5613 760.047 92.7512 760.047 Q86.941 760.047 83.8623 755.464 Q80.8068 750.857 80.8068 742.13 Q80.8068 733.38 83.8623 728.797 Q86.941 724.191 92.7512 724.191 Z\" fill=\"#000000\" fill-rule=\"evenodd\" fill-opacity=\"1\" /><path clip-path=\"url(#clip410)\" d=\"M122.913 727.894 Q119.302 727.894 117.473 731.459 Q115.668 735.001 115.668 742.13 Q115.668 749.237 117.473 752.801 Q119.302 756.343 122.913 756.343 Q126.547 756.343 128.353 752.801 Q130.182 749.237 130.182 742.13 Q130.182 735.001 128.353 731.459 Q126.547 727.894 122.913 727.894 M122.913 724.191 Q128.723 724.191 131.779 728.797 Q134.857 733.38 134.857 742.13 Q134.857 750.857 131.779 755.464 Q128.723 760.047 122.913 760.047 Q117.103 760.047 114.024 755.464 Q110.969 750.857 110.969 742.13 Q110.969 733.38 114.024 728.797 Q117.103 724.191 122.913 724.191 Z\" fill=\"#000000\" fill-rule=\"evenodd\" fill-opacity=\"1\" /><path clip-path=\"url(#clip410)\" d=\"M66.7559 387.163 Q70.1124 387.881 71.9874 390.149 Q73.8855 392.418 73.8855 395.751 Q73.8855 400.867 70.367 403.668 Q66.8485 406.469 60.3671 406.469 Q58.1912 406.469 55.8764 406.029 Q53.5847 405.612 51.131 404.756 L51.131 400.242 Q53.0754 401.376 55.3903 401.955 Q57.7051 402.534 60.2282 402.534 Q64.6263 402.534 66.918 400.798 Q69.2328 399.061 69.2328 395.751 Q69.2328 392.696 67.08 390.983 Q64.9504 389.247 61.131 389.247 L57.1032 389.247 L57.1032 385.404 L61.3161 385.404 Q64.7652 385.404 66.5939 384.038 Q68.4226 382.65 68.4226 380.057 Q68.4226 377.395 66.5245 375.983 Q64.6495 374.548 61.131 374.548 Q59.2097 374.548 57.0106 374.964 Q54.8115 375.381 52.1727 376.261 L52.1727 372.094 Q54.8347 371.353 57.1495 370.983 Q59.4875 370.613 61.5476 370.613 Q66.8717 370.613 69.9735 373.043 Q73.0753 375.45 73.0753 379.571 Q73.0753 382.441 71.4318 384.432 Q69.7883 386.4 66.7559 387.163 Z\" fill=\"#000000\" fill-rule=\"evenodd\" fill-opacity=\"1\" /><path clip-path=\"url(#clip410)\" d=\"M92.7512 374.316 Q89.1401 374.316 87.3114 377.881 Q85.5058 381.423 85.5058 388.552 Q85.5058 395.659 87.3114 399.224 Q89.1401 402.765 92.7512 402.765 Q96.3854 402.765 98.1909 399.224 Q100.02 395.659 100.02 388.552 Q100.02 381.423 98.1909 377.881 Q96.3854 374.316 92.7512 374.316 M92.7512 370.613 Q98.5613 370.613 101.617 375.219 Q104.696 379.802 104.696 388.552 Q104.696 397.279 101.617 401.886 Q98.5613 406.469 92.7512 406.469 Q86.941 406.469 83.8623 401.886 Q80.8068 397.279 80.8068 388.552 Q80.8068 379.802 83.8623 375.219 Q86.941 370.613 92.7512 370.613 Z\" fill=\"#000000\" fill-rule=\"evenodd\" fill-opacity=\"1\" /><path clip-path=\"url(#clip410)\" d=\"M122.913 374.316 Q119.302 374.316 117.473 377.881 Q115.668 381.423 115.668 388.552 Q115.668 395.659 117.473 399.224 Q119.302 402.765 122.913 402.765 Q126.547 402.765 128.353 399.224 Q130.182 395.659 130.182 388.552 Q130.182 381.423 128.353 377.881 Q126.547 374.316 122.913 374.316 M122.913 370.613 Q128.723 370.613 131.779 375.219 Q134.857 379.802 134.857 388.552 Q134.857 397.279 131.779 401.886 Q128.723 406.469 122.913 406.469 Q117.103 406.469 114.024 401.886 Q110.969 397.279 110.969 388.552 Q110.969 379.802 114.024 375.219 Q117.103 370.613 122.913 370.613 Z\" fill=\"#000000\" fill-rule=\"evenodd\" fill-opacity=\"1\" /><polyline clip-path=\"url(#clip412)\" style=\"stroke:#009af9; stroke-linecap:butt; stroke-linejoin:round; stroke-width:4; stroke-opacity:1; fill:none\" points=\"\n",
       "  232.609,1445.72 461.32,1431.57 690.03,1399.75 918.741,1343.18 1147.45,1254.78 1376.16,1127.5 1604.87,954.242 1833.58,727.952 2062.29,441.554 2291,87.9763 \n",
       "  \n",
       "  \"/>\n",
       "<path clip-path=\"url(#clip410)\" d=\"\n",
       "M1985.16 198.898 L2280.03 198.898 L2280.03 95.2176 L1985.16 95.2176  Z\n",
       "  \" fill=\"#ffffff\" fill-rule=\"evenodd\" fill-opacity=\"1\"/>\n",
       "<polyline clip-path=\"url(#clip410)\" style=\"stroke:#000000; stroke-linecap:butt; stroke-linejoin:round; stroke-width:4; stroke-opacity:1; fill:none\" points=\"\n",
       "  1985.16,198.898 2280.03,198.898 2280.03,95.2176 1985.16,95.2176 1985.16,198.898 \n",
       "  \"/>\n",
       "<polyline clip-path=\"url(#clip410)\" style=\"stroke:#009af9; stroke-linecap:butt; stroke-linejoin:round; stroke-width:4; stroke-opacity:1; fill:none\" points=\"\n",
       "  2009.41,147.058 2154.87,147.058 \n",
       "  \"/>\n",
       "<path clip-path=\"url(#clip410)\" d=\"M2192.95 166.745 Q2191.15 171.375 2189.43 172.787 Q2187.72 174.199 2184.85 174.199 L2181.45 174.199 L2181.45 170.634 L2183.95 170.634 Q2185.71 170.634 2186.68 169.8 Q2187.65 168.967 2188.83 165.865 L2189.6 163.921 L2179.11 138.412 L2183.62 138.412 L2191.72 158.689 L2199.83 138.412 L2204.34 138.412 L2192.95 166.745 Z\" fill=\"#000000\" fill-rule=\"evenodd\" fill-opacity=\"1\" /><path clip-path=\"url(#clip410)\" d=\"M2211.63 160.402 L2219.27 160.402 L2219.27 134.037 L2210.96 135.703 L2210.96 131.444 L2219.22 129.778 L2223.9 129.778 L2223.9 160.402 L2231.54 160.402 L2231.54 164.338 L2211.63 164.338 L2211.63 160.402 Z\" fill=\"#000000\" fill-rule=\"evenodd\" fill-opacity=\"1\" /></svg>\n"
      ]
     },
     "metadata": {},
     "output_type": "display_data"
    }
   ],
   "source": [
    "using Plots\n",
    "gr()\n",
    "plot(log)"
   ]
  },
  {
   "cell_type": "code",
   "execution_count": 7,
   "metadata": {},
   "outputs": [
    {
     "data": {
      "text/plain": [
       "10-element Vector{Float64}:\n",
       "   1.0\n",
       "   5.0\n",
       "  14.0\n",
       "  30.0\n",
       "  55.0\n",
       "  91.0\n",
       " 140.0\n",
       " 204.0\n",
       " 285.0\n",
       " 385.0"
      ]
     },
     "metadata": {},
     "output_type": "display_data"
    }
   ],
   "source": [
    "log"
   ]
  }
 ],
 "metadata": {
  "kernelspec": {
   "display_name": "Julia 1.8.0-rc4",
   "language": "julia",
   "name": "julia-1.8"
  },
  "language_info": {
   "file_extension": ".jl",
   "mimetype": "application/julia",
   "name": "julia",
   "version": "1.8.0-rc4"
  },
  "orig_nbformat": 4,
  "vscode": {
   "interpreter": {
    "hash": "b0fa6594d8f4cbf19f97940f81e996739fb7646882a419484c72d19e05852a7e"
   }
  }
 },
 "nbformat": 4,
 "nbformat_minor": 2
}
